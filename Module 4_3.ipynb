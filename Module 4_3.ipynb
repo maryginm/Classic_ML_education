{
 "cells": [
  {
   "cell_type": "code",
   "execution_count": 1288,
   "id": "51a22909",
   "metadata": {},
   "outputs": [],
   "source": [
    "import pandas as pd\n",
    "import numpy as np\n",
    "import matplotlib.pyplot as plt\n",
    "import seaborn as sns\n",
    "from sklearn.linear_model import LogisticRegression\n",
    "from sklearn.model_selection import train_test_split\n",
    "from sklearn.metrics import classification_report\n",
    "from sklearn.metrics import roc_auc_score, accuracy_score\n",
    "from sklearn.preprocessing import LabelEncoder, OneHotEncoder\n",
    "from sklearn.preprocessing import MinMaxScaler\n",
    "from sklearn.pipeline import make_pipeline\n",
    "from imblearn.over_sampling import SMOTE"
   ]
  },
  {
   "cell_type": "code",
   "execution_count": 1289,
   "id": "3fd39424",
   "metadata": {},
   "outputs": [],
   "source": [
    "load = pd.read_csv(\"salary.csv\")"
   ]
  },
  {
   "cell_type": "code",
   "execution_count": 1290,
   "id": "820b1c71",
   "metadata": {},
   "outputs": [],
   "source": [
    "data_in = load.copy()"
   ]
  },
  {
   "cell_type": "code",
   "execution_count": 1291,
   "id": "fe2b3bb0",
   "metadata": {},
   "outputs": [
    {
     "data": {
      "text/html": [
       "<div>\n",
       "<style scoped>\n",
       "    .dataframe tbody tr th:only-of-type {\n",
       "        vertical-align: middle;\n",
       "    }\n",
       "\n",
       "    .dataframe tbody tr th {\n",
       "        vertical-align: top;\n",
       "    }\n",
       "\n",
       "    .dataframe thead th {\n",
       "        text-align: right;\n",
       "    }\n",
       "</style>\n",
       "<table border=\"1\" class=\"dataframe\">\n",
       "  <thead>\n",
       "    <tr style=\"text-align: right;\">\n",
       "      <th></th>\n",
       "      <th>age</th>\n",
       "      <th>workclass</th>\n",
       "      <th>fnlwgt</th>\n",
       "      <th>education</th>\n",
       "      <th>education-num</th>\n",
       "      <th>marital-status</th>\n",
       "      <th>occupation</th>\n",
       "      <th>relationship</th>\n",
       "      <th>race</th>\n",
       "      <th>sex</th>\n",
       "      <th>capital-gain</th>\n",
       "      <th>capital-loss</th>\n",
       "      <th>hours-per-week</th>\n",
       "      <th>native-country</th>\n",
       "      <th>salary</th>\n",
       "    </tr>\n",
       "  </thead>\n",
       "  <tbody>\n",
       "    <tr>\n",
       "      <th>0</th>\n",
       "      <td>39</td>\n",
       "      <td>State-gov</td>\n",
       "      <td>77516</td>\n",
       "      <td>Bachelors</td>\n",
       "      <td>13</td>\n",
       "      <td>Never-married</td>\n",
       "      <td>Adm-clerical</td>\n",
       "      <td>Not-in-family</td>\n",
       "      <td>White</td>\n",
       "      <td>Male</td>\n",
       "      <td>2174</td>\n",
       "      <td>0</td>\n",
       "      <td>40</td>\n",
       "      <td>United-States</td>\n",
       "      <td>&lt;=50K</td>\n",
       "    </tr>\n",
       "    <tr>\n",
       "      <th>1</th>\n",
       "      <td>50</td>\n",
       "      <td>Self-emp-not-inc</td>\n",
       "      <td>83311</td>\n",
       "      <td>Bachelors</td>\n",
       "      <td>13</td>\n",
       "      <td>Married-civ-spouse</td>\n",
       "      <td>Exec-managerial</td>\n",
       "      <td>Husband</td>\n",
       "      <td>White</td>\n",
       "      <td>Male</td>\n",
       "      <td>0</td>\n",
       "      <td>0</td>\n",
       "      <td>13</td>\n",
       "      <td>United-States</td>\n",
       "      <td>&lt;=50K</td>\n",
       "    </tr>\n",
       "    <tr>\n",
       "      <th>2</th>\n",
       "      <td>38</td>\n",
       "      <td>Private</td>\n",
       "      <td>215646</td>\n",
       "      <td>HS-grad</td>\n",
       "      <td>9</td>\n",
       "      <td>Divorced</td>\n",
       "      <td>Handlers-cleaners</td>\n",
       "      <td>Not-in-family</td>\n",
       "      <td>White</td>\n",
       "      <td>Male</td>\n",
       "      <td>0</td>\n",
       "      <td>0</td>\n",
       "      <td>40</td>\n",
       "      <td>United-States</td>\n",
       "      <td>&lt;=50K</td>\n",
       "    </tr>\n",
       "    <tr>\n",
       "      <th>3</th>\n",
       "      <td>53</td>\n",
       "      <td>Private</td>\n",
       "      <td>234721</td>\n",
       "      <td>11th</td>\n",
       "      <td>7</td>\n",
       "      <td>Married-civ-spouse</td>\n",
       "      <td>Handlers-cleaners</td>\n",
       "      <td>Husband</td>\n",
       "      <td>Black</td>\n",
       "      <td>Male</td>\n",
       "      <td>0</td>\n",
       "      <td>0</td>\n",
       "      <td>40</td>\n",
       "      <td>United-States</td>\n",
       "      <td>&lt;=50K</td>\n",
       "    </tr>\n",
       "    <tr>\n",
       "      <th>4</th>\n",
       "      <td>28</td>\n",
       "      <td>Private</td>\n",
       "      <td>338409</td>\n",
       "      <td>Bachelors</td>\n",
       "      <td>13</td>\n",
       "      <td>Married-civ-spouse</td>\n",
       "      <td>Prof-specialty</td>\n",
       "      <td>Wife</td>\n",
       "      <td>Black</td>\n",
       "      <td>Female</td>\n",
       "      <td>0</td>\n",
       "      <td>0</td>\n",
       "      <td>40</td>\n",
       "      <td>Cuba</td>\n",
       "      <td>&lt;=50K</td>\n",
       "    </tr>\n",
       "  </tbody>\n",
       "</table>\n",
       "</div>"
      ],
      "text/plain": [
       "   age          workclass  fnlwgt   education  education-num  \\\n",
       "0   39          State-gov   77516   Bachelors             13   \n",
       "1   50   Self-emp-not-inc   83311   Bachelors             13   \n",
       "2   38            Private  215646     HS-grad              9   \n",
       "3   53            Private  234721        11th              7   \n",
       "4   28            Private  338409   Bachelors             13   \n",
       "\n",
       "        marital-status          occupation    relationship    race      sex  \\\n",
       "0        Never-married        Adm-clerical   Not-in-family   White     Male   \n",
       "1   Married-civ-spouse     Exec-managerial         Husband   White     Male   \n",
       "2             Divorced   Handlers-cleaners   Not-in-family   White     Male   \n",
       "3   Married-civ-spouse   Handlers-cleaners         Husband   Black     Male   \n",
       "4   Married-civ-spouse      Prof-specialty            Wife   Black   Female   \n",
       "\n",
       "   capital-gain  capital-loss  hours-per-week  native-country  salary  \n",
       "0          2174             0              40   United-States   <=50K  \n",
       "1             0             0              13   United-States   <=50K  \n",
       "2             0             0              40   United-States   <=50K  \n",
       "3             0             0              40   United-States   <=50K  \n",
       "4             0             0              40            Cuba   <=50K  "
      ]
     },
     "execution_count": 1291,
     "metadata": {},
     "output_type": "execute_result"
    }
   ],
   "source": [
    "data_in.head()"
   ]
  },
  {
   "cell_type": "code",
   "execution_count": 1292,
   "id": "89920ebf",
   "metadata": {},
   "outputs": [
    {
     "data": {
      "text/html": [
       "<div>\n",
       "<style scoped>\n",
       "    .dataframe tbody tr th:only-of-type {\n",
       "        vertical-align: middle;\n",
       "    }\n",
       "\n",
       "    .dataframe tbody tr th {\n",
       "        vertical-align: top;\n",
       "    }\n",
       "\n",
       "    .dataframe thead th {\n",
       "        text-align: right;\n",
       "    }\n",
       "</style>\n",
       "<table border=\"1\" class=\"dataframe\">\n",
       "  <thead>\n",
       "    <tr style=\"text-align: right;\">\n",
       "      <th></th>\n",
       "      <th>age</th>\n",
       "      <th>fnlwgt</th>\n",
       "      <th>education-num</th>\n",
       "      <th>capital-gain</th>\n",
       "      <th>capital-loss</th>\n",
       "      <th>hours-per-week</th>\n",
       "    </tr>\n",
       "  </thead>\n",
       "  <tbody>\n",
       "    <tr>\n",
       "      <th>count</th>\n",
       "      <td>32561.000000</td>\n",
       "      <td>3.256100e+04</td>\n",
       "      <td>32561.000000</td>\n",
       "      <td>32561.000000</td>\n",
       "      <td>32561.000000</td>\n",
       "      <td>32561.000000</td>\n",
       "    </tr>\n",
       "    <tr>\n",
       "      <th>mean</th>\n",
       "      <td>38.581647</td>\n",
       "      <td>1.897784e+05</td>\n",
       "      <td>10.080679</td>\n",
       "      <td>1077.648844</td>\n",
       "      <td>87.303830</td>\n",
       "      <td>40.437456</td>\n",
       "    </tr>\n",
       "    <tr>\n",
       "      <th>std</th>\n",
       "      <td>13.640433</td>\n",
       "      <td>1.055500e+05</td>\n",
       "      <td>2.572720</td>\n",
       "      <td>7385.292085</td>\n",
       "      <td>402.960219</td>\n",
       "      <td>12.347429</td>\n",
       "    </tr>\n",
       "    <tr>\n",
       "      <th>min</th>\n",
       "      <td>17.000000</td>\n",
       "      <td>1.228500e+04</td>\n",
       "      <td>1.000000</td>\n",
       "      <td>0.000000</td>\n",
       "      <td>0.000000</td>\n",
       "      <td>1.000000</td>\n",
       "    </tr>\n",
       "    <tr>\n",
       "      <th>25%</th>\n",
       "      <td>28.000000</td>\n",
       "      <td>1.178270e+05</td>\n",
       "      <td>9.000000</td>\n",
       "      <td>0.000000</td>\n",
       "      <td>0.000000</td>\n",
       "      <td>40.000000</td>\n",
       "    </tr>\n",
       "    <tr>\n",
       "      <th>50%</th>\n",
       "      <td>37.000000</td>\n",
       "      <td>1.783560e+05</td>\n",
       "      <td>10.000000</td>\n",
       "      <td>0.000000</td>\n",
       "      <td>0.000000</td>\n",
       "      <td>40.000000</td>\n",
       "    </tr>\n",
       "    <tr>\n",
       "      <th>75%</th>\n",
       "      <td>48.000000</td>\n",
       "      <td>2.370510e+05</td>\n",
       "      <td>12.000000</td>\n",
       "      <td>0.000000</td>\n",
       "      <td>0.000000</td>\n",
       "      <td>45.000000</td>\n",
       "    </tr>\n",
       "    <tr>\n",
       "      <th>max</th>\n",
       "      <td>90.000000</td>\n",
       "      <td>1.484705e+06</td>\n",
       "      <td>16.000000</td>\n",
       "      <td>99999.000000</td>\n",
       "      <td>4356.000000</td>\n",
       "      <td>99.000000</td>\n",
       "    </tr>\n",
       "  </tbody>\n",
       "</table>\n",
       "</div>"
      ],
      "text/plain": [
       "                age        fnlwgt  education-num  capital-gain  capital-loss  \\\n",
       "count  32561.000000  3.256100e+04   32561.000000  32561.000000  32561.000000   \n",
       "mean      38.581647  1.897784e+05      10.080679   1077.648844     87.303830   \n",
       "std       13.640433  1.055500e+05       2.572720   7385.292085    402.960219   \n",
       "min       17.000000  1.228500e+04       1.000000      0.000000      0.000000   \n",
       "25%       28.000000  1.178270e+05       9.000000      0.000000      0.000000   \n",
       "50%       37.000000  1.783560e+05      10.000000      0.000000      0.000000   \n",
       "75%       48.000000  2.370510e+05      12.000000      0.000000      0.000000   \n",
       "max       90.000000  1.484705e+06      16.000000  99999.000000   4356.000000   \n",
       "\n",
       "       hours-per-week  \n",
       "count    32561.000000  \n",
       "mean        40.437456  \n",
       "std         12.347429  \n",
       "min          1.000000  \n",
       "25%         40.000000  \n",
       "50%         40.000000  \n",
       "75%         45.000000  \n",
       "max         99.000000  "
      ]
     },
     "execution_count": 1292,
     "metadata": {},
     "output_type": "execute_result"
    }
   ],
   "source": [
    "data_in.describe()"
   ]
  },
  {
   "cell_type": "code",
   "execution_count": 1293,
   "id": "f0ee1201",
   "metadata": {},
   "outputs": [
    {
     "data": {
      "text/html": [
       "<div>\n",
       "<style scoped>\n",
       "    .dataframe tbody tr th:only-of-type {\n",
       "        vertical-align: middle;\n",
       "    }\n",
       "\n",
       "    .dataframe tbody tr th {\n",
       "        vertical-align: top;\n",
       "    }\n",
       "\n",
       "    .dataframe thead th {\n",
       "        text-align: right;\n",
       "    }\n",
       "</style>\n",
       "<table border=\"1\" class=\"dataframe\">\n",
       "  <thead>\n",
       "    <tr style=\"text-align: right;\">\n",
       "      <th></th>\n",
       "      <th>workclass</th>\n",
       "      <th>education</th>\n",
       "      <th>marital-status</th>\n",
       "      <th>occupation</th>\n",
       "      <th>relationship</th>\n",
       "      <th>race</th>\n",
       "      <th>sex</th>\n",
       "      <th>native-country</th>\n",
       "      <th>salary</th>\n",
       "    </tr>\n",
       "  </thead>\n",
       "  <tbody>\n",
       "    <tr>\n",
       "      <th>count</th>\n",
       "      <td>32561</td>\n",
       "      <td>32561</td>\n",
       "      <td>32561</td>\n",
       "      <td>32561</td>\n",
       "      <td>32561</td>\n",
       "      <td>32561</td>\n",
       "      <td>32561</td>\n",
       "      <td>32561</td>\n",
       "      <td>32561</td>\n",
       "    </tr>\n",
       "    <tr>\n",
       "      <th>unique</th>\n",
       "      <td>9</td>\n",
       "      <td>16</td>\n",
       "      <td>7</td>\n",
       "      <td>15</td>\n",
       "      <td>6</td>\n",
       "      <td>5</td>\n",
       "      <td>2</td>\n",
       "      <td>42</td>\n",
       "      <td>2</td>\n",
       "    </tr>\n",
       "    <tr>\n",
       "      <th>top</th>\n",
       "      <td>Private</td>\n",
       "      <td>HS-grad</td>\n",
       "      <td>Married-civ-spouse</td>\n",
       "      <td>Prof-specialty</td>\n",
       "      <td>Husband</td>\n",
       "      <td>White</td>\n",
       "      <td>Male</td>\n",
       "      <td>United-States</td>\n",
       "      <td>&lt;=50K</td>\n",
       "    </tr>\n",
       "    <tr>\n",
       "      <th>freq</th>\n",
       "      <td>22696</td>\n",
       "      <td>10501</td>\n",
       "      <td>14976</td>\n",
       "      <td>4140</td>\n",
       "      <td>13193</td>\n",
       "      <td>27816</td>\n",
       "      <td>21790</td>\n",
       "      <td>29170</td>\n",
       "      <td>24720</td>\n",
       "    </tr>\n",
       "  </tbody>\n",
       "</table>\n",
       "</div>"
      ],
      "text/plain": [
       "       workclass education       marital-status       occupation relationship  \\\n",
       "count      32561     32561                32561            32561        32561   \n",
       "unique         9        16                    7               15            6   \n",
       "top      Private   HS-grad   Married-civ-spouse   Prof-specialty      Husband   \n",
       "freq       22696     10501                14976             4140        13193   \n",
       "\n",
       "          race    sex  native-country  salary  \n",
       "count    32561  32561           32561   32561  \n",
       "unique       5      2              42       2  \n",
       "top      White   Male   United-States   <=50K  \n",
       "freq     27816  21790           29170   24720  "
      ]
     },
     "execution_count": 1293,
     "metadata": {},
     "output_type": "execute_result"
    }
   ],
   "source": [
    "data_in.select_dtypes('object').describe()"
   ]
  },
  {
   "cell_type": "code",
   "execution_count": 1294,
   "id": "f2f4216d",
   "metadata": {},
   "outputs": [
    {
     "name": "stdout",
     "output_type": "stream",
     "text": [
      "<class 'pandas.core.frame.DataFrame'>\n",
      "RangeIndex: 32561 entries, 0 to 32560\n",
      "Data columns (total 15 columns):\n",
      " #   Column          Non-Null Count  Dtype \n",
      "---  ------          --------------  ----- \n",
      " 0   age             32561 non-null  int64 \n",
      " 1   workclass       32561 non-null  object\n",
      " 2   fnlwgt          32561 non-null  int64 \n",
      " 3   education       32561 non-null  object\n",
      " 4   education-num   32561 non-null  int64 \n",
      " 5   marital-status  32561 non-null  object\n",
      " 6   occupation      32561 non-null  object\n",
      " 7   relationship    32561 non-null  object\n",
      " 8   race            32561 non-null  object\n",
      " 9   sex             32561 non-null  object\n",
      " 10  capital-gain    32561 non-null  int64 \n",
      " 11  capital-loss    32561 non-null  int64 \n",
      " 12  hours-per-week  32561 non-null  int64 \n",
      " 13  native-country  32561 non-null  object\n",
      " 14  salary          32561 non-null  object\n",
      "dtypes: int64(6), object(9)\n",
      "memory usage: 3.7+ MB\n"
     ]
    }
   ],
   "source": [
    "data_in.info()"
   ]
  },
  {
   "cell_type": "code",
   "execution_count": 1295,
   "id": "2d0f5506",
   "metadata": {},
   "outputs": [],
   "source": [
    "# Encoder который не разбивает фрейм\n",
    "class MyEncoder():\n",
    "    def __init__(self, columns=None):\n",
    "        self.columns = columns\n",
    "    \n",
    "    def __repr__(self):\n",
    "        return f'MyEncoder метод LabelEncoder'\n",
    "    \n",
    "    def fit_transform(self, data):\n",
    "        if not self.columns:\n",
    "            for column in data.select_dtypes('object'):\n",
    "                encoder = LabelEncoder()\n",
    "                data[column] = encoder.fit_transform(data[column])        \n",
    "        else:\n",
    "            for column in self.columns:\n",
    "                encoder = LabelEncoder()\n",
    "                data[column] = encoder.fit_transform(data[column])\n",
    "        print('Выполнено')\n",
    "        return data\n",
    "\n",
    "    \n",
    "# Scaler который не разбивает фрейм   \n",
    "class MyScaler():\n",
    "    def __init__(self, columns=None):\n",
    "        self.columns = columns\n",
    "    \n",
    "    def __repr__(self):\n",
    "        return f'MyScaler метод MinMax scale'\n",
    "\n",
    "    \n",
    "    def fit_transform(self, data_in):\n",
    "        data = data_in\n",
    "        if not self.columns:\n",
    "            for column in data:\n",
    "                scaler = MinMaxScaler()\n",
    "                data[column] = scaler.fit_transform(data[column].values.reshape(-1, 1))\n",
    "        else:\n",
    "            for column in self.columns:\n",
    "                scaler = MinMaxScaler()\n",
    "                data[column] = scaler.fit_transform(data[column].values.reshape(-1, 1))\n",
    "        print('Выполнено')\n",
    "        return data\n",
    "\n",
    "    \n",
    "# Split для подачи в пайп    \n",
    "class MySplitter():\n",
    "    def __repr__(self):\n",
    "        return f'MySplitter метод train_test_split'\n",
    "    \n",
    "    def __init__(self, target):\n",
    "        self.target = target\n",
    "    \n",
    "    def fit_transform(self, data):\n",
    "        X_train, X_test, y_train, y_test = train_test_split(data.drop(columns=self.target), \n",
    "                                                            data[self.target], \n",
    "                                                            random_state=42, \n",
    "                                                            test_size=0.3)\n",
    "        print('Выполнено')\n",
    "        return X_train, X_test, y_train, y_test\n",
    "\n",
    "\n",
    "# Регрессия для подачи в пайп\n",
    "class MyRegressor():       \n",
    "    def __repr__(self):\n",
    "        return f'MyRegressor метод LogisticRegression'\n",
    "    \n",
    "    def __init__(self, X_test=None, y_test=None):\n",
    "        self.X_test = X_test\n",
    "        self.y_test = y_test\n",
    "        \n",
    "    def fit_transform(self, data_splitted):\n",
    "        if len(data_splitted) != 4:\n",
    "            X_train, y_train = data_splitted\n",
    "            X_test = self.X_test\n",
    "            y_test = self.y_test\n",
    "        else:\n",
    "            X_train, X_test, y_train, y_test = data_splitted\n",
    "            \n",
    "        for new in X_train.columns[~X_train.columns.isin(X_test.columns)].values:\n",
    "            X_test[new] = 0\n",
    "        X_test = X_test.reindex(columns = X_train.columns)\n",
    "            \n",
    "        self.model = LogisticRegression(max_iter=10000)\n",
    "        self.model.fit(X_train, y_train)\n",
    "        predict_proba = self.model.predict_proba(X_test)[:,1]\n",
    "        print('Выполнено')\n",
    "        return predict_proba, y_test\n",
    "\n",
    "\n",
    "# Оценщик для подачи в пайп    \n",
    "class MyScores():\n",
    "    def __init__(self, name):\n",
    "        self.name = name\n",
    "        \n",
    "    def __repr__(self):\n",
    "        return f'MyScores: Precision | Recall | F-score | ROC_AUC-score'\n",
    "    \n",
    "    def fit_transform(self, predictions):\n",
    "        predict_proba, y_test = predictions\n",
    "        \n",
    "        report = classification_report(y_test, predict_proba.round().astype(int), output_dict=True)\n",
    "        \n",
    "        roc_auc = roc_auc_score(y_test, predict_proba)\n",
    "        \n",
    "        results = pd.DataFrame(columns = ['Precision', 'Recall', 'F-score', 'Accuracy','ROC_AUC', \n",
    "                                          'Precision Target', 'Recall Target', 'F-score Target'])\n",
    "        \n",
    "        accuracy = accuracy_score(y_test, predict_proba.round().astype(int))\n",
    "        \n",
    "        results.loc[self.name] = [report['macro avg']['precision'], \n",
    "                                 report['macro avg']['recall'], \n",
    "                                 report['macro avg']['f1-score'],\n",
    "                                 accuracy,\n",
    "                                 round(roc_auc, 2), \n",
    "                                 report['1.0']['precision'], \n",
    "                                 report['1.0']['recall'], \n",
    "                                 report['1.0']['f1-score']]\n",
    "        print('Выполнено')\n",
    "        return results\n",
    "                            \n",
    "\n",
    "# Кастомный пайп для смешанных классов\n",
    "class MyPipe():\n",
    "    def __init__(self, *args):\n",
    "        self.steps = args\n",
    "        \n",
    "    def __repr__(self):\n",
    "        return str(self.steps).replace(', ', '\\n').strip('()')\n",
    "        \n",
    "    def fit_transform(self, data):\n",
    "        for counter, step in enumerate(self.steps):\n",
    "            print(f'Step {counter + 1}/{len(self.steps)}: {step}')\n",
    "            \n",
    "            data = step.fit_transform(data)\n",
    "        return data"
   ]
  },
  {
   "cell_type": "markdown",
   "id": "bb06ba3e",
   "metadata": {},
   "source": [
    "\n",
    "1. <h5>Получите базовое решение</h5>\n"
   ]
  },
  {
   "cell_type": "code",
   "execution_count": 1296,
   "id": "cc57b29f",
   "metadata": {},
   "outputs": [],
   "source": [
    "# Через пайп сделаем прямой LabelEncode, MinMax scale, обучим базовую модель, проведем оценку метрик\n",
    "\n",
    "base_pipe = MyPipe(MyEncoder(),\n",
    "                  MyScaler(),\n",
    "                  MySplitter('salary'),\n",
    "                  MyRegressor(),\n",
    "                  MyScores('Base'))"
   ]
  },
  {
   "cell_type": "code",
   "execution_count": 1297,
   "id": "c7352776",
   "metadata": {},
   "outputs": [
    {
     "data": {
      "text/plain": [
       "MyEncoder метод LabelEncoder\n",
       "MyScaler метод MinMax scale\n",
       "MySplitter метод train_test_split\n",
       "MyRegressor метод LogisticRegression\n",
       "MyScores: Precision | Recall | F-score | ROC_AUC-score"
      ]
     },
     "execution_count": 1297,
     "metadata": {},
     "output_type": "execute_result"
    }
   ],
   "source": [
    "base_pipe"
   ]
  },
  {
   "cell_type": "code",
   "execution_count": 1298,
   "id": "3f378184",
   "metadata": {},
   "outputs": [
    {
     "name": "stdout",
     "output_type": "stream",
     "text": [
      "Step 1/5: MyEncoder метод LabelEncoder\n",
      "Выполнено\n",
      "Step 2/5: MyScaler метод MinMax scale\n",
      "Выполнено\n",
      "Step 3/5: MySplitter метод train_test_split\n",
      "Выполнено\n",
      "Step 4/5: MyRegressor метод LogisticRegression\n",
      "Выполнено\n",
      "Step 5/5: MyScores: Precision | Recall | F-score | ROC_AUC-score\n",
      "Выполнено\n"
     ]
    }
   ],
   "source": [
    "base_result = base_pipe.fit_transform(data_in)"
   ]
  },
  {
   "cell_type": "code",
   "execution_count": 1299,
   "id": "f903f73e",
   "metadata": {},
   "outputs": [
    {
     "data": {
      "text/html": [
       "<div>\n",
       "<style scoped>\n",
       "    .dataframe tbody tr th:only-of-type {\n",
       "        vertical-align: middle;\n",
       "    }\n",
       "\n",
       "    .dataframe tbody tr th {\n",
       "        vertical-align: top;\n",
       "    }\n",
       "\n",
       "    .dataframe thead th {\n",
       "        text-align: right;\n",
       "    }\n",
       "</style>\n",
       "<table border=\"1\" class=\"dataframe\">\n",
       "  <thead>\n",
       "    <tr style=\"text-align: right;\">\n",
       "      <th></th>\n",
       "      <th>Precision</th>\n",
       "      <th>Recall</th>\n",
       "      <th>F-score</th>\n",
       "      <th>Accuracy</th>\n",
       "      <th>ROC_AUC</th>\n",
       "      <th>Precision Target</th>\n",
       "      <th>Recall Target</th>\n",
       "      <th>F-score Target</th>\n",
       "    </tr>\n",
       "  </thead>\n",
       "  <tbody>\n",
       "    <tr>\n",
       "      <th>Base</th>\n",
       "      <td>0.777405</td>\n",
       "      <td>0.692646</td>\n",
       "      <td>0.71796</td>\n",
       "      <td>0.824956</td>\n",
       "      <td>0.85</td>\n",
       "      <td>0.710014</td>\n",
       "      <td>0.441227</td>\n",
       "      <td>0.544243</td>\n",
       "    </tr>\n",
       "  </tbody>\n",
       "</table>\n",
       "</div>"
      ],
      "text/plain": [
       "      Precision    Recall  F-score  Accuracy  ROC_AUC  Precision Target  \\\n",
       "Base   0.777405  0.692646  0.71796  0.824956     0.85          0.710014   \n",
       "\n",
       "      Recall Target  F-score Target  \n",
       "Base       0.441227        0.544243  "
      ]
     },
     "execution_count": 1299,
     "metadata": {},
     "output_type": "execute_result"
    }
   ],
   "source": [
    "base_result"
   ]
  },
  {
   "cell_type": "markdown",
   "id": "b09054fe",
   "metadata": {},
   "source": [
    "2. <h5>Проведите первичный и визуальный анализ данных</h5>"
   ]
  },
  {
   "cell_type": "code",
   "execution_count": 1300,
   "id": "79856722",
   "metadata": {},
   "outputs": [],
   "source": [
    "# Cначала заргрузим копию данных до обработки\n",
    "data_work = load.copy()"
   ]
  },
  {
   "cell_type": "code",
   "execution_count": 1301,
   "id": "c04c2b9b",
   "metadata": {},
   "outputs": [
    {
     "name": "stdout",
     "output_type": "stream",
     "text": [
      "Выполнено\n"
     ]
    }
   ],
   "source": [
    "# Сразу разобьем данные на тест и валидацию используя готовый класс\n",
    "split = MySplitter('salary')\n",
    "X_train, X_test, y_train, y_test = split.fit_transform(data_work)"
   ]
  },
  {
   "cell_type": "code",
   "execution_count": 1302,
   "id": "9da86ae9",
   "metadata": {},
   "outputs": [],
   "source": [
    "# Для удобства обработки объедиим данные в 2 фрейма.\n",
    "data_train = X_train.join(y_train)\n",
    "data_test = X_test.join(y_test)"
   ]
  },
  {
   "cell_type": "code",
   "execution_count": 1303,
   "id": "b6c5461d",
   "metadata": {},
   "outputs": [
    {
     "data": {
      "text/html": [
       "<div>\n",
       "<style scoped>\n",
       "    .dataframe tbody tr th:only-of-type {\n",
       "        vertical-align: middle;\n",
       "    }\n",
       "\n",
       "    .dataframe tbody tr th {\n",
       "        vertical-align: top;\n",
       "    }\n",
       "\n",
       "    .dataframe thead th {\n",
       "        text-align: right;\n",
       "    }\n",
       "</style>\n",
       "<table border=\"1\" class=\"dataframe\">\n",
       "  <thead>\n",
       "    <tr style=\"text-align: right;\">\n",
       "      <th></th>\n",
       "      <th>age</th>\n",
       "      <th>fnlwgt</th>\n",
       "      <th>education-num</th>\n",
       "      <th>capital-gain</th>\n",
       "      <th>capital-loss</th>\n",
       "      <th>hours-per-week</th>\n",
       "    </tr>\n",
       "  </thead>\n",
       "  <tbody>\n",
       "    <tr>\n",
       "      <th>count</th>\n",
       "      <td>22792.000000</td>\n",
       "      <td>2.279200e+04</td>\n",
       "      <td>22792.000000</td>\n",
       "      <td>22792.000000</td>\n",
       "      <td>22792.000000</td>\n",
       "      <td>22792.000000</td>\n",
       "    </tr>\n",
       "    <tr>\n",
       "      <th>mean</th>\n",
       "      <td>38.568050</td>\n",
       "      <td>1.896914e+05</td>\n",
       "      <td>10.091216</td>\n",
       "      <td>1045.572613</td>\n",
       "      <td>89.470648</td>\n",
       "      <td>40.384565</td>\n",
       "    </tr>\n",
       "    <tr>\n",
       "      <th>std</th>\n",
       "      <td>13.645603</td>\n",
       "      <td>1.056332e+05</td>\n",
       "      <td>2.578429</td>\n",
       "      <td>7144.535491</td>\n",
       "      <td>406.839418</td>\n",
       "      <td>12.288751</td>\n",
       "    </tr>\n",
       "    <tr>\n",
       "      <th>min</th>\n",
       "      <td>17.000000</td>\n",
       "      <td>1.228500e+04</td>\n",
       "      <td>1.000000</td>\n",
       "      <td>0.000000</td>\n",
       "      <td>0.000000</td>\n",
       "      <td>1.000000</td>\n",
       "    </tr>\n",
       "    <tr>\n",
       "      <th>25%</th>\n",
       "      <td>28.000000</td>\n",
       "      <td>1.177890e+05</td>\n",
       "      <td>9.000000</td>\n",
       "      <td>0.000000</td>\n",
       "      <td>0.000000</td>\n",
       "      <td>40.000000</td>\n",
       "    </tr>\n",
       "    <tr>\n",
       "      <th>50%</th>\n",
       "      <td>37.000000</td>\n",
       "      <td>1.782330e+05</td>\n",
       "      <td>10.000000</td>\n",
       "      <td>0.000000</td>\n",
       "      <td>0.000000</td>\n",
       "      <td>40.000000</td>\n",
       "    </tr>\n",
       "    <tr>\n",
       "      <th>75%</th>\n",
       "      <td>48.000000</td>\n",
       "      <td>2.373080e+05</td>\n",
       "      <td>12.000000</td>\n",
       "      <td>0.000000</td>\n",
       "      <td>0.000000</td>\n",
       "      <td>45.000000</td>\n",
       "    </tr>\n",
       "    <tr>\n",
       "      <th>max</th>\n",
       "      <td>90.000000</td>\n",
       "      <td>1.484705e+06</td>\n",
       "      <td>16.000000</td>\n",
       "      <td>99999.000000</td>\n",
       "      <td>4356.000000</td>\n",
       "      <td>99.000000</td>\n",
       "    </tr>\n",
       "  </tbody>\n",
       "</table>\n",
       "</div>"
      ],
      "text/plain": [
       "                age        fnlwgt  education-num  capital-gain  capital-loss  \\\n",
       "count  22792.000000  2.279200e+04   22792.000000  22792.000000  22792.000000   \n",
       "mean      38.568050  1.896914e+05      10.091216   1045.572613     89.470648   \n",
       "std       13.645603  1.056332e+05       2.578429   7144.535491    406.839418   \n",
       "min       17.000000  1.228500e+04       1.000000      0.000000      0.000000   \n",
       "25%       28.000000  1.177890e+05       9.000000      0.000000      0.000000   \n",
       "50%       37.000000  1.782330e+05      10.000000      0.000000      0.000000   \n",
       "75%       48.000000  2.373080e+05      12.000000      0.000000      0.000000   \n",
       "max       90.000000  1.484705e+06      16.000000  99999.000000   4356.000000   \n",
       "\n",
       "       hours-per-week  \n",
       "count    22792.000000  \n",
       "mean        40.384565  \n",
       "std         12.288751  \n",
       "min          1.000000  \n",
       "25%         40.000000  \n",
       "50%         40.000000  \n",
       "75%         45.000000  \n",
       "max         99.000000  "
      ]
     },
     "execution_count": 1303,
     "metadata": {},
     "output_type": "execute_result"
    }
   ],
   "source": [
    "# Изучим количественные признаки\n",
    "data_train.describe()"
   ]
  },
  {
   "cell_type": "code",
   "execution_count": 1304,
   "id": "4d24e2d3",
   "metadata": {},
   "outputs": [
    {
     "data": {
      "image/png": "[encoded data removed]",
      "text/plain": [
       "<Figure size 432x288 with 1 Axes>"
      ]
     },
     "metadata": {
      "needs_background": "light"
     },
     "output_type": "display_data"
    }
   ],
   "source": [
    "# Баланс целевой характеристики\n",
    "train_balance = data_train['salary'].value_counts()\n",
    "sns.barplot(data = train_balance, x=train_balance.index, y=train_balance.values, label=train_balance)\n",
    "plt.legend()\n",
    "plt.show()"
   ]
  },
  {
   "cell_type": "code",
   "execution_count": 1305,
   "id": "2fc9f6f1",
   "metadata": {},
   "outputs": [
    {
     "data": {
      "image/png": "[encoded data removed]",
      "text/plain": [
       "<Figure size 432x288 with 1 Axes>"
      ]
     },
     "metadata": {
      "needs_background": "light"
     },
     "output_type": "display_data"
    },
    {
     "data": {
      "image/png": "[encoded data removed]",
      "text/plain": [
       "<Figure size 432x288 with 1 Axes>"
      ]
     },
     "metadata": {
      "needs_background": "light"
     },
     "output_type": "display_data"
    },
    {
     "data": {
      "image/png": "[encoded data removed]",
      "text/plain": [
       "<Figure size 432x288 with 1 Axes>"
      ]
     },
     "metadata": {
      "needs_background": "light"
     },
     "output_type": "display_data"
    },
    {
     "data": {
      "image/png": "[encoded data removed]",
      "text/plain": [
       "<Figure size 432x288 with 1 Axes>"
      ]
     },
     "metadata": {
      "needs_background": "light"
     },
     "output_type": "display_data"
    },
    {
     "data": {
      "image/png": "[encoded data removed]",
      "text/plain": [
       "<Figure size 432x288 with 1 Axes>"
      ]
     },
     "metadata": {
      "needs_background": "light"
     },
     "output_type": "display_data"
    },
    {
     "data": {
      "image/png": "[encoded data removed]",
      "text/plain": [
       "<Figure size 432x288 with 1 Axes>"
      ]
     },
     "metadata": {
      "needs_background": "light"
     },
     "output_type": "display_data"
    }
   ],
   "source": [
    "for column in data_work.select_dtypes('int64'):\n",
    "    sns.histplot(data = data_work, x=column)\n",
    "    plt.show()"
   ]
  },
  {
   "cell_type": "markdown",
   "id": "eb088050",
   "metadata": {},
   "source": [
    "<h5>Наметим план обработки данных:</h5>\n",
    " - age и hours-per-week разобьем на 4 категории через pd.cut.\n",
    " \n",
    " Границы категорий подберем такие, чтобы группы оказались близкие по численности. Важно разбивку сделать по тренеровочной выборке, а тестовую преобразовать уже по получившимся бинам, иначе получится, что мы передадим часть информации о численности групп из тренеровочной части в обучающую. Дальше эти свойства можно преобразовать через Lebel encoder.\n",
    " \n",
    " - целевой признак не сбалансирован, применим oversamplig по признаку Salary\n",
    " "
   ]
  },
  {
   "cell_type": "code",
   "execution_count": 1306,
   "id": "ff6d0578",
   "metadata": {},
   "outputs": [],
   "source": [
    "class MyTargetChanger():\n",
    "    def __init__(self, dct={}, target=None):\n",
    "        self.dct = dct\n",
    "        self.target = target\n",
    "\n",
    "        \n",
    "    def __repr__(self):\n",
    "        return f'MyTargetChanger: Прямая замена таргета'\n",
    "\n",
    "    \n",
    "    def fit_transform(self, data):\n",
    "        if self.dct:\n",
    "            data[self.target] = data[self.target].map(self.dct)\n",
    "        else:\n",
    "            for counter, el in enumerate(data[self.target].unique()):\n",
    "                self.dct[el] = counter\n",
    "            data[self.target] = data[self.target].map(self.dct)\n",
    "        return data     \n",
    "        \n",
    "\n",
    "# Сделаем свой класс для разделения выборки на равные части/на поданные части\n",
    "class MyCutter():\n",
    "    def __init__(self, columns=None, bins=None):\n",
    "        self.columns = columns\n",
    "        self.bins = bins\n",
    "        \n",
    "    def __repr__(self):\n",
    "        return f'MyCutter: метод cut/qcut'\n",
    "        \n",
    "    def fit_transform(self, data :pd.DataFrame):\n",
    "        dct_bins = {}\n",
    "        if self.columns:\n",
    "            if self.bins:\n",
    "                dct_bins = self.bins\n",
    "                for column in self.columns:\n",
    "                    data[column] = pd.cut(data[column], bins=dct_bins[column])\n",
    "            else:\n",
    "                for column in self.columns:\n",
    "                    res = pd.qcut(data[column], 4, retbins=True, duplicates='drop')\n",
    "                    data[column] = res[0].values\n",
    "                    dct_bins[column] = res[1]\n",
    "        self.dct_bins = dct_bins\n",
    "        return data\n",
    "\n",
    "    \n",
    "# Класс для логарифмирования\n",
    "class MyLog():\n",
    "    def __init__(self, columns = None):\n",
    "        self.columns = columns\n",
    "        \n",
    "    def __repr__(self):\n",
    "        return f'MyLog: метод np.log'\n",
    "    \n",
    "    def fit_transform(self, data):\n",
    "        if self.columns:\n",
    "            for column in self.columns:\n",
    "                data[column] = np.log(data[column].where(data[column] > 0, 0.0001))\n",
    "        else:\n",
    "            for column in data.select_dtype('int64'):\n",
    "                data[column] = np.log(data[column].where(data[column] > 0, 0.0001))\n",
    "        return data\n",
    "\n",
    "    \n",
    "# OneHotEncoder который умеет в пайплайн\n",
    "class MyHotencoder():\n",
    "    def __init__(self, columns=None):\n",
    "        self.columns = columns\n",
    "        \n",
    "    def __repr__(self):\n",
    "        return f'MyHotenc: метод GetDummies'\n",
    "    \n",
    "    def fit_transform(self, data):\n",
    "        if not self.columns:\n",
    "            columns = data.select_dtypes('object').columns.to_list()\n",
    "            data = pd.get_dummies(data, columns=columns)\n",
    "        else:\n",
    "            columns = self.columns\n",
    "            data = pd.get_dummies(data, columns=columns)\n",
    "        print('Выполнено')\n",
    "        return data\n",
    "    \n",
    "class MyOversampler():\n",
    "    def __init__(self, target):\n",
    "        self.target = target\n",
    "        \n",
    "    def __repr__(self):\n",
    "        return f'MyOversampler: метод SMOTE oversample'\n",
    "    \n",
    "    def fit_transform(self, data):\n",
    "        coef = data[self.target].value_counts().min() / sum(data[self.target].value_counts())\n",
    "        sampler = SMOTE(sampling_strategy=coef*2)\n",
    "        X, y = sampler.fit_resample(data.drop(columns=self.target), data[self.target])\n",
    "        data = X.join(y)\n",
    "        return data"
   ]
  },
  {
   "cell_type": "markdown",
   "id": "21b1a2ef",
   "metadata": {},
   "source": [
    "3. <h5>Сделайте предобработку данных</h5>"
   ]
  },
  {
   "cell_type": "markdown",
   "id": "ee79835c",
   "metadata": {},
   "source": [
    "<h5>Отедльно обработаем данные для трейн и тест выборок</h5>"
   ]
  },
  {
   "cell_type": "code",
   "execution_count": 1307,
   "id": "81eb321e",
   "metadata": {},
   "outputs": [],
   "source": [
    "train_cut = MyCutter(['age', 'hours-per-week']) # Создадим вне пайпа, чтобы потом забрать словарь разбиения в тестовый пайплайн \n",
    "train_changer = MyTargetChanger(target='salary')\n",
    "train_pipe = MyPipe(train_changer,\n",
    "                    train_cut, # 1 шаг: Разобьем age и hours-per-week на группы\n",
    "                    MyEncoder(['age', 'hours-per-week']), # 2 шаг: Перекодируем целевой признак\n",
    "                    MyHotencoder(), # 3 шаг: Закодируем все качественные данные в новые признаки с значением 0/1\n",
    "                    MyScaler(), # 4 шаг: Масштабируем данные\n",
    "                    MyOversampler('salary') # 5 шаг: Оверсэмплинг по целевому\n",
    "                   )"
   ]
  },
  {
   "cell_type": "code",
   "execution_count": 1308,
   "id": "5e664bee",
   "metadata": {},
   "outputs": [
    {
     "data": {
      "text/plain": [
       "MyTargetChanger: Прямая замена таргета\n",
       "MyCutter: метод cut/qcut\n",
       "MyEncoder метод LabelEncoder\n",
       "MyHotenc: метод GetDummies\n",
       "MyScaler метод MinMax scale\n",
       "MyOversampler: метод SMOTE oversample"
      ]
     },
     "execution_count": 1308,
     "metadata": {},
     "output_type": "execute_result"
    }
   ],
   "source": [
    "# Смотрим что зарядили в пайп\n",
    "train_pipe"
   ]
  },
  {
   "cell_type": "code",
   "execution_count": 1309,
   "id": "fd8ce221",
   "metadata": {},
   "outputs": [
    {
     "name": "stdout",
     "output_type": "stream",
     "text": [
      "Step 1/6: MyTargetChanger: Прямая замена таргета\n",
      "Step 2/6: MyCutter: метод cut/qcut\n",
      "Step 3/6: MyEncoder метод LabelEncoder\n",
      "Выполнено\n",
      "Step 4/6: MyHotenc: метод GetDummies\n",
      "Выполнено\n",
      "Step 5/6: MyScaler метод MinMax scale\n",
      "Выполнено\n",
      "Step 6/6: MyOversampler: метод SMOTE oversample\n"
     ]
    }
   ],
   "source": [
    "data_train = train_pipe.fit_transform(data_train)"
   ]
  },
  {
   "cell_type": "code",
   "execution_count": 1310,
   "id": "e5ce7690",
   "metadata": {},
   "outputs": [
    {
     "data": {
      "text/html": [
       "<div>\n",
       "<style scoped>\n",
       "    .dataframe tbody tr th:only-of-type {\n",
       "        vertical-align: middle;\n",
       "    }\n",
       "\n",
       "    .dataframe tbody tr th {\n",
       "        vertical-align: top;\n",
       "    }\n",
       "\n",
       "    .dataframe thead th {\n",
       "        text-align: right;\n",
       "    }\n",
       "</style>\n",
       "<table border=\"1\" class=\"dataframe\">\n",
       "  <thead>\n",
       "    <tr style=\"text-align: right;\">\n",
       "      <th></th>\n",
       "      <th>age</th>\n",
       "      <th>fnlwgt</th>\n",
       "      <th>education-num</th>\n",
       "      <th>capital-gain</th>\n",
       "      <th>capital-loss</th>\n",
       "      <th>hours-per-week</th>\n",
       "      <th>workclass_ ?</th>\n",
       "      <th>workclass_ Federal-gov</th>\n",
       "      <th>workclass_ Local-gov</th>\n",
       "      <th>workclass_ Never-worked</th>\n",
       "      <th>...</th>\n",
       "      <th>native-country_ Puerto-Rico</th>\n",
       "      <th>native-country_ Scotland</th>\n",
       "      <th>native-country_ South</th>\n",
       "      <th>native-country_ Taiwan</th>\n",
       "      <th>native-country_ Thailand</th>\n",
       "      <th>native-country_ Trinadad&amp;Tobago</th>\n",
       "      <th>native-country_ United-States</th>\n",
       "      <th>native-country_ Vietnam</th>\n",
       "      <th>native-country_ Yugoslavia</th>\n",
       "      <th>salary</th>\n",
       "    </tr>\n",
       "  </thead>\n",
       "  <tbody>\n",
       "    <tr>\n",
       "      <th>0</th>\n",
       "      <td>0.333333</td>\n",
       "      <td>0.030002</td>\n",
       "      <td>0.533333</td>\n",
       "      <td>0.000000</td>\n",
       "      <td>0.50023</td>\n",
       "      <td>0.0</td>\n",
       "      <td>0.0</td>\n",
       "      <td>0.0</td>\n",
       "      <td>0.0</td>\n",
       "      <td>0.0</td>\n",
       "      <td>...</td>\n",
       "      <td>0.0</td>\n",
       "      <td>0.0</td>\n",
       "      <td>0.0</td>\n",
       "      <td>0.0</td>\n",
       "      <td>0.0</td>\n",
       "      <td>0.0</td>\n",
       "      <td>1.0</td>\n",
       "      <td>0.0</td>\n",
       "      <td>0.0</td>\n",
       "      <td>0.0</td>\n",
       "    </tr>\n",
       "    <tr>\n",
       "      <th>1</th>\n",
       "      <td>0.666667</td>\n",
       "      <td>0.157120</td>\n",
       "      <td>0.600000</td>\n",
       "      <td>0.076881</td>\n",
       "      <td>0.00000</td>\n",
       "      <td>0.0</td>\n",
       "      <td>0.0</td>\n",
       "      <td>0.0</td>\n",
       "      <td>0.0</td>\n",
       "      <td>0.0</td>\n",
       "      <td>...</td>\n",
       "      <td>0.0</td>\n",
       "      <td>0.0</td>\n",
       "      <td>0.0</td>\n",
       "      <td>0.0</td>\n",
       "      <td>0.0</td>\n",
       "      <td>0.0</td>\n",
       "      <td>1.0</td>\n",
       "      <td>0.0</td>\n",
       "      <td>0.0</td>\n",
       "      <td>1.0</td>\n",
       "    </tr>\n",
       "    <tr>\n",
       "      <th>2</th>\n",
       "      <td>0.000000</td>\n",
       "      <td>0.029962</td>\n",
       "      <td>0.600000</td>\n",
       "      <td>0.000000</td>\n",
       "      <td>0.00000</td>\n",
       "      <td>0.0</td>\n",
       "      <td>0.0</td>\n",
       "      <td>0.0</td>\n",
       "      <td>0.0</td>\n",
       "      <td>0.0</td>\n",
       "      <td>...</td>\n",
       "      <td>0.0</td>\n",
       "      <td>0.0</td>\n",
       "      <td>0.0</td>\n",
       "      <td>0.0</td>\n",
       "      <td>0.0</td>\n",
       "      <td>0.0</td>\n",
       "      <td>1.0</td>\n",
       "      <td>0.0</td>\n",
       "      <td>0.0</td>\n",
       "      <td>0.0</td>\n",
       "    </tr>\n",
       "    <tr>\n",
       "      <th>3</th>\n",
       "      <td>1.000000</td>\n",
       "      <td>0.165117</td>\n",
       "      <td>0.533333</td>\n",
       "      <td>0.000000</td>\n",
       "      <td>0.00000</td>\n",
       "      <td>0.0</td>\n",
       "      <td>0.0</td>\n",
       "      <td>0.0</td>\n",
       "      <td>1.0</td>\n",
       "      <td>0.0</td>\n",
       "      <td>...</td>\n",
       "      <td>0.0</td>\n",
       "      <td>0.0</td>\n",
       "      <td>0.0</td>\n",
       "      <td>0.0</td>\n",
       "      <td>0.0</td>\n",
       "      <td>0.0</td>\n",
       "      <td>1.0</td>\n",
       "      <td>0.0</td>\n",
       "      <td>0.0</td>\n",
       "      <td>0.0</td>\n",
       "    </tr>\n",
       "    <tr>\n",
       "      <th>4</th>\n",
       "      <td>0.000000</td>\n",
       "      <td>0.193532</td>\n",
       "      <td>0.400000</td>\n",
       "      <td>0.000000</td>\n",
       "      <td>0.00000</td>\n",
       "      <td>0.0</td>\n",
       "      <td>0.0</td>\n",
       "      <td>0.0</td>\n",
       "      <td>0.0</td>\n",
       "      <td>0.0</td>\n",
       "      <td>...</td>\n",
       "      <td>0.0</td>\n",
       "      <td>0.0</td>\n",
       "      <td>0.0</td>\n",
       "      <td>0.0</td>\n",
       "      <td>0.0</td>\n",
       "      <td>0.0</td>\n",
       "      <td>1.0</td>\n",
       "      <td>0.0</td>\n",
       "      <td>0.0</td>\n",
       "      <td>0.0</td>\n",
       "    </tr>\n",
       "  </tbody>\n",
       "</table>\n",
       "<p>5 rows × 109 columns</p>\n",
       "</div>"
      ],
      "text/plain": [
       "        age    fnlwgt  education-num  capital-gain  capital-loss  \\\n",
       "0  0.333333  0.030002       0.533333      0.000000       0.50023   \n",
       "1  0.666667  0.157120       0.600000      0.076881       0.00000   \n",
       "2  0.000000  0.029962       0.600000      0.000000       0.00000   \n",
       "3  1.000000  0.165117       0.533333      0.000000       0.00000   \n",
       "4  0.000000  0.193532       0.400000      0.000000       0.00000   \n",
       "\n",
       "   hours-per-week  workclass_ ?  workclass_ Federal-gov  workclass_ Local-gov  \\\n",
       "0             0.0           0.0                     0.0                   0.0   \n",
       "1             0.0           0.0                     0.0                   0.0   \n",
       "2             0.0           0.0                     0.0                   0.0   \n",
       "3             0.0           0.0                     0.0                   1.0   \n",
       "4             0.0           0.0                     0.0                   0.0   \n",
       "\n",
       "   workclass_ Never-worked  ...  native-country_ Puerto-Rico  \\\n",
       "0                      0.0  ...                          0.0   \n",
       "1                      0.0  ...                          0.0   \n",
       "2                      0.0  ...                          0.0   \n",
       "3                      0.0  ...                          0.0   \n",
       "4                      0.0  ...                          0.0   \n",
       "\n",
       "   native-country_ Scotland  native-country_ South  native-country_ Taiwan  \\\n",
       "0                       0.0                    0.0                     0.0   \n",
       "1                       0.0                    0.0                     0.0   \n",
       "2                       0.0                    0.0                     0.0   \n",
       "3                       0.0                    0.0                     0.0   \n",
       "4                       0.0                    0.0                     0.0   \n",
       "\n",
       "   native-country_ Thailand  native-country_ Trinadad&Tobago  \\\n",
       "0                       0.0                              0.0   \n",
       "1                       0.0                              0.0   \n",
       "2                       0.0                              0.0   \n",
       "3                       0.0                              0.0   \n",
       "4                       0.0                              0.0   \n",
       "\n",
       "   native-country_ United-States  native-country_ Vietnam  \\\n",
       "0                            1.0                      0.0   \n",
       "1                            1.0                      0.0   \n",
       "2                            1.0                      0.0   \n",
       "3                            1.0                      0.0   \n",
       "4                            1.0                      0.0   \n",
       "\n",
       "   native-country_ Yugoslavia  salary  \n",
       "0                         0.0     0.0  \n",
       "1                         0.0     1.0  \n",
       "2                         0.0     0.0  \n",
       "3                         0.0     0.0  \n",
       "4                         0.0     0.0  \n",
       "\n",
       "[5 rows x 109 columns]"
      ]
     },
     "execution_count": 1310,
     "metadata": {},
     "output_type": "execute_result"
    }
   ],
   "source": [
    "data_train.head()"
   ]
  },
  {
   "cell_type": "code",
   "execution_count": 1311,
   "id": "6d91450c",
   "metadata": {},
   "outputs": [
    {
     "data": {
      "text/plain": [
       "{'age': array([17., 28., 37., 48., 90.]),\n",
       " 'hours-per-week': array([ 1., 40., 45., 99.])}"
      ]
     },
     "execution_count": 1311,
     "metadata": {},
     "output_type": "execute_result"
    }
   ],
   "source": [
    "# Заберем интервалы для разделения тестовой выборки\n",
    "train_bins = train_cut.dct_bins\n",
    "train_bins"
   ]
  },
  {
   "cell_type": "code",
   "execution_count": 1312,
   "id": "93b5fa24",
   "metadata": {},
   "outputs": [],
   "source": [
    "# Теперь можно зарядить тот же пайп для тестовых данных, но подать в MyCutter интервалы\n",
    "\n",
    "test_pipe = MyPipe(train_changer,\n",
    "                    MyCutter(['age', 'hours-per-week'], train_bins), # 1 шаг: Разобьем age и hours-per-week на группы\n",
    "                    MyEncoder(['salary', 'age', 'hours-per-week']), # 2 шаг: Перекодируем целевой признак\n",
    "                    MyHotencoder(), # 3 шаг: Закодируем все качественные данные в новые признаки с значением 0/1\n",
    "                    MyScaler() # 4 шаг: Масштабируем данные\n",
    "                   )"
   ]
  },
  {
   "cell_type": "code",
   "execution_count": 1313,
   "id": "4a886f97",
   "metadata": {},
   "outputs": [
    {
     "data": {
      "text/plain": [
       "MyTargetChanger: Прямая замена таргета\n",
       "MyCutter: метод cut/qcut\n",
       "MyEncoder метод LabelEncoder\n",
       "MyHotenc: метод GetDummies\n",
       "MyScaler метод MinMax scale"
      ]
     },
     "execution_count": 1313,
     "metadata": {},
     "output_type": "execute_result"
    }
   ],
   "source": [
    "test_pipe"
   ]
  },
  {
   "cell_type": "code",
   "execution_count": 1314,
   "id": "006e5e79",
   "metadata": {},
   "outputs": [
    {
     "name": "stdout",
     "output_type": "stream",
     "text": [
      "Step 1/5: MyTargetChanger: Прямая замена таргета\n",
      "Step 2/5: MyCutter: метод cut/qcut\n",
      "Step 3/5: MyEncoder метод LabelEncoder\n",
      "Выполнено\n",
      "Step 4/5: MyHotenc: метод GetDummies\n",
      "Выполнено\n",
      "Step 5/5: MyScaler метод MinMax scale\n",
      "Выполнено\n"
     ]
    }
   ],
   "source": [
    "data_test = test_pipe.fit_transform(data_test)"
   ]
  },
  {
   "cell_type": "code",
   "execution_count": 1315,
   "id": "e38511d0",
   "metadata": {},
   "outputs": [
    {
     "data": {
      "text/html": [
       "<div>\n",
       "<style scoped>\n",
       "    .dataframe tbody tr th:only-of-type {\n",
       "        vertical-align: middle;\n",
       "    }\n",
       "\n",
       "    .dataframe tbody tr th {\n",
       "        vertical-align: top;\n",
       "    }\n",
       "\n",
       "    .dataframe thead th {\n",
       "        text-align: right;\n",
       "    }\n",
       "</style>\n",
       "<table border=\"1\" class=\"dataframe\">\n",
       "  <thead>\n",
       "    <tr style=\"text-align: right;\">\n",
       "      <th></th>\n",
       "      <th>age</th>\n",
       "      <th>fnlwgt</th>\n",
       "      <th>education-num</th>\n",
       "      <th>capital-gain</th>\n",
       "      <th>capital-loss</th>\n",
       "      <th>hours-per-week</th>\n",
       "      <th>salary</th>\n",
       "      <th>workclass_ ?</th>\n",
       "      <th>workclass_ Federal-gov</th>\n",
       "      <th>workclass_ Local-gov</th>\n",
       "      <th>...</th>\n",
       "      <th>native-country_ Portugal</th>\n",
       "      <th>native-country_ Puerto-Rico</th>\n",
       "      <th>native-country_ Scotland</th>\n",
       "      <th>native-country_ South</th>\n",
       "      <th>native-country_ Taiwan</th>\n",
       "      <th>native-country_ Thailand</th>\n",
       "      <th>native-country_ Trinadad&amp;Tobago</th>\n",
       "      <th>native-country_ United-States</th>\n",
       "      <th>native-country_ Vietnam</th>\n",
       "      <th>native-country_ Yugoslavia</th>\n",
       "    </tr>\n",
       "  </thead>\n",
       "  <tbody>\n",
       "    <tr>\n",
       "      <th>14160</th>\n",
       "      <td>0.00</td>\n",
       "      <td>0.115919</td>\n",
       "      <td>0.600000</td>\n",
       "      <td>0.00000</td>\n",
       "      <td>0.0</td>\n",
       "      <td>0.000000</td>\n",
       "      <td>0.0</td>\n",
       "      <td>0.0</td>\n",
       "      <td>0.0</td>\n",
       "      <td>0.0</td>\n",
       "      <td>...</td>\n",
       "      <td>0.0</td>\n",
       "      <td>0.0</td>\n",
       "      <td>0.0</td>\n",
       "      <td>0.0</td>\n",
       "      <td>0.0</td>\n",
       "      <td>0.0</td>\n",
       "      <td>0.0</td>\n",
       "      <td>1.0</td>\n",
       "      <td>0.0</td>\n",
       "      <td>0.0</td>\n",
       "    </tr>\n",
       "    <tr>\n",
       "      <th>27048</th>\n",
       "      <td>0.50</td>\n",
       "      <td>0.028472</td>\n",
       "      <td>0.533333</td>\n",
       "      <td>0.00000</td>\n",
       "      <td>0.0</td>\n",
       "      <td>0.000000</td>\n",
       "      <td>0.0</td>\n",
       "      <td>0.0</td>\n",
       "      <td>0.0</td>\n",
       "      <td>0.0</td>\n",
       "      <td>...</td>\n",
       "      <td>0.0</td>\n",
       "      <td>0.0</td>\n",
       "      <td>0.0</td>\n",
       "      <td>0.0</td>\n",
       "      <td>0.0</td>\n",
       "      <td>0.0</td>\n",
       "      <td>0.0</td>\n",
       "      <td>1.0</td>\n",
       "      <td>0.0</td>\n",
       "      <td>0.0</td>\n",
       "    </tr>\n",
       "    <tr>\n",
       "      <th>28868</th>\n",
       "      <td>0.25</td>\n",
       "      <td>0.136446</td>\n",
       "      <td>0.800000</td>\n",
       "      <td>0.00000</td>\n",
       "      <td>0.0</td>\n",
       "      <td>0.666667</td>\n",
       "      <td>1.0</td>\n",
       "      <td>0.0</td>\n",
       "      <td>0.0</td>\n",
       "      <td>0.0</td>\n",
       "      <td>...</td>\n",
       "      <td>0.0</td>\n",
       "      <td>0.0</td>\n",
       "      <td>0.0</td>\n",
       "      <td>0.0</td>\n",
       "      <td>0.0</td>\n",
       "      <td>0.0</td>\n",
       "      <td>0.0</td>\n",
       "      <td>1.0</td>\n",
       "      <td>0.0</td>\n",
       "      <td>0.0</td>\n",
       "    </tr>\n",
       "    <tr>\n",
       "      <th>5667</th>\n",
       "      <td>0.25</td>\n",
       "      <td>0.139743</td>\n",
       "      <td>0.800000</td>\n",
       "      <td>0.00000</td>\n",
       "      <td>0.0</td>\n",
       "      <td>0.000000</td>\n",
       "      <td>0.0</td>\n",
       "      <td>0.0</td>\n",
       "      <td>0.0</td>\n",
       "      <td>0.0</td>\n",
       "      <td>...</td>\n",
       "      <td>0.0</td>\n",
       "      <td>0.0</td>\n",
       "      <td>0.0</td>\n",
       "      <td>0.0</td>\n",
       "      <td>0.0</td>\n",
       "      <td>0.0</td>\n",
       "      <td>0.0</td>\n",
       "      <td>1.0</td>\n",
       "      <td>0.0</td>\n",
       "      <td>0.0</td>\n",
       "    </tr>\n",
       "    <tr>\n",
       "      <th>7827</th>\n",
       "      <td>0.25</td>\n",
       "      <td>0.139189</td>\n",
       "      <td>0.600000</td>\n",
       "      <td>0.02202</td>\n",
       "      <td>0.0</td>\n",
       "      <td>0.666667</td>\n",
       "      <td>0.0</td>\n",
       "      <td>0.0</td>\n",
       "      <td>0.0</td>\n",
       "      <td>0.0</td>\n",
       "      <td>...</td>\n",
       "      <td>0.0</td>\n",
       "      <td>0.0</td>\n",
       "      <td>0.0</td>\n",
       "      <td>0.0</td>\n",
       "      <td>0.0</td>\n",
       "      <td>0.0</td>\n",
       "      <td>0.0</td>\n",
       "      <td>1.0</td>\n",
       "      <td>0.0</td>\n",
       "      <td>0.0</td>\n",
       "    </tr>\n",
       "  </tbody>\n",
       "</table>\n",
       "<p>5 rows × 107 columns</p>\n",
       "</div>"
      ],
      "text/plain": [
       "        age    fnlwgt  education-num  capital-gain  capital-loss  \\\n",
       "14160  0.00  0.115919       0.600000       0.00000           0.0   \n",
       "27048  0.50  0.028472       0.533333       0.00000           0.0   \n",
       "28868  0.25  0.136446       0.800000       0.00000           0.0   \n",
       "5667   0.25  0.139743       0.800000       0.00000           0.0   \n",
       "7827   0.25  0.139189       0.600000       0.02202           0.0   \n",
       "\n",
       "       hours-per-week  salary  workclass_ ?  workclass_ Federal-gov  \\\n",
       "14160        0.000000     0.0           0.0                     0.0   \n",
       "27048        0.000000     0.0           0.0                     0.0   \n",
       "28868        0.666667     1.0           0.0                     0.0   \n",
       "5667         0.000000     0.0           0.0                     0.0   \n",
       "7827         0.666667     0.0           0.0                     0.0   \n",
       "\n",
       "       workclass_ Local-gov  ...  native-country_ Portugal  \\\n",
       "14160                   0.0  ...                       0.0   \n",
       "27048                   0.0  ...                       0.0   \n",
       "28868                   0.0  ...                       0.0   \n",
       "5667                    0.0  ...                       0.0   \n",
       "7827                    0.0  ...                       0.0   \n",
       "\n",
       "       native-country_ Puerto-Rico  native-country_ Scotland  \\\n",
       "14160                          0.0                       0.0   \n",
       "27048                          0.0                       0.0   \n",
       "28868                          0.0                       0.0   \n",
       "5667                           0.0                       0.0   \n",
       "7827                           0.0                       0.0   \n",
       "\n",
       "       native-country_ South  native-country_ Taiwan  \\\n",
       "14160                    0.0                     0.0   \n",
       "27048                    0.0                     0.0   \n",
       "28868                    0.0                     0.0   \n",
       "5667                     0.0                     0.0   \n",
       "7827                     0.0                     0.0   \n",
       "\n",
       "       native-country_ Thailand  native-country_ Trinadad&Tobago  \\\n",
       "14160                       0.0                              0.0   \n",
       "27048                       0.0                              0.0   \n",
       "28868                       0.0                              0.0   \n",
       "5667                        0.0                              0.0   \n",
       "7827                        0.0                              0.0   \n",
       "\n",
       "       native-country_ United-States  native-country_ Vietnam  \\\n",
       "14160                            1.0                      0.0   \n",
       "27048                            1.0                      0.0   \n",
       "28868                            1.0                      0.0   \n",
       "5667                             1.0                      0.0   \n",
       "7827                             1.0                      0.0   \n",
       "\n",
       "       native-country_ Yugoslavia  \n",
       "14160                         0.0  \n",
       "27048                         0.0  \n",
       "28868                         0.0  \n",
       "5667                          0.0  \n",
       "7827                          0.0  \n",
       "\n",
       "[5 rows x 107 columns]"
      ]
     },
     "execution_count": 1315,
     "metadata": {},
     "output_type": "execute_result"
    }
   ],
   "source": [
    "data_test.head()"
   ]
  },
  {
   "cell_type": "markdown",
   "id": "11411b8a",
   "metadata": {},
   "source": [
    "4. <h5>Обучите модель классификации с целевым признаком salary</h5>"
   ]
  },
  {
   "cell_type": "code",
   "execution_count": 1316,
   "id": "58581c14",
   "metadata": {},
   "outputs": [],
   "source": [
    "X_train = data_train.drop(columns='salary')\n",
    "y_train = data_train['salary']\n",
    "X_test = data_test.drop(columns='salary')\n",
    "y_test = data_test['salary']"
   ]
  },
  {
   "cell_type": "code",
   "execution_count": 1317,
   "id": "4a35f6df",
   "metadata": {},
   "outputs": [],
   "source": [
    "final_model = MyRegressor(X_test=X_test, y_test=y_test)\n",
    "score_pipe = MyPipe(final_model,\n",
    "                   MyScores('После обработки'))"
   ]
  },
  {
   "cell_type": "code",
   "execution_count": 1318,
   "id": "2de3b626",
   "metadata": {},
   "outputs": [
    {
     "data": {
      "text/plain": [
       "MyRegressor метод LogisticRegression\n",
       "MyScores: Precision | Recall | F-score | ROC_AUC-score"
      ]
     },
     "execution_count": 1318,
     "metadata": {},
     "output_type": "execute_result"
    }
   ],
   "source": [
    "score_pipe"
   ]
  },
  {
   "cell_type": "code",
   "execution_count": 1319,
   "id": "7598bfc4",
   "metadata": {},
   "outputs": [
    {
     "name": "stdout",
     "output_type": "stream",
     "text": [
      "Step 1/2: MyRegressor метод LogisticRegression\n",
      "Выполнено\n",
      "Step 2/2: MyScores: Precision | Recall | F-score | ROC_AUC-score\n",
      "Выполнено\n"
     ]
    }
   ],
   "source": [
    "score = score_pipe.fit_transform((X_train, y_train))"
   ]
  },
  {
   "cell_type": "code",
   "execution_count": 1320,
   "id": "712bf366",
   "metadata": {},
   "outputs": [
    {
     "data": {
      "text/html": [
       "<div>\n",
       "<style scoped>\n",
       "    .dataframe tbody tr th:only-of-type {\n",
       "        vertical-align: middle;\n",
       "    }\n",
       "\n",
       "    .dataframe tbody tr th {\n",
       "        vertical-align: top;\n",
       "    }\n",
       "\n",
       "    .dataframe thead th {\n",
       "        text-align: right;\n",
       "    }\n",
       "</style>\n",
       "<table border=\"1\" class=\"dataframe\">\n",
       "  <thead>\n",
       "    <tr style=\"text-align: right;\">\n",
       "      <th></th>\n",
       "      <th>Precision</th>\n",
       "      <th>Recall</th>\n",
       "      <th>F-score</th>\n",
       "      <th>Accuracy</th>\n",
       "      <th>ROC_AUC</th>\n",
       "      <th>Precision Target</th>\n",
       "      <th>Recall Target</th>\n",
       "      <th>F-score Target</th>\n",
       "    </tr>\n",
       "  </thead>\n",
       "  <tbody>\n",
       "    <tr>\n",
       "      <th>После обработки</th>\n",
       "      <td>0.800059</td>\n",
       "      <td>0.777986</td>\n",
       "      <td>0.787941</td>\n",
       "      <td>0.852185</td>\n",
       "      <td>0.9</td>\n",
       "      <td>0.709336</td>\n",
       "      <td>0.636992</td>\n",
       "      <td>0.67122</td>\n",
       "    </tr>\n",
       "  </tbody>\n",
       "</table>\n",
       "</div>"
      ],
      "text/plain": [
       "                 Precision    Recall   F-score  Accuracy  ROC_AUC  \\\n",
       "После обработки   0.800059  0.777986  0.787941  0.852185      0.9   \n",
       "\n",
       "                 Precision Target  Recall Target  F-score Target  \n",
       "После обработки          0.709336       0.636992         0.67122  "
      ]
     },
     "execution_count": 1320,
     "metadata": {},
     "output_type": "execute_result"
    }
   ],
   "source": [
    "score"
   ]
  },
  {
   "cell_type": "code",
   "execution_count": 1321,
   "id": "4a890a91",
   "metadata": {},
   "outputs": [],
   "source": [
    "results = pd.concat((base_result, score))"
   ]
  },
  {
   "cell_type": "code",
   "execution_count": 1322,
   "id": "05b93fb9",
   "metadata": {},
   "outputs": [
    {
     "data": {
      "text/html": [
       "<div>\n",
       "<style scoped>\n",
       "    .dataframe tbody tr th:only-of-type {\n",
       "        vertical-align: middle;\n",
       "    }\n",
       "\n",
       "    .dataframe tbody tr th {\n",
       "        vertical-align: top;\n",
       "    }\n",
       "\n",
       "    .dataframe thead th {\n",
       "        text-align: right;\n",
       "    }\n",
       "</style>\n",
       "<table border=\"1\" class=\"dataframe\">\n",
       "  <thead>\n",
       "    <tr style=\"text-align: right;\">\n",
       "      <th></th>\n",
       "      <th>Precision</th>\n",
       "      <th>Recall</th>\n",
       "      <th>F-score</th>\n",
       "      <th>Accuracy</th>\n",
       "      <th>ROC_AUC</th>\n",
       "      <th>Precision Target</th>\n",
       "      <th>Recall Target</th>\n",
       "      <th>F-score Target</th>\n",
       "    </tr>\n",
       "  </thead>\n",
       "  <tbody>\n",
       "    <tr>\n",
       "      <th>Base</th>\n",
       "      <td>0.777405</td>\n",
       "      <td>0.692646</td>\n",
       "      <td>0.717960</td>\n",
       "      <td>0.824956</td>\n",
       "      <td>0.85</td>\n",
       "      <td>0.710014</td>\n",
       "      <td>0.441227</td>\n",
       "      <td>0.544243</td>\n",
       "    </tr>\n",
       "    <tr>\n",
       "      <th>После обработки</th>\n",
       "      <td>0.800059</td>\n",
       "      <td>0.777986</td>\n",
       "      <td>0.787941</td>\n",
       "      <td>0.852185</td>\n",
       "      <td>0.90</td>\n",
       "      <td>0.709336</td>\n",
       "      <td>0.636992</td>\n",
       "      <td>0.671220</td>\n",
       "    </tr>\n",
       "  </tbody>\n",
       "</table>\n",
       "</div>"
      ],
      "text/plain": [
       "                 Precision    Recall   F-score  Accuracy  ROC_AUC  \\\n",
       "Base              0.777405  0.692646  0.717960  0.824956     0.85   \n",
       "После обработки   0.800059  0.777986  0.787941  0.852185     0.90   \n",
       "\n",
       "                 Precision Target  Recall Target  F-score Target  \n",
       "Base                     0.710014       0.441227        0.544243  \n",
       "После обработки          0.709336       0.636992        0.671220  "
      ]
     },
     "execution_count": 1322,
     "metadata": {},
     "output_type": "execute_result"
    }
   ],
   "source": [
    "results"
   ]
  },
  {
   "cell_type": "code",
   "execution_count": 1323,
   "id": "9f751fd0",
   "metadata": {},
   "outputs": [
    {
     "data": {
      "text/plain": [
       "108"
      ]
     },
     "execution_count": 1323,
     "metadata": {},
     "output_type": "execute_result"
    }
   ],
   "source": [
    "# Количество признаков для обучения\n",
    "coef = final_model.model.coef_.tolist()[0]\n",
    "len(coef)"
   ]
  },
  {
   "cell_type": "markdown",
   "id": "761e659e",
   "metadata": {},
   "source": [
    "- Удалось улучшить метрики качества модели\n",
    "- Финальная модель обучена на 108 признаках"
   ]
  },
  {
   "cell_type": "markdown",
   "id": "61802d6b",
   "metadata": {},
   "source": [
    "5. <h5>Проведите отбор признаков минимум с помощью трех подходов</h5>"
   ]
  },
  {
   "cell_type": "code",
   "execution_count": 1351,
   "id": "0d8fa158",
   "metadata": {},
   "outputs": [
    {
     "data": {
      "image/png": "[encoded data removed]",
      "text/plain": [
       "<Figure size 1080x432 with 1 Axes>"
      ]
     },
     "metadata": {
      "needs_background": "light"
     },
     "output_type": "display_data"
    }
   ],
   "source": [
    "# Смотрим на вклад признаков\n",
    "plt.figure(figsize=(15, 6))\n",
    "plt.bar(np.arange(len(coef)), sorted(coef))\n",
    "plt.xlabel('features')\n",
    "plt.ylabel('coefs');"
   ]
  },
  {
   "cell_type": "code",
   "execution_count": 1333,
   "id": "88d8b9c7",
   "metadata": {},
   "outputs": [],
   "source": [
    "coef = np.array(coef)\n",
    "features = X_train.columns"
   ]
  },
  {
   "cell_type": "code",
   "execution_count": 1332,
   "id": "08c498f8",
   "metadata": {},
   "outputs": [
    {
     "data": {
      "text/plain": [
       "array([-0.12766457,  0.10172641, -0.0629649 , -0.04926623,  0.0327273 ,\n",
       "        0.12934438, -0.08158808,  0.06985638,  0.13879411,  0.08427517,\n",
       "        0.12346477, -0.00912006, -0.10779852, -0.01357355, -0.13411563,\n",
       "        0.04152612,  0.12110496,  0.13296253])"
      ]
     },
     "execution_count": 1332,
     "metadata": {},
     "output_type": "execute_result"
    }
   ],
   "source": [
    "# Коэффициенты с модулем менее 0.15\n",
    "coef[abs(coef) < 0.15]"
   ]
  },
  {
   "cell_type": "code",
   "execution_count": 1352,
   "id": "347e6bae",
   "metadata": {},
   "outputs": [
    {
     "data": {
      "text/plain": [
       "array([ True,  True,  True,  True,  True,  True, False,  True, False,\n",
       "        True,  True,  True,  True, False,  True,  True,  True,  True,\n",
       "       False,  True,  True,  True, False, False,  True,  True, False,\n",
       "        True,  True,  True, False,  True,  True,  True,  True,  True,\n",
       "        True,  True,  True, False,  True,  True,  True,  True,  True,\n",
       "        True,  True,  True,  True,  True,  True,  True, False,  True,\n",
       "        True,  True,  True,  True,  True,  True,  True, False,  True,\n",
       "        True,  True,  True, False,  True,  True,  True,  True,  True,\n",
       "        True,  True,  True,  True,  True,  True,  True,  True, False,\n",
       "       False, False,  True,  True,  True, False,  True,  True,  True,\n",
       "        True,  True,  True,  True,  True,  True,  True,  True,  True,\n",
       "        True, False,  True,  True, False,  True,  True,  True,  True])"
      ]
     },
     "execution_count": 1352,
     "metadata": {},
     "output_type": "execute_result"
    }
   ],
   "source": [
    "# Создаем маску для полезных фичей\n",
    "mask = abs(coef) > 0.15\n",
    "mask"
   ]
  },
  {
   "cell_type": "code",
   "execution_count": 1340,
   "id": "e05a0dbc",
   "metadata": {},
   "outputs": [
    {
     "data": {
      "text/plain": [
       "90"
      ]
     },
     "execution_count": 1340,
     "metadata": {},
     "output_type": "execute_result"
    }
   ],
   "source": [
    "# Остались коэффициенты\n",
    "step_1 = features[mask]\n",
    "len(step_1)"
   ]
  },
  {
   "cell_type": "code",
   "execution_count": 1342,
   "id": "4b6aa9e6",
   "metadata": {},
   "outputs": [],
   "source": [
    "X_train_step1 = X_train.reindex(columns=step_1)"
   ]
  },
  {
   "cell_type": "code",
   "execution_count": 1344,
   "id": "54b84c9f",
   "metadata": {},
   "outputs": [],
   "source": [
    "X_test_step1 = X_test.reindex(columns=step_1)"
   ]
  },
  {
   "cell_type": "code",
   "execution_count": 1346,
   "id": "e884a784",
   "metadata": {
    "scrolled": false
   },
   "outputs": [],
   "source": [
    "step1_model = MyRegressor(X_test=X_test_step1, y_test=y_test)\n",
    "step1_score = MyPipe(step1_model,\n",
    "                   MyScores('Step 1'))"
   ]
  },
  {
   "cell_type": "code",
   "execution_count": 1347,
   "id": "21f7c2ca",
   "metadata": {},
   "outputs": [
    {
     "name": "stdout",
     "output_type": "stream",
     "text": [
      "Step 1/2: MyRegressor метод LogisticRegression\n",
      "Выполнено\n",
      "Step 2/2: MyScores: Precision | Recall | F-score | ROC_AUC-score\n",
      "Выполнено\n"
     ]
    }
   ],
   "source": [
    "step1 = step1_score.fit_transform((X_train_step1, y_train))"
   ]
  },
  {
   "cell_type": "code",
   "execution_count": 1350,
   "id": "1a7a8aa4",
   "metadata": {},
   "outputs": [
    {
     "data": {
      "text/html": [
       "<div>\n",
       "<style scoped>\n",
       "    .dataframe tbody tr th:only-of-type {\n",
       "        vertical-align: middle;\n",
       "    }\n",
       "\n",
       "    .dataframe tbody tr th {\n",
       "        vertical-align: top;\n",
       "    }\n",
       "\n",
       "    .dataframe thead th {\n",
       "        text-align: right;\n",
       "    }\n",
       "</style>\n",
       "<table border=\"1\" class=\"dataframe\">\n",
       "  <thead>\n",
       "    <tr style=\"text-align: right;\">\n",
       "      <th></th>\n",
       "      <th>Precision</th>\n",
       "      <th>Recall</th>\n",
       "      <th>F-score</th>\n",
       "      <th>Accuracy</th>\n",
       "      <th>ROC_AUC</th>\n",
       "      <th>Precision Target</th>\n",
       "      <th>Recall Target</th>\n",
       "      <th>F-score Target</th>\n",
       "    </tr>\n",
       "  </thead>\n",
       "  <tbody>\n",
       "    <tr>\n",
       "      <th>Base</th>\n",
       "      <td>0.777405</td>\n",
       "      <td>0.692646</td>\n",
       "      <td>0.717960</td>\n",
       "      <td>0.824956</td>\n",
       "      <td>0.85</td>\n",
       "      <td>0.710014</td>\n",
       "      <td>0.441227</td>\n",
       "      <td>0.544243</td>\n",
       "    </tr>\n",
       "    <tr>\n",
       "      <th>После обработки</th>\n",
       "      <td>0.800059</td>\n",
       "      <td>0.777986</td>\n",
       "      <td>0.787941</td>\n",
       "      <td>0.852185</td>\n",
       "      <td>0.90</td>\n",
       "      <td>0.709336</td>\n",
       "      <td>0.636992</td>\n",
       "      <td>0.671220</td>\n",
       "    </tr>\n",
       "    <tr>\n",
       "      <th>Step 1</th>\n",
       "      <td>0.799625</td>\n",
       "      <td>0.777487</td>\n",
       "      <td>0.787466</td>\n",
       "      <td>0.851878</td>\n",
       "      <td>0.90</td>\n",
       "      <td>0.708714</td>\n",
       "      <td>0.636128</td>\n",
       "      <td>0.670462</td>\n",
       "    </tr>\n",
       "  </tbody>\n",
       "</table>\n",
       "</div>"
      ],
      "text/plain": [
       "                 Precision    Recall   F-score  Accuracy  ROC_AUC  \\\n",
       "Base              0.777405  0.692646  0.717960  0.824956     0.85   \n",
       "После обработки   0.800059  0.777986  0.787941  0.852185     0.90   \n",
       "Step 1            0.799625  0.777487  0.787466  0.851878     0.90   \n",
       "\n",
       "                 Precision Target  Recall Target  F-score Target  \n",
       "Base                     0.710014       0.441227        0.544243  \n",
       "После обработки          0.709336       0.636992        0.671220  \n",
       "Step 1                   0.708714       0.636128        0.670462  "
      ]
     },
     "execution_count": 1350,
     "metadata": {},
     "output_type": "execute_result"
    }
   ],
   "source": [
    "results = pd.concat((results, step1))\n",
    "results"
   ]
  },
  {
   "cell_type": "markdown",
   "id": "10ea868f",
   "metadata": {},
   "source": [
    "- на шаге 1 уменьшили количество признаков с 108 до 90 без существенной потери качества модели"
   ]
  },
  {
   "cell_type": "code",
   "execution_count": 1376,
   "id": "31b6e080",
   "metadata": {},
   "outputs": [
    {
     "data": {
      "text/plain": [
       "(25638, 70)"
      ]
     },
     "execution_count": 1376,
     "metadata": {},
     "output_type": "execute_result"
    }
   ],
   "source": [
    "from sklearn.feature_selection import SelectFromModel\n",
    "\n",
    "selector = SelectFromModel(step1_model.model, max_features=70, threshold=-np.inf)\n",
    "X_train_step2 = selector.fit_transform(X_train_step1, y_train)\n",
    "X_train_step2 = X_train_step1.reindex(columns=X_train_step1.columns[selector.get_support()])\n",
    "X_test_step2 = X_test_step1.reindex(columns=X_train_step2.columns)\n",
    "X_train_step2.shape"
   ]
  },
  {
   "cell_type": "code",
   "execution_count": 1377,
   "id": "fcbe4bff",
   "metadata": {},
   "outputs": [],
   "source": [
    "step2_model = MyRegressor(X_test=X_test_step2, y_test=y_test)\n",
    "step2_score = MyPipe(step2_model,\n",
    "                   MyScores('Step 2'))"
   ]
  },
  {
   "cell_type": "code",
   "execution_count": 1378,
   "id": "d3a89a49",
   "metadata": {},
   "outputs": [
    {
     "name": "stdout",
     "output_type": "stream",
     "text": [
      "Step 1/2: MyRegressor метод LogisticRegression\n",
      "Выполнено\n",
      "Step 2/2: MyScores: Precision | Recall | F-score | ROC_AUC-score\n",
      "Выполнено\n"
     ]
    }
   ],
   "source": [
    "step2 = step2_score.fit_transform((X_train_step2, y_train))"
   ]
  },
  {
   "cell_type": "code",
   "execution_count": 1389,
   "id": "a758a43d",
   "metadata": {},
   "outputs": [
    {
     "data": {
      "text/html": [
       "<div>\n",
       "<style scoped>\n",
       "    .dataframe tbody tr th:only-of-type {\n",
       "        vertical-align: middle;\n",
       "    }\n",
       "\n",
       "    .dataframe tbody tr th {\n",
       "        vertical-align: top;\n",
       "    }\n",
       "\n",
       "    .dataframe thead th {\n",
       "        text-align: right;\n",
       "    }\n",
       "</style>\n",
       "<table border=\"1\" class=\"dataframe\">\n",
       "  <thead>\n",
       "    <tr style=\"text-align: right;\">\n",
       "      <th></th>\n",
       "      <th>Precision</th>\n",
       "      <th>Recall</th>\n",
       "      <th>F-score</th>\n",
       "      <th>Accuracy</th>\n",
       "      <th>ROC_AUC</th>\n",
       "      <th>Precision Target</th>\n",
       "      <th>Recall Target</th>\n",
       "      <th>F-score Target</th>\n",
       "    </tr>\n",
       "  </thead>\n",
       "  <tbody>\n",
       "    <tr>\n",
       "      <th>Base</th>\n",
       "      <td>0.777405</td>\n",
       "      <td>0.692646</td>\n",
       "      <td>0.717960</td>\n",
       "      <td>0.824956</td>\n",
       "      <td>0.85</td>\n",
       "      <td>0.710014</td>\n",
       "      <td>0.441227</td>\n",
       "      <td>0.544243</td>\n",
       "    </tr>\n",
       "    <tr>\n",
       "      <th>После обработки</th>\n",
       "      <td>0.800059</td>\n",
       "      <td>0.777986</td>\n",
       "      <td>0.787941</td>\n",
       "      <td>0.852185</td>\n",
       "      <td>0.90</td>\n",
       "      <td>0.709336</td>\n",
       "      <td>0.636992</td>\n",
       "      <td>0.671220</td>\n",
       "    </tr>\n",
       "    <tr>\n",
       "      <th>Step 1</th>\n",
       "      <td>0.799625</td>\n",
       "      <td>0.777487</td>\n",
       "      <td>0.787466</td>\n",
       "      <td>0.851878</td>\n",
       "      <td>0.90</td>\n",
       "      <td>0.708714</td>\n",
       "      <td>0.636128</td>\n",
       "      <td>0.670462</td>\n",
       "    </tr>\n",
       "    <tr>\n",
       "      <th>Step 2</th>\n",
       "      <td>0.799637</td>\n",
       "      <td>0.780505</td>\n",
       "      <td>0.789254</td>\n",
       "      <td>0.852390</td>\n",
       "      <td>0.90</td>\n",
       "      <td>0.706831</td>\n",
       "      <td>0.643907</td>\n",
       "      <td>0.673903</td>\n",
       "    </tr>\n",
       "  </tbody>\n",
       "</table>\n",
       "</div>"
      ],
      "text/plain": [
       "                 Precision    Recall   F-score  Accuracy  ROC_AUC  \\\n",
       "Base              0.777405  0.692646  0.717960  0.824956     0.85   \n",
       "После обработки   0.800059  0.777986  0.787941  0.852185     0.90   \n",
       "Step 1            0.799625  0.777487  0.787466  0.851878     0.90   \n",
       "Step 2            0.799637  0.780505  0.789254  0.852390     0.90   \n",
       "\n",
       "                 Precision Target  Recall Target  F-score Target  \n",
       "Base                     0.710014       0.441227        0.544243  \n",
       "После обработки          0.709336       0.636992        0.671220  \n",
       "Step 1                   0.708714       0.636128        0.670462  \n",
       "Step 2                   0.706831       0.643907        0.673903  "
      ]
     },
     "execution_count": 1389,
     "metadata": {},
     "output_type": "execute_result"
    }
   ],
   "source": [
    "results = pd.concat((results, step2))\n",
    "results"
   ]
  },
  {
   "cell_type": "markdown",
   "id": "1425298c",
   "metadata": {},
   "source": [
    "- на шаге 2 уменьшили количество признаков с 90 до 70 улучшили качество модели"
   ]
  },
  {
   "cell_type": "code",
   "execution_count": 1380,
   "id": "c2145927",
   "metadata": {},
   "outputs": [
    {
     "name": "stdout",
     "output_type": "stream",
     "text": [
      "CPU times: total: 1h 3min 57s\n",
      "Wall time: 32min 22s\n"
     ]
    },
    {
     "data": {
      "text/plain": [
       "(25638, 40)"
      ]
     },
     "execution_count": 1380,
     "metadata": {},
     "output_type": "execute_result"
    }
   ],
   "source": [
    "%%time\n",
    "from sklearn.feature_selection import SequentialFeatureSelector\n",
    "\n",
    "selector_final = SequentialFeatureSelector(\n",
    "    step2_model.model, n_features_to_select=40, direction=\"forward\"\n",
    ")\n",
    "selector_final.fit(X_train_step2, y_train)\n",
    "X_train_step3 = X_train_step2.reindex(columns=X_train_step2.columns[selector_final.get_support()])\n",
    "X_test_step3 = X_test_step2.reindex(columns=X_train_step3.columns)\n",
    "X_train_step3.shape"
   ]
  },
  {
   "cell_type": "code",
   "execution_count": 1390,
   "id": "a67e8da7",
   "metadata": {},
   "outputs": [],
   "source": [
    "step3_model = MyRegressor(X_test=X_test_step3, y_test=y_test)\n",
    "step3_score = MyPipe(step3_model,\n",
    "                   MyScores('Step 3'))"
   ]
  },
  {
   "cell_type": "markdown",
   "id": "40c6b96f",
   "metadata": {},
   "source": [
    "6. <h5>Оцените подходящие метрики качества</h5>"
   ]
  },
  {
   "cell_type": "code",
   "execution_count": 1391,
   "id": "3c54abf1",
   "metadata": {},
   "outputs": [
    {
     "name": "stdout",
     "output_type": "stream",
     "text": [
      "Step 1/2: MyRegressor метод LogisticRegression\n",
      "Выполнено\n",
      "Step 2/2: MyScores: Precision | Recall | F-score | ROC_AUC-score\n",
      "Выполнено\n"
     ]
    },
    {
     "data": {
      "text/html": [
       "<div>\n",
       "<style scoped>\n",
       "    .dataframe tbody tr th:only-of-type {\n",
       "        vertical-align: middle;\n",
       "    }\n",
       "\n",
       "    .dataframe tbody tr th {\n",
       "        vertical-align: top;\n",
       "    }\n",
       "\n",
       "    .dataframe thead th {\n",
       "        text-align: right;\n",
       "    }\n",
       "</style>\n",
       "<table border=\"1\" class=\"dataframe\">\n",
       "  <thead>\n",
       "    <tr style=\"text-align: right;\">\n",
       "      <th></th>\n",
       "      <th>Precision</th>\n",
       "      <th>Recall</th>\n",
       "      <th>F-score</th>\n",
       "      <th>Accuracy</th>\n",
       "      <th>ROC_AUC</th>\n",
       "      <th>Precision Target</th>\n",
       "      <th>Recall Target</th>\n",
       "      <th>F-score Target</th>\n",
       "    </tr>\n",
       "  </thead>\n",
       "  <tbody>\n",
       "    <tr>\n",
       "      <th>Base</th>\n",
       "      <td>0.777405</td>\n",
       "      <td>0.692646</td>\n",
       "      <td>0.717960</td>\n",
       "      <td>0.824956</td>\n",
       "      <td>0.85</td>\n",
       "      <td>0.710014</td>\n",
       "      <td>0.441227</td>\n",
       "      <td>0.544243</td>\n",
       "    </tr>\n",
       "    <tr>\n",
       "      <th>После обработки</th>\n",
       "      <td>0.800059</td>\n",
       "      <td>0.777986</td>\n",
       "      <td>0.787941</td>\n",
       "      <td>0.852185</td>\n",
       "      <td>0.90</td>\n",
       "      <td>0.709336</td>\n",
       "      <td>0.636992</td>\n",
       "      <td>0.671220</td>\n",
       "    </tr>\n",
       "    <tr>\n",
       "      <th>Step 1</th>\n",
       "      <td>0.799625</td>\n",
       "      <td>0.777487</td>\n",
       "      <td>0.787466</td>\n",
       "      <td>0.851878</td>\n",
       "      <td>0.90</td>\n",
       "      <td>0.708714</td>\n",
       "      <td>0.636128</td>\n",
       "      <td>0.670462</td>\n",
       "    </tr>\n",
       "    <tr>\n",
       "      <th>Step 2</th>\n",
       "      <td>0.799637</td>\n",
       "      <td>0.780505</td>\n",
       "      <td>0.789254</td>\n",
       "      <td>0.852390</td>\n",
       "      <td>0.90</td>\n",
       "      <td>0.706831</td>\n",
       "      <td>0.643907</td>\n",
       "      <td>0.673903</td>\n",
       "    </tr>\n",
       "    <tr>\n",
       "      <th>Step 3</th>\n",
       "      <td>0.798547</td>\n",
       "      <td>0.767302</td>\n",
       "      <td>0.780762</td>\n",
       "      <td>0.849524</td>\n",
       "      <td>0.90</td>\n",
       "      <td>0.712702</td>\n",
       "      <td>0.611063</td>\n",
       "      <td>0.657980</td>\n",
       "    </tr>\n",
       "  </tbody>\n",
       "</table>\n",
       "</div>"
      ],
      "text/plain": [
       "                 Precision    Recall   F-score  Accuracy  ROC_AUC  \\\n",
       "Base              0.777405  0.692646  0.717960  0.824956     0.85   \n",
       "После обработки   0.800059  0.777986  0.787941  0.852185     0.90   \n",
       "Step 1            0.799625  0.777487  0.787466  0.851878     0.90   \n",
       "Step 2            0.799637  0.780505  0.789254  0.852390     0.90   \n",
       "Step 3            0.798547  0.767302  0.780762  0.849524     0.90   \n",
       "\n",
       "                 Precision Target  Recall Target  F-score Target  \n",
       "Base                     0.710014       0.441227        0.544243  \n",
       "После обработки          0.709336       0.636992        0.671220  \n",
       "Step 1                   0.708714       0.636128        0.670462  \n",
       "Step 2                   0.706831       0.643907        0.673903  \n",
       "Step 3                   0.712702       0.611063        0.657980  "
      ]
     },
     "execution_count": 1391,
     "metadata": {},
     "output_type": "execute_result"
    }
   ],
   "source": [
    "step3 = step3_score.fit_transform((X_train_step3, y_train))\n",
    "results = pd.concat((results, step3))\n",
    "results"
   ]
  },
  {
   "cell_type": "markdown",
   "id": "332fd5a1",
   "metadata": {},
   "source": [
    "7. <h5>Сформулируйте выводы по проделанной работе</h5>"
   ]
  },
  {
   "cell_type": "markdown",
   "id": "322b73ed",
   "metadata": {},
   "source": [
    "<img src='818343149_4347189.jpg' width=420, heigth=420>"
   ]
  },
  {
   "cell_type": "markdown",
   "id": "ca3db486",
   "metadata": {},
   "source": [
    "- Обучил базовую модель\n",
    "- Провел EDA, сделал предобработку данных при помощи кастомных классов и пайплайнов\n",
    "- Провел LebelEncoding, OneHotEncoding, Масштабирование, Бининг, SMOTE оверсемплинг (также логарифмировал количественные признаки, но скор был меньше)\n",
    "- В 3различных метода провел выбор признаков.\n",
    "- SequentialFeatureSelector сделал больно моему ноутбуку\n",
    "- Собрал метрики качества модели на каждом шаге, увеличил показатели относительно базовой модели.\n",
    "- Не смотря на то, что последний шаг показал небольшое снижение метрик, удалось сократить количество фичей с 108 до 40 штук."
   ]
  },
  {
   "cell_type": "code",
   "execution_count": null,
   "id": "f9c5e3f5",
   "metadata": {},
   "outputs": [],
   "source": []
  }
 ],
 "metadata": {
  "kernelspec": {
   "display_name": "Python 3 (ipykernel)",
   "language": "python",
   "name": "python3"
  },
  "language_info": {
   "codemirror_mode": {
    "name": "ipython",
    "version": 3
   },
   "file_extension": ".py",
   "mimetype": "text/x-python",
   "name": "python",
   "nbconvert_exporter": "python",
   "pygments_lexer": "ipython3",
   "version": "3.9.12"
  }
 },
 "nbformat": 4,
 "nbformat_minor": 5
}
