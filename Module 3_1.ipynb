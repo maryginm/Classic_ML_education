{
 "cells": [
  {
   "cell_type": "code",
   "execution_count": 2,
   "id": "fdf7a9a6",
   "metadata": {},
   "outputs": [],
   "source": [
    "import pandas as pd\n",
    "import numpy as np\n",
    "import matplotlib.pyplot as plt\n",
    "from sklearn.linear_model import LogisticRegression\n",
    "from sklearn.metrics import fbeta_score, roc_auc_score, roc_curve, auc\n",
    "from sklearn.model_selection import train_test_split\n",
    "from sklearn.preprocessing import MinMaxScaler \n",
    "from sklearn.preprocessing import StandardScaler\n",
    "from sklearn.impute import SimpleImputer\n",
    "import seaborn as sns\n",
    "\n",
    "from sklearn.pipeline import make_pipeline\n",
    "\n",
    "from sklearn.base import BaseEstimator, TransformerMixin\n",
    "\n",
    "import matplotlib.pyplot as plt\n",
    "%matplotlib inline"
   ]
  },
  {
   "cell_type": "code",
   "execution_count": 6,
   "id": "8f2dcd0a",
   "metadata": {},
   "outputs": [],
   "source": [
    "df = pd.read_csv('Loan_Data.csv')"
   ]
  },
  {
   "cell_type": "code",
   "execution_count": 7,
   "id": "e598d004",
   "metadata": {
    "scrolled": false
   },
   "outputs": [
    {
     "data": {
      "text/html": [
       "<div>\n",
       "<style scoped>\n",
       "    .dataframe tbody tr th:only-of-type {\n",
       "        vertical-align: middle;\n",
       "    }\n",
       "\n",
       "    .dataframe tbody tr th {\n",
       "        vertical-align: top;\n",
       "    }\n",
       "\n",
       "    .dataframe thead th {\n",
       "        text-align: right;\n",
       "    }\n",
       "</style>\n",
       "<table border=\"1\" class=\"dataframe\">\n",
       "  <thead>\n",
       "    <tr style=\"text-align: right;\">\n",
       "      <th></th>\n",
       "      <th>Loan_ID</th>\n",
       "      <th>Gender</th>\n",
       "      <th>Married</th>\n",
       "      <th>Dependents</th>\n",
       "      <th>Education</th>\n",
       "      <th>Self_Employed</th>\n",
       "      <th>ApplicantIncome</th>\n",
       "      <th>CoapplicantIncome</th>\n",
       "      <th>LoanAmount</th>\n",
       "      <th>Loan_Amount_Term</th>\n",
       "      <th>Credit_History</th>\n",
       "      <th>Property_Area</th>\n",
       "      <th>Loan_Status</th>\n",
       "    </tr>\n",
       "  </thead>\n",
       "  <tbody>\n",
       "    <tr>\n",
       "      <th>0</th>\n",
       "      <td>LP001002</td>\n",
       "      <td>Male</td>\n",
       "      <td>No</td>\n",
       "      <td>0</td>\n",
       "      <td>Graduate</td>\n",
       "      <td>No</td>\n",
       "      <td>5849</td>\n",
       "      <td>0.0</td>\n",
       "      <td>NaN</td>\n",
       "      <td>360.0</td>\n",
       "      <td>1.0</td>\n",
       "      <td>Urban</td>\n",
       "      <td>Y</td>\n",
       "    </tr>\n",
       "    <tr>\n",
       "      <th>1</th>\n",
       "      <td>LP001003</td>\n",
       "      <td>Male</td>\n",
       "      <td>Yes</td>\n",
       "      <td>1</td>\n",
       "      <td>Graduate</td>\n",
       "      <td>No</td>\n",
       "      <td>4583</td>\n",
       "      <td>1508.0</td>\n",
       "      <td>128.0</td>\n",
       "      <td>360.0</td>\n",
       "      <td>1.0</td>\n",
       "      <td>Rural</td>\n",
       "      <td>N</td>\n",
       "    </tr>\n",
       "    <tr>\n",
       "      <th>2</th>\n",
       "      <td>LP001005</td>\n",
       "      <td>Male</td>\n",
       "      <td>Yes</td>\n",
       "      <td>0</td>\n",
       "      <td>Graduate</td>\n",
       "      <td>Yes</td>\n",
       "      <td>3000</td>\n",
       "      <td>0.0</td>\n",
       "      <td>66.0</td>\n",
       "      <td>360.0</td>\n",
       "      <td>1.0</td>\n",
       "      <td>Urban</td>\n",
       "      <td>Y</td>\n",
       "    </tr>\n",
       "    <tr>\n",
       "      <th>3</th>\n",
       "      <td>LP001006</td>\n",
       "      <td>Male</td>\n",
       "      <td>Yes</td>\n",
       "      <td>0</td>\n",
       "      <td>Not Graduate</td>\n",
       "      <td>No</td>\n",
       "      <td>2583</td>\n",
       "      <td>2358.0</td>\n",
       "      <td>120.0</td>\n",
       "      <td>360.0</td>\n",
       "      <td>1.0</td>\n",
       "      <td>Urban</td>\n",
       "      <td>Y</td>\n",
       "    </tr>\n",
       "    <tr>\n",
       "      <th>4</th>\n",
       "      <td>LP001008</td>\n",
       "      <td>Male</td>\n",
       "      <td>No</td>\n",
       "      <td>0</td>\n",
       "      <td>Graduate</td>\n",
       "      <td>No</td>\n",
       "      <td>6000</td>\n",
       "      <td>0.0</td>\n",
       "      <td>141.0</td>\n",
       "      <td>360.0</td>\n",
       "      <td>1.0</td>\n",
       "      <td>Urban</td>\n",
       "      <td>Y</td>\n",
       "    </tr>\n",
       "  </tbody>\n",
       "</table>\n",
       "</div>"
      ],
      "text/plain": [
       "    Loan_ID Gender Married Dependents     Education Self_Employed  \\\n",
       "0  LP001002   Male      No          0      Graduate            No   \n",
       "1  LP001003   Male     Yes          1      Graduate            No   \n",
       "2  LP001005   Male     Yes          0      Graduate           Yes   \n",
       "3  LP001006   Male     Yes          0  Not Graduate            No   \n",
       "4  LP001008   Male      No          0      Graduate            No   \n",
       "\n",
       "   ApplicantIncome  CoapplicantIncome  LoanAmount  Loan_Amount_Term  \\\n",
       "0             5849                0.0         NaN             360.0   \n",
       "1             4583             1508.0       128.0             360.0   \n",
       "2             3000                0.0        66.0             360.0   \n",
       "3             2583             2358.0       120.0             360.0   \n",
       "4             6000                0.0       141.0             360.0   \n",
       "\n",
       "   Credit_History Property_Area Loan_Status  \n",
       "0             1.0         Urban           Y  \n",
       "1             1.0         Rural           N  \n",
       "2             1.0         Urban           Y  \n",
       "3             1.0         Urban           Y  \n",
       "4             1.0         Urban           Y  "
      ]
     },
     "execution_count": 7,
     "metadata": {},
     "output_type": "execute_result"
    }
   ],
   "source": [
    "df.head()"
   ]
  },
  {
   "cell_type": "code",
   "execution_count": 8,
   "id": "7725f6ef",
   "metadata": {},
   "outputs": [
    {
     "name": "stdout",
     "output_type": "stream",
     "text": [
      "<class 'pandas.core.frame.DataFrame'>\n",
      "RangeIndex: 614 entries, 0 to 613\n",
      "Data columns (total 13 columns):\n",
      " #   Column             Non-Null Count  Dtype  \n",
      "---  ------             --------------  -----  \n",
      " 0   Loan_ID            614 non-null    object \n",
      " 1   Gender             601 non-null    object \n",
      " 2   Married            611 non-null    object \n",
      " 3   Dependents         599 non-null    object \n",
      " 4   Education          614 non-null    object \n",
      " 5   Self_Employed      582 non-null    object \n",
      " 6   ApplicantIncome    614 non-null    int64  \n",
      " 7   CoapplicantIncome  614 non-null    float64\n",
      " 8   LoanAmount         592 non-null    float64\n",
      " 9   Loan_Amount_Term   600 non-null    float64\n",
      " 10  Credit_History     564 non-null    float64\n",
      " 11  Property_Area      614 non-null    object \n",
      " 12  Loan_Status        614 non-null    object \n",
      "dtypes: float64(4), int64(1), object(8)\n",
      "memory usage: 62.5+ KB\n"
     ]
    }
   ],
   "source": [
    "df.info()"
   ]
  },
  {
   "cell_type": "code",
   "execution_count": 9,
   "id": "616f8400",
   "metadata": {},
   "outputs": [
    {
     "data": {
      "text/html": [
       "<div>\n",
       "<style scoped>\n",
       "    .dataframe tbody tr th:only-of-type {\n",
       "        vertical-align: middle;\n",
       "    }\n",
       "\n",
       "    .dataframe tbody tr th {\n",
       "        vertical-align: top;\n",
       "    }\n",
       "\n",
       "    .dataframe thead th {\n",
       "        text-align: right;\n",
       "    }\n",
       "</style>\n",
       "<table border=\"1\" class=\"dataframe\">\n",
       "  <thead>\n",
       "    <tr style=\"text-align: right;\">\n",
       "      <th></th>\n",
       "      <th>ApplicantIncome</th>\n",
       "      <th>CoapplicantIncome</th>\n",
       "      <th>LoanAmount</th>\n",
       "      <th>Loan_Amount_Term</th>\n",
       "      <th>Credit_History</th>\n",
       "    </tr>\n",
       "  </thead>\n",
       "  <tbody>\n",
       "    <tr>\n",
       "      <th>count</th>\n",
       "      <td>614.000000</td>\n",
       "      <td>614.000000</td>\n",
       "      <td>592.000000</td>\n",
       "      <td>600.00000</td>\n",
       "      <td>564.000000</td>\n",
       "    </tr>\n",
       "    <tr>\n",
       "      <th>mean</th>\n",
       "      <td>5403.459283</td>\n",
       "      <td>1621.245798</td>\n",
       "      <td>146.412162</td>\n",
       "      <td>342.00000</td>\n",
       "      <td>0.842199</td>\n",
       "    </tr>\n",
       "    <tr>\n",
       "      <th>std</th>\n",
       "      <td>6109.041673</td>\n",
       "      <td>2926.248369</td>\n",
       "      <td>85.587325</td>\n",
       "      <td>65.12041</td>\n",
       "      <td>0.364878</td>\n",
       "    </tr>\n",
       "    <tr>\n",
       "      <th>min</th>\n",
       "      <td>150.000000</td>\n",
       "      <td>0.000000</td>\n",
       "      <td>9.000000</td>\n",
       "      <td>12.00000</td>\n",
       "      <td>0.000000</td>\n",
       "    </tr>\n",
       "    <tr>\n",
       "      <th>25%</th>\n",
       "      <td>2877.500000</td>\n",
       "      <td>0.000000</td>\n",
       "      <td>100.000000</td>\n",
       "      <td>360.00000</td>\n",
       "      <td>1.000000</td>\n",
       "    </tr>\n",
       "    <tr>\n",
       "      <th>50%</th>\n",
       "      <td>3812.500000</td>\n",
       "      <td>1188.500000</td>\n",
       "      <td>128.000000</td>\n",
       "      <td>360.00000</td>\n",
       "      <td>1.000000</td>\n",
       "    </tr>\n",
       "    <tr>\n",
       "      <th>75%</th>\n",
       "      <td>5795.000000</td>\n",
       "      <td>2297.250000</td>\n",
       "      <td>168.000000</td>\n",
       "      <td>360.00000</td>\n",
       "      <td>1.000000</td>\n",
       "    </tr>\n",
       "    <tr>\n",
       "      <th>max</th>\n",
       "      <td>81000.000000</td>\n",
       "      <td>41667.000000</td>\n",
       "      <td>700.000000</td>\n",
       "      <td>480.00000</td>\n",
       "      <td>1.000000</td>\n",
       "    </tr>\n",
       "  </tbody>\n",
       "</table>\n",
       "</div>"
      ],
      "text/plain": [
       "       ApplicantIncome  CoapplicantIncome  LoanAmount  Loan_Amount_Term  \\\n",
       "count       614.000000         614.000000  592.000000         600.00000   \n",
       "mean       5403.459283        1621.245798  146.412162         342.00000   \n",
       "std        6109.041673        2926.248369   85.587325          65.12041   \n",
       "min         150.000000           0.000000    9.000000          12.00000   \n",
       "25%        2877.500000           0.000000  100.000000         360.00000   \n",
       "50%        3812.500000        1188.500000  128.000000         360.00000   \n",
       "75%        5795.000000        2297.250000  168.000000         360.00000   \n",
       "max       81000.000000       41667.000000  700.000000         480.00000   \n",
       "\n",
       "       Credit_History  \n",
       "count      564.000000  \n",
       "mean         0.842199  \n",
       "std          0.364878  \n",
       "min          0.000000  \n",
       "25%          1.000000  \n",
       "50%          1.000000  \n",
       "75%          1.000000  \n",
       "max          1.000000  "
      ]
     },
     "execution_count": 9,
     "metadata": {},
     "output_type": "execute_result"
    }
   ],
   "source": [
    "df.describe()"
   ]
  },
  {
   "cell_type": "markdown",
   "id": "5c62c44c",
   "metadata": {},
   "source": [
    "Получите базовое решение:\n",
    "\n",
    "- 1. Удалите все пропущенные значения\n",
    "\n",
    "- 2. Удалите все категориальные переменные\n",
    "\n",
    "- 3. Обучите модель\n",
    "\n",
    "- 4. Выберете и посчитайте метрику качества\n"
   ]
  },
  {
   "cell_type": "code",
   "execution_count": 10,
   "id": "c99d53c5",
   "metadata": {},
   "outputs": [],
   "source": [
    "class SimplePipeLine(BaseEstimator, TransformerMixin):\n",
    "    def __init__(self, df_in, y='Loan_Status'):\n",
    "        self.df = df_in.copy()\n",
    "        self.name_y = y\n",
    "        self.operations = (self.del_all_nan, \n",
    "                           self.change_y, \n",
    "                           self.del_all_categarial)\n",
    "    \n",
    "    def transform(self):\n",
    "        for operation in self.operations:\n",
    "            operation()\n",
    "        return self.df\n",
    "        \n",
    "    def change_y(self):\n",
    "        print(f'Заменяем строки на значения 1/0 в целевом признаке...')\n",
    "        if self.df[self.name_y].dtype == 'object':\n",
    "            self.df[self.name_y] = self.df[self.name_y].map(lambda x: 1 if x == 'Y' else 0)\n",
    "            print(f'-> Строки заменены\\n')\n",
    "        else:\n",
    "            print(f'- Ничего менять не надо...\\n')\n",
    "    \n",
    "    def del_all_nan(self):\n",
    "        print(f'Проводим удаление пропусков...')\n",
    "        start = len(self.df)\n",
    "        self.df.dropna(inplace=True)\n",
    "        print(f'-> Удалено: {start - len(self.df)} строк\\n')\n",
    "    \n",
    "    def del_all_categarial(self):\n",
    "        print(f'Проводим удаление категориальных переменных...')\n",
    "        categorial = self.df.select_dtypes('object').columns\n",
    "        print(f'-> Найдены категориальные переменные: {len(categorial)} шт')\n",
    "        self.df.drop(columns=categorial, inplace=True)\n",
    "        print(f'-> Удалено: {len(categorial)} стoлбцов\\n')\n",
    "    "
   ]
  },
  {
   "cell_type": "code",
   "execution_count": 11,
   "id": "0e78f1a1",
   "metadata": {},
   "outputs": [
    {
     "name": "stdout",
     "output_type": "stream",
     "text": [
      "Проводим удаление пропусков...\n",
      "-> Удалено: 134 строк\n",
      "\n",
      "Заменяем строки на значения 1/0 в целевом признаке...\n",
      "-> Строки заменены\n",
      "\n",
      "Проводим удаление категориальных переменных...\n",
      "-> Найдены категориальные переменные: 7 шт\n",
      "-> Удалено: 7 стoлбцов\n",
      "\n"
     ]
    }
   ],
   "source": [
    "pipe = SimplePipeLine(df)\n",
    "df_simple = pipe.transform()"
   ]
  },
  {
   "cell_type": "code",
   "execution_count": 12,
   "id": "247d249f",
   "metadata": {},
   "outputs": [
    {
     "data": {
      "text/html": [
       "<div>\n",
       "<style scoped>\n",
       "    .dataframe tbody tr th:only-of-type {\n",
       "        vertical-align: middle;\n",
       "    }\n",
       "\n",
       "    .dataframe tbody tr th {\n",
       "        vertical-align: top;\n",
       "    }\n",
       "\n",
       "    .dataframe thead th {\n",
       "        text-align: right;\n",
       "    }\n",
       "</style>\n",
       "<table border=\"1\" class=\"dataframe\">\n",
       "  <thead>\n",
       "    <tr style=\"text-align: right;\">\n",
       "      <th></th>\n",
       "      <th>ApplicantIncome</th>\n",
       "      <th>CoapplicantIncome</th>\n",
       "      <th>LoanAmount</th>\n",
       "      <th>Loan_Amount_Term</th>\n",
       "      <th>Credit_History</th>\n",
       "      <th>Loan_Status</th>\n",
       "    </tr>\n",
       "  </thead>\n",
       "  <tbody>\n",
       "    <tr>\n",
       "      <th>1</th>\n",
       "      <td>4583</td>\n",
       "      <td>1508.0</td>\n",
       "      <td>128.0</td>\n",
       "      <td>360.0</td>\n",
       "      <td>1.0</td>\n",
       "      <td>0</td>\n",
       "    </tr>\n",
       "    <tr>\n",
       "      <th>2</th>\n",
       "      <td>3000</td>\n",
       "      <td>0.0</td>\n",
       "      <td>66.0</td>\n",
       "      <td>360.0</td>\n",
       "      <td>1.0</td>\n",
       "      <td>1</td>\n",
       "    </tr>\n",
       "    <tr>\n",
       "      <th>3</th>\n",
       "      <td>2583</td>\n",
       "      <td>2358.0</td>\n",
       "      <td>120.0</td>\n",
       "      <td>360.0</td>\n",
       "      <td>1.0</td>\n",
       "      <td>1</td>\n",
       "    </tr>\n",
       "    <tr>\n",
       "      <th>4</th>\n",
       "      <td>6000</td>\n",
       "      <td>0.0</td>\n",
       "      <td>141.0</td>\n",
       "      <td>360.0</td>\n",
       "      <td>1.0</td>\n",
       "      <td>1</td>\n",
       "    </tr>\n",
       "    <tr>\n",
       "      <th>5</th>\n",
       "      <td>5417</td>\n",
       "      <td>4196.0</td>\n",
       "      <td>267.0</td>\n",
       "      <td>360.0</td>\n",
       "      <td>1.0</td>\n",
       "      <td>1</td>\n",
       "    </tr>\n",
       "  </tbody>\n",
       "</table>\n",
       "</div>"
      ],
      "text/plain": [
       "   ApplicantIncome  CoapplicantIncome  LoanAmount  Loan_Amount_Term  \\\n",
       "1             4583             1508.0       128.0             360.0   \n",
       "2             3000                0.0        66.0             360.0   \n",
       "3             2583             2358.0       120.0             360.0   \n",
       "4             6000                0.0       141.0             360.0   \n",
       "5             5417             4196.0       267.0             360.0   \n",
       "\n",
       "   Credit_History  Loan_Status  \n",
       "1             1.0            0  \n",
       "2             1.0            1  \n",
       "3             1.0            1  \n",
       "4             1.0            1  \n",
       "5             1.0            1  "
      ]
     },
     "execution_count": 12,
     "metadata": {},
     "output_type": "execute_result"
    }
   ],
   "source": [
    "df_simple.head()"
   ]
  },
  {
   "cell_type": "markdown",
   "id": "4c9290f8",
   "metadata": {},
   "source": [
    "Разобьем данные на тренеровочную и тестовую выборки:"
   ]
  },
  {
   "cell_type": "code",
   "execution_count": 13,
   "id": "8b8a958d",
   "metadata": {},
   "outputs": [],
   "source": [
    "X_train, X_test, y_train, y_test = train_test_split(df_simple.drop('Loan_Status', axis = 1), \\\n",
    "                                                    df_simple['Loan_Status'], test_size=0.33, random_state=42)"
   ]
  },
  {
   "cell_type": "markdown",
   "id": "a506b3af",
   "metadata": {},
   "source": [
    "Обучим базовую модель:"
   ]
  },
  {
   "cell_type": "code",
   "execution_count": 14,
   "id": "4802edba",
   "metadata": {},
   "outputs": [
    {
     "data": {
      "text/plain": [
       "LogisticRegression()"
      ]
     },
     "execution_count": 14,
     "metadata": {},
     "output_type": "execute_result"
    }
   ],
   "source": [
    "base_model = LogisticRegression()\n",
    "base_model.fit(X_train, y_train)"
   ]
  },
  {
   "cell_type": "markdown",
   "id": "c0fa9b85",
   "metadata": {},
   "source": [
    "Рассчитаем показатель score метрики:"
   ]
  },
  {
   "cell_type": "code",
   "execution_count": 15,
   "id": "395ebeba",
   "metadata": {},
   "outputs": [
    {
     "data": {
      "text/plain": [
       "0.8130841121495327"
      ]
     },
     "execution_count": 15,
     "metadata": {},
     "output_type": "execute_result"
    }
   ],
   "source": [
    "accuracy_train = base_model.score(X_train, y_train)\n",
    "accuracy_train"
   ]
  },
  {
   "cell_type": "code",
   "execution_count": 16,
   "id": "57081341",
   "metadata": {},
   "outputs": [
    {
     "data": {
      "text/plain": [
       "0.7987421383647799"
      ]
     },
     "execution_count": 16,
     "metadata": {},
     "output_type": "execute_result"
    }
   ],
   "source": [
    "base_model.score(X_test, y_test)"
   ]
  },
  {
   "cell_type": "markdown",
   "id": "db80427d",
   "metadata": {},
   "source": [
    "Показатель precission:"
   ]
  },
  {
   "cell_type": "code",
   "execution_count": 17,
   "id": "c28c6082",
   "metadata": {},
   "outputs": [
    {
     "data": {
      "text/plain": [
       "1.0"
      ]
     },
     "execution_count": 17,
     "metadata": {},
     "output_type": "execute_result"
    }
   ],
   "source": [
    "precission = fbeta_score(base_model.predict(X_test), y_test, beta = 0)\n",
    "precission"
   ]
  },
  {
   "cell_type": "markdown",
   "id": "f6c59b13",
   "metadata": {},
   "source": [
    "Показатель recall:"
   ]
  },
  {
   "cell_type": "code",
   "execution_count": 18,
   "id": "6e0f29ad",
   "metadata": {},
   "outputs": [
    {
     "data": {
      "text/plain": [
       "0.7777777795061728"
      ]
     },
     "execution_count": 18,
     "metadata": {},
     "output_type": "execute_result"
    }
   ],
   "source": [
    "recall = fbeta_score(base_model.predict(X_test), y_test, beta = 10000)\n",
    "recall"
   ]
  },
  {
   "cell_type": "markdown",
   "id": "e5c59be9",
   "metadata": {},
   "source": [
    "Показатель fscore:"
   ]
  },
  {
   "cell_type": "code",
   "execution_count": 39,
   "id": "70e3181b",
   "metadata": {},
   "outputs": [
    {
     "data": {
      "text/plain": [
       "0.8750000000000001"
      ]
     },
     "execution_count": 39,
     "metadata": {},
     "output_type": "execute_result"
    }
   ],
   "source": [
    "fscore = fbeta_score(base_model.predict(X_test), y_test, beta = 1)\n",
    "fscore"
   ]
  },
  {
   "cell_type": "code",
   "execution_count": 40,
   "id": "2ac8e070",
   "metadata": {},
   "outputs": [
    {
     "data": {
      "text/plain": [
       "0.6559650455927051"
      ]
     },
     "execution_count": 40,
     "metadata": {},
     "output_type": "execute_result"
    }
   ],
   "source": [
    "roc_auc_score(y_test, base_model.predict_proba(X_test)[:, 1])"
   ]
  },
  {
   "cell_type": "code",
   "execution_count": 41,
   "id": "d9ae591e",
   "metadata": {
    "scrolled": true
   },
   "outputs": [
    {
     "data": {
      "image/png": "[encoded data removed]",
      "text/plain": [
       "<Figure size 432x288 with 1 Axes>"
      ]
     },
     "metadata": {
      "needs_background": "light"
     },
     "output_type": "display_data"
    }
   ],
   "source": [
    "fpr, tpr, thresholds = roc_curve(y_test, base_model.predict_proba(X_test)[:, 1])\n",
    "roc_auc = auc(fpr, tpr)\n",
    "plt.figure()\n",
    "plt.plot(fpr, tpr, color='darkorange',\n",
    "         lw=1, label='ROC curve (area = %0.2f)' % roc_auc)\n",
    "plt.plot([0, 1], [0, 1], color='navy', lw=1, linestyle='--')\n",
    "plt.xlim([0.0, 1.0])\n",
    "plt.ylim([0.0, 1.05])\n",
    "plt.xlabel('False Positive Rate')\n",
    "plt.ylabel('True Positive Rate')\n",
    "plt.title('ROC curve')\n",
    "plt.legend(loc=\"lower right\")\n",
    "plt.show()"
   ]
  },
  {
   "cell_type": "code",
   "execution_count": 639,
   "id": "41a47d48",
   "metadata": {},
   "outputs": [
    {
     "data": {
      "text/plain": [
       "0.6853582554517134"
      ]
     },
     "execution_count": 639,
     "metadata": {},
     "output_type": "execute_result"
    }
   ],
   "source": [
    "counts = y_train.value_counts()\n",
    "counts[1] / sum(counts) # Доля целевой категории от тренеровочной выборки "
   ]
  },
  {
   "cell_type": "code",
   "execution_count": 73,
   "id": "111e3d11",
   "metadata": {},
   "outputs": [
    {
     "data": {
      "text/plain": [
       "1    220\n",
       "0    101\n",
       "Name: Loan_Status, dtype: int64"
      ]
     },
     "execution_count": 73,
     "metadata": {},
     "output_type": "execute_result"
    }
   ],
   "source": [
    "counts"
   ]
  },
  {
   "cell_type": "code",
   "execution_count": 64,
   "id": "72d7ad76",
   "metadata": {},
   "outputs": [
    {
     "data": {
      "text/plain": [
       "0.6595744680851063"
      ]
     },
     "execution_count": 64,
     "metadata": {},
     "output_type": "execute_result"
    }
   ],
   "source": [
    "fpr[np.argmax(tpr)] #Значение fpr при максимальном tpr"
   ]
  },
  {
   "cell_type": "markdown",
   "id": "7b43f7b2",
   "metadata": {},
   "source": [
    "<h3>Оценка качества базовой модели</h3>\n",
    "\n",
    "- Базовая модель точно определяет целевую характеристику (precission = 1) \n",
    "    \n",
    "- Имеет большой показатель ошибок 1 рода FPR (FPR = 0.66 при TPR = 1)\n",
    "\n",
    "- То есть базовая модель будет детектировать всех пользователей которым можно выдать займ.\n",
    "  Но при этом еще будут ложно задетектированы ~66% пользователей, которым займ давать нельзя.\n",
    "\n",
    "Учитывая, что доля 'положительных' заемщиков в выборке более чем в 2 раза больше доли 'отказников', \n",
    "модель даже модель 'дать заем всем' дала бы лучший результат на данной выборке пользователей (TPR = 1 / FPR = 0.31).\n",
    "\n",
    "ROC_AUC_SCORE данной модели = 0.655 (показатель качества модели - площадь под графиком ROC - кривой)\n",
    "\n",
    "\n",
    "Поработаем над улучшением качеста модели."
   ]
  },
  {
   "cell_type": "markdown",
   "id": "95819204",
   "metadata": {},
   "source": [
    "- 1. Проведите первичный анализ данных\n",
    "- 2. Проведите визуальный анализ данных\n",
    "- 3. Разбейте данные на обучение и тест\n",
    "- 4. Сделайте предобработку данных с помощью класса и пайплайна\n",
    "- 5. Обучите модель классификации с целевым признаком Loan_Status\n",
    "- 6. Оцените подходящие метрики качества\n",
    "- 7. Сформулируйте выводы по проделанной работе"
   ]
  },
  {
   "cell_type": "code",
   "execution_count": 50,
   "id": "a2287768",
   "metadata": {
    "scrolled": true
   },
   "outputs": [
    {
     "name": "stdout",
     "output_type": "stream",
     "text": [
      "<class 'pandas.core.frame.DataFrame'>\n",
      "RangeIndex: 614 entries, 0 to 613\n",
      "Data columns (total 13 columns):\n",
      " #   Column             Non-Null Count  Dtype  \n",
      "---  ------             --------------  -----  \n",
      " 0   Loan_ID            614 non-null    object \n",
      " 1   Gender             601 non-null    object \n",
      " 2   Married            611 non-null    object \n",
      " 3   Dependents         599 non-null    object \n",
      " 4   Education          614 non-null    object \n",
      " 5   Self_Employed      582 non-null    object \n",
      " 6   ApplicantIncome    614 non-null    int64  \n",
      " 7   CoapplicantIncome  614 non-null    float64\n",
      " 8   LoanAmount         592 non-null    float64\n",
      " 9   Loan_Amount_Term   600 non-null    float64\n",
      " 10  Credit_History     564 non-null    float64\n",
      " 11  Property_Area      614 non-null    object \n",
      " 12  Loan_Status        614 non-null    object \n",
      "dtypes: float64(4), int64(1), object(8)\n",
      "memory usage: 62.5+ KB\n"
     ]
    }
   ],
   "source": [
    "df.info()"
   ]
  },
  {
   "cell_type": "code",
   "execution_count": 75,
   "id": "c20f132e",
   "metadata": {},
   "outputs": [],
   "source": [
    "class HardPipeLine(BaseEstimator, TransformerMixin):\n",
    "    def __init__(self):\n",
    "        self.operations = (self.drop_id, \n",
    "                           self.drop_na,\n",
    "                          self.categorial_to_numeric,\n",
    "                          self.scale)\n",
    "        self.change_dict = {}\n",
    "        self.df = None\n",
    "    \n",
    "    def fit(self, df: pd.DataFrame):\n",
    "        self.df = df.copy()\n",
    "        \n",
    "    def transform(self):\n",
    "        for operation in self.operations:\n",
    "            operation()\n",
    "   \n",
    "    def drop_id(self):\n",
    "        print(f'Удаляем колонки с ID...')\n",
    "        \n",
    "        self.df.drop('Loan_ID', axis = 1, inplace=True)\n",
    "        \n",
    "        print(f'-> Колонка Loan_ID удалена\\n')\n",
    "    \n",
    "    def categorial_to_numeric(self):\n",
    "        # Функция делает тоже, что и Lebel Encoding - тут для тренеровки.\n",
    "        \n",
    "        print(f'Заменяем категориальные переменные на числовые...')\n",
    "        \n",
    "        categorial = self.df.select_dtypes('object')\n",
    "        \n",
    "        for column in categorial:\n",
    "            self.change_dict[column] = {}\n",
    "            for counter, el in enumerate(categorial[column].unique()):\n",
    "                self.change_dict[column][el] = counter\n",
    "            self.df[column] = categorial[column].map(lambda x: self.change_dict[column][x])\n",
    "            \n",
    "        print(f'-> Собран словарь для замены строк значениями\\n')\n",
    "        \n",
    "        for el in self.change_dict:\n",
    "            print(f'{el}: {self.change_dict[el]}')\n",
    "            \n",
    "        print()\n",
    "        print(f'-> Проведена замена строк значениями в df по словарю выше\\n')\n",
    "    \n",
    "    def drop_na(self):\n",
    "        print(f'Удаляем строки с пустыми значениями...')\n",
    "        \n",
    "        start = len(self.df)\n",
    "        self.df.dropna(inplace=True)\n",
    "        \n",
    "        print(f'-> Удалено: {start - len(self.df)} строк данных с пропусками\\n')\n",
    "    \n",
    "    def scale(self):\n",
    "        #Ручной min / max scaller\n",
    "        \n",
    "        print(f'Масштабируем данные в формате min/max масштабирования...')\n",
    "        \n",
    "        self.df = self.df.round(3)/(self.df.max(axis=0) - self.df.min(axis=0)).round(2)\n",
    "        \n",
    "        print(f'-> Данные масштабированы')\n",
    "    "
   ]
  },
  {
   "cell_type": "code",
   "execution_count": 76,
   "id": "b1dd8bbd",
   "metadata": {
    "scrolled": false
   },
   "outputs": [
    {
     "name": "stdout",
     "output_type": "stream",
     "text": [
      "Удаляем колонки с ID...\n",
      "-> Колонка Loan_ID удалена\n",
      "\n",
      "Удаляем строки с пустыми значениями...\n",
      "-> Удалено: 134 строк данных с пропусками\n",
      "\n",
      "Заменяем категориальные переменные на числовые...\n",
      "-> Собран словарь для замены строк значениями\n",
      "\n",
      "Gender: {'Male': 0, 'Female': 1}\n",
      "Married: {'Yes': 0, 'No': 1}\n",
      "Dependents: {'1': 0, '0': 1, '2': 2, '3+': 3}\n",
      "Education: {'Graduate': 0, 'Not Graduate': 1}\n",
      "Self_Employed: {'No': 0, 'Yes': 1}\n",
      "Property_Area: {'Rural': 0, 'Urban': 1, 'Semiurban': 2}\n",
      "Loan_Status: {'N': 0, 'Y': 1}\n",
      "\n",
      "-> Проведена замена строк значениями в df по словарю выше\n",
      "\n",
      "Масштабируем данные в формате min/max масштабирования...\n",
      "-> Данные масштабированы\n"
     ]
    },
    {
     "data": {
      "text/html": [
       "<div>\n",
       "<style scoped>\n",
       "    .dataframe tbody tr th:only-of-type {\n",
       "        vertical-align: middle;\n",
       "    }\n",
       "\n",
       "    .dataframe tbody tr th {\n",
       "        vertical-align: top;\n",
       "    }\n",
       "\n",
       "    .dataframe thead th {\n",
       "        text-align: right;\n",
       "    }\n",
       "</style>\n",
       "<table border=\"1\" class=\"dataframe\">\n",
       "  <thead>\n",
       "    <tr style=\"text-align: right;\">\n",
       "      <th></th>\n",
       "      <th>Gender</th>\n",
       "      <th>Married</th>\n",
       "      <th>Dependents</th>\n",
       "      <th>Education</th>\n",
       "      <th>Self_Employed</th>\n",
       "      <th>ApplicantIncome</th>\n",
       "      <th>CoapplicantIncome</th>\n",
       "      <th>LoanAmount</th>\n",
       "      <th>Loan_Amount_Term</th>\n",
       "      <th>Credit_History</th>\n",
       "      <th>Property_Area</th>\n",
       "      <th>Loan_Status</th>\n",
       "    </tr>\n",
       "  </thead>\n",
       "  <tbody>\n",
       "    <tr>\n",
       "      <th>1</th>\n",
       "      <td>0.0</td>\n",
       "      <td>0.0</td>\n",
       "      <td>0.000000</td>\n",
       "      <td>0.0</td>\n",
       "      <td>0.0</td>\n",
       "      <td>0.056685</td>\n",
       "      <td>0.044567</td>\n",
       "      <td>0.216582</td>\n",
       "      <td>0.810811</td>\n",
       "      <td>1.0</td>\n",
       "      <td>0.0</td>\n",
       "      <td>0.0</td>\n",
       "    </tr>\n",
       "    <tr>\n",
       "      <th>2</th>\n",
       "      <td>0.0</td>\n",
       "      <td>0.0</td>\n",
       "      <td>0.333333</td>\n",
       "      <td>0.0</td>\n",
       "      <td>1.0</td>\n",
       "      <td>0.037106</td>\n",
       "      <td>0.000000</td>\n",
       "      <td>0.111675</td>\n",
       "      <td>0.810811</td>\n",
       "      <td>1.0</td>\n",
       "      <td>0.5</td>\n",
       "      <td>1.0</td>\n",
       "    </tr>\n",
       "    <tr>\n",
       "      <th>3</th>\n",
       "      <td>0.0</td>\n",
       "      <td>0.0</td>\n",
       "      <td>0.333333</td>\n",
       "      <td>1.0</td>\n",
       "      <td>0.0</td>\n",
       "      <td>0.031948</td>\n",
       "      <td>0.069687</td>\n",
       "      <td>0.203046</td>\n",
       "      <td>0.810811</td>\n",
       "      <td>1.0</td>\n",
       "      <td>0.5</td>\n",
       "      <td>1.0</td>\n",
       "    </tr>\n",
       "    <tr>\n",
       "      <th>4</th>\n",
       "      <td>0.0</td>\n",
       "      <td>1.0</td>\n",
       "      <td>0.333333</td>\n",
       "      <td>0.0</td>\n",
       "      <td>0.0</td>\n",
       "      <td>0.074212</td>\n",
       "      <td>0.000000</td>\n",
       "      <td>0.238579</td>\n",
       "      <td>0.810811</td>\n",
       "      <td>1.0</td>\n",
       "      <td>0.5</td>\n",
       "      <td>1.0</td>\n",
       "    </tr>\n",
       "    <tr>\n",
       "      <th>5</th>\n",
       "      <td>0.0</td>\n",
       "      <td>0.0</td>\n",
       "      <td>0.666667</td>\n",
       "      <td>0.0</td>\n",
       "      <td>1.0</td>\n",
       "      <td>0.067001</td>\n",
       "      <td>0.124006</td>\n",
       "      <td>0.451777</td>\n",
       "      <td>0.810811</td>\n",
       "      <td>1.0</td>\n",
       "      <td>0.5</td>\n",
       "      <td>1.0</td>\n",
       "    </tr>\n",
       "  </tbody>\n",
       "</table>\n",
       "</div>"
      ],
      "text/plain": [
       "   Gender  Married  Dependents  Education  Self_Employed  ApplicantIncome  \\\n",
       "1     0.0      0.0    0.000000        0.0            0.0         0.056685   \n",
       "2     0.0      0.0    0.333333        0.0            1.0         0.037106   \n",
       "3     0.0      0.0    0.333333        1.0            0.0         0.031948   \n",
       "4     0.0      1.0    0.333333        0.0            0.0         0.074212   \n",
       "5     0.0      0.0    0.666667        0.0            1.0         0.067001   \n",
       "\n",
       "   CoapplicantIncome  LoanAmount  Loan_Amount_Term  Credit_History  \\\n",
       "1           0.044567    0.216582          0.810811             1.0   \n",
       "2           0.000000    0.111675          0.810811             1.0   \n",
       "3           0.069687    0.203046          0.810811             1.0   \n",
       "4           0.000000    0.238579          0.810811             1.0   \n",
       "5           0.124006    0.451777          0.810811             1.0   \n",
       "\n",
       "   Property_Area  Loan_Status  \n",
       "1            0.0          0.0  \n",
       "2            0.5          1.0  \n",
       "3            0.5          1.0  \n",
       "4            0.5          1.0  \n",
       "5            0.5          1.0  "
      ]
     },
     "execution_count": 76,
     "metadata": {},
     "output_type": "execute_result"
    }
   ],
   "source": [
    "pipe1 = HardPipeLine()\n",
    "pipe1.fit(df)\n",
    "pipe1.transform()\n",
    "pipe1.df.head()\n"
   ]
  },
  {
   "cell_type": "code",
   "execution_count": 77,
   "id": "431f491a",
   "metadata": {},
   "outputs": [
    {
     "data": {
      "text/html": [
       "<div>\n",
       "<style scoped>\n",
       "    .dataframe tbody tr th:only-of-type {\n",
       "        vertical-align: middle;\n",
       "    }\n",
       "\n",
       "    .dataframe tbody tr th {\n",
       "        vertical-align: top;\n",
       "    }\n",
       "\n",
       "    .dataframe thead th {\n",
       "        text-align: right;\n",
       "    }\n",
       "</style>\n",
       "<table border=\"1\" class=\"dataframe\">\n",
       "  <thead>\n",
       "    <tr style=\"text-align: right;\">\n",
       "      <th></th>\n",
       "      <th>Gender</th>\n",
       "      <th>Married</th>\n",
       "      <th>Dependents</th>\n",
       "      <th>Education</th>\n",
       "      <th>Self_Employed</th>\n",
       "      <th>ApplicantIncome</th>\n",
       "      <th>CoapplicantIncome</th>\n",
       "      <th>LoanAmount</th>\n",
       "      <th>Loan_Amount_Term</th>\n",
       "      <th>Credit_History</th>\n",
       "      <th>Property_Area</th>\n",
       "      <th>Loan_Status</th>\n",
       "    </tr>\n",
       "  </thead>\n",
       "  <tbody>\n",
       "    <tr>\n",
       "      <th>1</th>\n",
       "      <td>0.0</td>\n",
       "      <td>0.0</td>\n",
       "      <td>0.000000</td>\n",
       "      <td>0.0</td>\n",
       "      <td>0.0</td>\n",
       "      <td>0.056685</td>\n",
       "      <td>0.044567</td>\n",
       "      <td>0.216582</td>\n",
       "      <td>0.810811</td>\n",
       "      <td>1.0</td>\n",
       "      <td>0.0</td>\n",
       "      <td>0.0</td>\n",
       "    </tr>\n",
       "    <tr>\n",
       "      <th>2</th>\n",
       "      <td>0.0</td>\n",
       "      <td>0.0</td>\n",
       "      <td>0.333333</td>\n",
       "      <td>0.0</td>\n",
       "      <td>1.0</td>\n",
       "      <td>0.037106</td>\n",
       "      <td>0.000000</td>\n",
       "      <td>0.111675</td>\n",
       "      <td>0.810811</td>\n",
       "      <td>1.0</td>\n",
       "      <td>0.5</td>\n",
       "      <td>1.0</td>\n",
       "    </tr>\n",
       "    <tr>\n",
       "      <th>3</th>\n",
       "      <td>0.0</td>\n",
       "      <td>0.0</td>\n",
       "      <td>0.333333</td>\n",
       "      <td>1.0</td>\n",
       "      <td>0.0</td>\n",
       "      <td>0.031948</td>\n",
       "      <td>0.069687</td>\n",
       "      <td>0.203046</td>\n",
       "      <td>0.810811</td>\n",
       "      <td>1.0</td>\n",
       "      <td>0.5</td>\n",
       "      <td>1.0</td>\n",
       "    </tr>\n",
       "    <tr>\n",
       "      <th>4</th>\n",
       "      <td>0.0</td>\n",
       "      <td>1.0</td>\n",
       "      <td>0.333333</td>\n",
       "      <td>0.0</td>\n",
       "      <td>0.0</td>\n",
       "      <td>0.074212</td>\n",
       "      <td>0.000000</td>\n",
       "      <td>0.238579</td>\n",
       "      <td>0.810811</td>\n",
       "      <td>1.0</td>\n",
       "      <td>0.5</td>\n",
       "      <td>1.0</td>\n",
       "    </tr>\n",
       "    <tr>\n",
       "      <th>5</th>\n",
       "      <td>0.0</td>\n",
       "      <td>0.0</td>\n",
       "      <td>0.666667</td>\n",
       "      <td>0.0</td>\n",
       "      <td>1.0</td>\n",
       "      <td>0.067001</td>\n",
       "      <td>0.124006</td>\n",
       "      <td>0.451777</td>\n",
       "      <td>0.810811</td>\n",
       "      <td>1.0</td>\n",
       "      <td>0.5</td>\n",
       "      <td>1.0</td>\n",
       "    </tr>\n",
       "  </tbody>\n",
       "</table>\n",
       "</div>"
      ],
      "text/plain": [
       "   Gender  Married  Dependents  Education  Self_Employed  ApplicantIncome  \\\n",
       "1     0.0      0.0    0.000000        0.0            0.0         0.056685   \n",
       "2     0.0      0.0    0.333333        0.0            1.0         0.037106   \n",
       "3     0.0      0.0    0.333333        1.0            0.0         0.031948   \n",
       "4     0.0      1.0    0.333333        0.0            0.0         0.074212   \n",
       "5     0.0      0.0    0.666667        0.0            1.0         0.067001   \n",
       "\n",
       "   CoapplicantIncome  LoanAmount  Loan_Amount_Term  Credit_History  \\\n",
       "1           0.044567    0.216582          0.810811             1.0   \n",
       "2           0.000000    0.111675          0.810811             1.0   \n",
       "3           0.069687    0.203046          0.810811             1.0   \n",
       "4           0.000000    0.238579          0.810811             1.0   \n",
       "5           0.124006    0.451777          0.810811             1.0   \n",
       "\n",
       "   Property_Area  Loan_Status  \n",
       "1            0.0          0.0  \n",
       "2            0.5          1.0  \n",
       "3            0.5          1.0  \n",
       "4            0.5          1.0  \n",
       "5            0.5          1.0  "
      ]
     },
     "execution_count": 77,
     "metadata": {},
     "output_type": "execute_result"
    }
   ],
   "source": [
    "df_hard = pipe1.df\n",
    "df_hard.head()"
   ]
  },
  {
   "cell_type": "code",
   "execution_count": 78,
   "id": "e53ad221",
   "metadata": {},
   "outputs": [],
   "source": [
    "X_train2, X_test2, y_train2, y_test2 = train_test_split(df_hard.drop('Loan_Status', axis = 1), \\\n",
    "                                                    df_hard['Loan_Status'], test_size=0.33, random_state=42)"
   ]
  },
  {
   "cell_type": "code",
   "execution_count": 79,
   "id": "3bee5879",
   "metadata": {},
   "outputs": [],
   "source": [
    "model2 = LogisticRegression()\n",
    "model2 = model2.fit(X_train2, y_train2)"
   ]
  },
  {
   "cell_type": "markdown",
   "id": "bf8b6207",
   "metadata": {},
   "source": [
    "Рассчитаем показатель score метрики:"
   ]
  },
  {
   "cell_type": "code",
   "execution_count": 80,
   "id": "27a4c0f8",
   "metadata": {},
   "outputs": [
    {
     "data": {
      "text/plain": [
       "0.8130841121495327"
      ]
     },
     "execution_count": 80,
     "metadata": {},
     "output_type": "execute_result"
    }
   ],
   "source": [
    "accuracy_train2 = model2.score(X_train2, y_train2)\n",
    "accuracy_train2"
   ]
  },
  {
   "cell_type": "code",
   "execution_count": 81,
   "id": "9193a4b7",
   "metadata": {},
   "outputs": [
    {
     "data": {
      "text/plain": [
       "0.7987421383647799"
      ]
     },
     "execution_count": 81,
     "metadata": {},
     "output_type": "execute_result"
    }
   ],
   "source": [
    "model2.score(X_test2, y_test2)"
   ]
  },
  {
   "cell_type": "markdown",
   "id": "9bca400d",
   "metadata": {},
   "source": [
    "Показатель precission:"
   ]
  },
  {
   "cell_type": "code",
   "execution_count": 58,
   "id": "c372e800",
   "metadata": {},
   "outputs": [
    {
     "data": {
      "text/plain": [
       "1.0"
      ]
     },
     "execution_count": 58,
     "metadata": {},
     "output_type": "execute_result"
    }
   ],
   "source": [
    "precission2 = fbeta_score(model2.predict(X_test2), y_test2, beta = 0)\n",
    "precission"
   ]
  },
  {
   "cell_type": "markdown",
   "id": "532d29d7",
   "metadata": {},
   "source": [
    "Показатель recall:"
   ]
  },
  {
   "cell_type": "code",
   "execution_count": 59,
   "id": "638ae50f",
   "metadata": {},
   "outputs": [
    {
     "data": {
      "text/plain": [
       "0.7777777795061728"
      ]
     },
     "execution_count": 59,
     "metadata": {},
     "output_type": "execute_result"
    }
   ],
   "source": [
    "recall = fbeta_score(model2.predict(X_test2), y_test2, beta = 10000)\n",
    "recall"
   ]
  },
  {
   "cell_type": "markdown",
   "id": "650afa2f",
   "metadata": {},
   "source": [
    "Показатель fscore:"
   ]
  },
  {
   "cell_type": "code",
   "execution_count": 60,
   "id": "a93a0342",
   "metadata": {},
   "outputs": [
    {
     "data": {
      "text/plain": [
       "0.8750000000000001"
      ]
     },
     "execution_count": 60,
     "metadata": {},
     "output_type": "execute_result"
    }
   ],
   "source": [
    "fscore2 = fbeta_score(model2.predict(X_test2), y_test2, beta = 1)\n",
    "fscore2"
   ]
  },
  {
   "cell_type": "code",
   "execution_count": 61,
   "id": "fb376cb8",
   "metadata": {},
   "outputs": [
    {
     "data": {
      "text/plain": [
       "0.8106003039513677"
      ]
     },
     "execution_count": 61,
     "metadata": {},
     "output_type": "execute_result"
    }
   ],
   "source": [
    "roc_auc_score(y_test2, model2.predict_proba(X_test2)[:, 1])"
   ]
  },
  {
   "cell_type": "markdown",
   "id": "840e153e",
   "metadata": {},
   "source": [
    "<h3>Промежуточные выводы </h3>\n",
    "\n",
    "- Метрики precission, recall (соответственно и f-score) не изменились.\n",
    "\n",
    "    Модель по-прежнему определеяет примерно 78% всех 'положительных' клиентов с 100% точностью.\n",
    "    \n",
    "- Такой высокий показатель не гарантирует качество модели, так как выборка не сбалансирована.\n",
    "\n",
    "Однако для применения в 'поле' конкретно к поставленной задаче, \n",
    "\n",
    "нам важно не найти всех 'одобряемых' клиентов.\n",
    "\n",
    "Нам нужно найти максимальное количество 'положительных' при минимальном количестве ложных сробатываний под 'отказников'.\n",
    "\n",
    "Для этого мы и улучшали модель.\n",
    "\n",
    "roc_auc_score = новой модели 0,811 (против 0,66 первой)"
   ]
  },
  {
   "cell_type": "code",
   "execution_count": 604,
   "id": "47fe128d",
   "metadata": {
    "scrolled": true
   },
   "outputs": [
    {
     "data": {
      "image/png": "[encoded data removed]",
      "text/plain": [
       "<Figure size 432x288 with 1 Axes>"
      ]
     },
     "metadata": {
      "needs_background": "light"
     },
     "output_type": "display_data"
    }
   ],
   "source": [
    "fpr2, tpr2, thresholds2 = roc_curve(y_test2, model2.predict_proba(X_test2)[:, 1])\n",
    "roc_auc2 = auc(fpr2, tpr2)\n",
    "plt.figure()\n",
    "plt.plot(fpr2, tpr2, color='darkorange',\n",
    "         lw=1, label='ROC curve (area = %0.2f)' % roc_auc2)\n",
    "plt.plot([0, 1], [0, 1], color='navy', lw=1, linestyle='--')\n",
    "plt.xlim([0.0, 1.0])\n",
    "plt.ylim([0.0, 1.05])\n",
    "plt.xlabel('False Positive Rate')\n",
    "plt.ylabel('True Positive Rate')\n",
    "plt.title('ROC curve')\n",
    "plt.legend(loc=\"lower right\")\n",
    "plt.show()"
   ]
  },
  {
   "cell_type": "code",
   "execution_count": 605,
   "id": "5354ffd3",
   "metadata": {},
   "outputs": [
    {
     "data": {
      "text/plain": [
       "0.8106003039513677"
      ]
     },
     "execution_count": 605,
     "metadata": {},
     "output_type": "execute_result"
    }
   ],
   "source": [
    "roc_auc2"
   ]
  },
  {
   "cell_type": "markdown",
   "id": "63309bf6",
   "metadata": {},
   "source": [
    "<h3>Настройка модели под задачу</h3>\n",
    "\n",
    "- В зависимости от кредитной политики, занимаемой доли рынка, ключевй ставки, % взыскания долгов (и еще сотни параметров)\n",
    "  кредитная организация определяет приемлимую максимальную долю 'неплательщиков'. Это будет максимальный приeмлимый FPR.\n",
    "  \n",
    "  \n",
    "- Таким образом, чем выше качество модели, тем большую долю 'плательщиков' мы можем детектировать не привышая допустимый порог ошибки.\n",
    "\n",
    "\n"
   ]
  },
  {
   "cell_type": "markdown",
   "id": "f2c406f0",
   "metadata": {},
   "source": [
    "В целом, мы не знаем пороговое значение FPR в конкретном кейсе, но можем построить график изменения разницы TPR - FPR как целевой функции и предложить несколько вариантов тюнинга модели под конкретные задачи."
   ]
  },
  {
   "cell_type": "markdown",
   "id": "beb8ef0a",
   "metadata": {},
   "source": [
    "Определим лучшие точки тюнинга модели:\n",
    "\n",
    "Определим максимальный тангенс угла прямой последовательно из каждой следующей точки. Следующую начальную точку выбираем как точку с макимальным тангенсом в прошлой итерации. Таким образом получим оптимальные точки подстройки нашей модели для определенных интервалах. Чем более выпукалая и плавная кривая TPR - FPR по форме  - тем более плавно можно регулировать настойку модели. Каждую точку определим порядковым номером случая и представим их на графике."
   ]
  },
  {
   "cell_type": "code",
   "execution_count": 635,
   "id": "22c22f29",
   "metadata": {},
   "outputs": [],
   "source": [
    "diff_base = tpr2 - fpr2"
   ]
  },
  {
   "cell_type": "code",
   "execution_count": 636,
   "id": "ff1a3113",
   "metadata": {},
   "outputs": [],
   "source": [
    "# Итерируемся по точкам: каждая следующая - точка с максимальным тангенсом. \n",
    "# Проходимся до tg >= 0 т.к. нас не интересует убывающий участок графика.\n",
    "\n",
    "best_tg_list = [] # список максимальных tg\n",
    "best_diff_list = [] # Список максимальных \n",
    "best_fpr_list = []\n",
    "\n",
    "temp_fpr = min(fpr2) # Начальные точка FPR обхода\n",
    "temp_diff = diff_base[fpr2.argmin()] # Начальная точка DIFF обхода\n",
    "for _ in diff_base:\n",
    "    fpr_f = fpr2[fpr2 > temp_fpr]\n",
    "    diff_f = diff_base[fpr2 > temp_fpr]\n",
    "    tg_temp = (diff_f -  temp_diff) / (fpr_f - temp_fpr)\n",
    "    if max(tg_temp) >= 0:\n",
    "        best_tg_list.append(max(tg_temp))\n",
    "        best_diff_list.append(diff_f[tg_temp.argmax()])\n",
    "        best_fpr_list.append(fpr_f[tg_temp.argmax()])\n",
    "        temp_fpr = best_fpr_list[-1]\n",
    "        temp_diff = best_diff_list[-1]\n",
    "    else:\n",
    "        break\n"
   ]
  },
  {
   "cell_type": "code",
   "execution_count": 638,
   "id": "af6a9f0b",
   "metadata": {},
   "outputs": [
    {
     "data": {
      "image/png": "[encoded data removed]",
      "text/plain": [
       "<Figure size 720x576 with 1 Axes>"
      ]
     },
     "metadata": {
      "needs_background": "light"
     },
     "output_type": "display_data"
    }
   ],
   "source": [
    "plt.figure(figsize=(10, 8))\n",
    "plt.grid()\n",
    "plt.plot(fpr2, diff, lw=2)\n",
    "counter = 0\n",
    "for F, D, col in zip(best_fpr_list, best_diff_list, ['r', 'g', 'orange','m', 'p', 'b']):\n",
    "    counter += 1\n",
    "    plt.plot([0.001, F], [D, D],  color=col, lw=1, \n",
    "         linestyle='--', label=f'Difference case{counter} = %0.2f)' % D)\n",
    "    \n",
    "    plt.plot([F, F], [0, D],  color=col, lw=1, \n",
    "         linestyle='--', label=f'FPR case{counter} = %0.2f)' % F)\n",
    "    \n",
    "plt.scatter(best_fpr_list, best_diff_list, color='red', lw=4)\n",
    "\n",
    "plt.plot([0, *best_fpr_list], [0, *best_diff_list], color='gold', lw = 1)\n",
    "\n",
    "plt.xlim([0.0, 1])\n",
    "plt.ylim([0.0, max(diff) + 0.1])\n",
    "plt.xlabel('FPR rate of model2')\n",
    "plt.ylabel('Difference')\n",
    "plt.title('Difference =  TPR - FPR \\n Настройка модели под максимальный TPR')\n",
    "plt.legend(loc=\"upper right\")\n",
    "plt.show()"
   ]
  },
  {
   "cell_type": "markdown",
   "id": "fd06fcf0",
   "metadata": {},
   "source": [
    "<h4>1 сценарий: 'Нулевой терпимости к невыплатам':</h4>\n",
    "\n",
    "Может быть актуально при большом количестве заявок от неплательщиков и малом количестве заявок от платящих клиентов.\n",
    "\n",
    "FPR ~ 0.02\n",
    "\n",
    "TPR ~ 0.3\n",
    "\n",
    "По этому сценарию будут найдены и выданы всего 30% от всех потоенциальных 'хороших' клиентов,\n",
    "\n",
    "но при этом всего 2% от всех возможных 'неплательщиков' попадут в кредитный портфель."
   ]
  },
  {
   "cell_type": "markdown",
   "id": "d3a515c9",
   "metadata": {},
   "source": [
    "<h4>2 сценарий: 'Консервативный':</h4>\n",
    "\n",
    "Мы стараемся минимизировать ошибки, но охватываем большую долю плательщиков\n",
    "\n",
    "FPR ~ 0.09\n",
    "\n",
    "TPR ~ 0.48\n",
    "\n",
    "По этому сценарию будут найдены всего 48% от всех потоенциальных 'хороших' клиентов,\n",
    "\n",
    "но при этом 8% от всех возможных 'неплательщиков' попадут в кредитный портфель."
   ]
  },
  {
   "cell_type": "markdown",
   "id": "babafb70",
   "metadata": {},
   "source": [
    "<h4>3 сценарий 'Лояльный':</h4>\n",
    "\n",
    "Отмечен на графике выше:\n",
    "\n",
    "FPR ~ 0.23\n",
    "\n",
    "TPR ~ 0,74\n",
    "\n",
    "То есть мы выдадим кредит успешно определив 74% от всех возможных искомых клиентов.\n",
    "При этом прокредитуем 23% неплательщиков.\n"
   ]
  },
  {
   "cell_type": "markdown",
   "id": "4892ef37",
   "metadata": {},
   "source": [
    "<h4>4 сценарий 'Максимальных выдач':</h4>\n",
    "\n",
    "Отмечен на графике выше:\n",
    "\n",
    "FPR ~ 0.34\n",
    "\n",
    "TPR ~ 0,86\n",
    "\n",
    "То есть мы выдадим кредит успешно определив 86% от всех возможных искомых клиентов.\n",
    "При этом прокредитуем 34% неплательщиков.\n",
    "\n",
    "Такой сценарий подойдет когда в кредитной организации большой процент возврата средств от неплательщиков, или\n",
    "просто количество заявок от потенциальных неплательщиков кратно меньше количества заявок от платящей группы клиентов.\n",
    "Например, выдаем кредиты только своим сотрудникам.\n"
   ]
  },
  {
   "cell_type": "markdown",
   "id": "3d631871",
   "metadata": {},
   "source": [
    "Чтобы выбрать настройку, надо понимать доход с 1 плательщика и убытки с 1 неплательщика. На эти показатели влияет большое количество иных метрик. Чтобы что-то выбрать для настройки, сделаем ряд предположений:"
   ]
  },
  {
   "cell_type": "markdown",
   "id": "d2d7c5d2",
   "metadata": {},
   "source": [
    " - Распределение клиентов в выборке соответствует общей картине на рынке (то есть соотношение плательщик/неплательщик соответствует среднерыночному и неизменно, что точно не так, но других данных нет)\n",
    " - Допустим, чистый доход с 1 платящего клиента 5% (за вычетом расходов на его администрирование, ключевую ставки и т.д)\n",
    " - Пусть чистый убыток с 1 неплатащего клиента 20%\n",
    " \n",
    " Тогда можем выбрать лучший сценарий для наших исторических данных:\n",
    " "
   ]
  },
  {
   "cell_type": "code",
   "execution_count": 668,
   "id": "60b922f3",
   "metadata": {},
   "outputs": [
    {
     "data": {
      "image/png": "[encoded data removed]",
      "text/plain": [
       "<Figure size 432x288 with 1 Axes>"
      ]
     },
     "metadata": {
      "needs_background": "light"
     },
     "output_type": "display_data"
    }
   ],
   "source": [
    "counts = y_train.value_counts()\n",
    "good = counts[1] / sum(counts)\n",
    "bad = counts[0] / sum(counts)\n",
    "\n",
    "plt.figure(figsize=(6, 4))\n",
    "plt.bar(['Плательщики', 'Неплательщики'],[good, bad], color = ['green', 'red'])\n",
    "plt.title('Доля категорий клиентов в заявках')\n",
    "plt.show()"
   ]
  },
  {
   "cell_type": "code",
   "execution_count": 728,
   "id": "43cd6156",
   "metadata": {},
   "outputs": [],
   "source": [
    "income = 0.05 * (np.array(best_diff_list) * good + np.array(best_fpr_list)) -  0.2 * np.array(best_fpr_list) * bad"
   ]
  },
  {
   "cell_type": "code",
   "execution_count": 729,
   "id": "be024696",
   "metadata": {},
   "outputs": [
    {
     "data": {
      "text/plain": [
       "array([0.00939858, 0.01250533, 0.01434904, 0.01330568])"
      ]
     },
     "execution_count": 729,
     "metadata": {},
     "output_type": "execute_result"
    }
   ],
   "source": [
    "income"
   ]
  },
  {
   "cell_type": "code",
   "execution_count": 736,
   "id": "e9ca4edc",
   "metadata": {},
   "outputs": [],
   "source": [
    "final_FPR = best_fpr_list[income.argmax()]\n",
    "final_TPR = best_diff_list[income.argmax()] + final_FPR"
   ]
  },
  {
   "cell_type": "code",
   "execution_count": 737,
   "id": "3cf69c49",
   "metadata": {},
   "outputs": [
    {
     "data": {
      "text/plain": [
       "0.23404255319148937"
      ]
     },
     "execution_count": 737,
     "metadata": {},
     "output_type": "execute_result"
    }
   ],
   "source": [
    "final_FPR # Выбранный показатель FPR (case 3)"
   ]
  },
  {
   "cell_type": "code",
   "execution_count": 738,
   "id": "2675af54",
   "metadata": {},
   "outputs": [
    {
     "data": {
      "text/plain": [
       "0.7410714285714286"
      ]
     },
     "execution_count": 738,
     "metadata": {},
     "output_type": "execute_result"
    }
   ],
   "source": [
    "final_TPR # Выбранный показатель TPR (case 3)"
   ]
  },
  {
   "cell_type": "code",
   "execution_count": 769,
   "id": "5072d8cc",
   "metadata": {},
   "outputs": [
    {
     "data": {
      "text/plain": [
       "0.786380986391785"
      ]
     },
     "execution_count": 769,
     "metadata": {},
     "output_type": "execute_result"
    }
   ],
   "source": [
    "# Граница разделения категорий\n",
    "treshhold_final = max(thresholds2[fpr2 == final_FPR])\n",
    "treshhold_final"
   ]
  },
  {
   "cell_type": "code",
   "execution_count": 764,
   "id": "54a461bd",
   "metadata": {},
   "outputs": [],
   "source": [
    "from sklearn.metrics import classification_report"
   ]
  },
  {
   "cell_type": "code",
   "execution_count": 774,
   "id": "cdc9f761",
   "metadata": {},
   "outputs": [],
   "source": [
    "# Если вероятность попадания в категорию меньше границы вероятности - относим к неплательщикам.\n",
    "predict = model2.predict_proba(X_test2)[:, 1]\n",
    "predict = np.where(predict < treshhold_final, 0, 1)"
   ]
  },
  {
   "cell_type": "code",
   "execution_count": 775,
   "id": "89be0016",
   "metadata": {},
   "outputs": [
    {
     "name": "stdout",
     "output_type": "stream",
     "text": [
      "              precision    recall  f1-score   support\n",
      "\n",
      "         0.0       0.49      0.77      0.60        47\n",
      "         1.0       0.87      0.67      0.76       112\n",
      "\n",
      "    accuracy                           0.70       159\n",
      "   macro avg       0.68      0.72      0.68       159\n",
      "weighted avg       0.76      0.70      0.71       159\n",
      "\n"
     ]
    }
   ],
   "source": [
    "# Финальные показатели на тесте\n",
    "print(classification_report(y_test2, predict))"
   ]
  },
  {
   "cell_type": "markdown",
   "id": "ac7604d5",
   "metadata": {},
   "source": [
    "<h4> Ответ по работе: </h4>\n",
    "\n",
    " - Обучил базовую модель, рассмотрел характеристики ROC_AUC базовой модели.\n",
    " - Провел подготовку данных, трансформировал данные.\n",
    " - Обучил модель 2. Улучшил характеристику ROC_AUC score\n",
    " - Выбрал харатеристику оптимизации модели для поставленной задачи.\n",
    " - Нашел 4 оптимальные точки настройки модели под различные сценарии.\n",
    " - Предположил 1 из сценариев, перенастроил модель, переместив границу разделеия в соответствии со сценарием."
   ]
  }
 ],
 "metadata": {
  "kernelspec": {
   "display_name": "Python 3 (ipykernel)",
   "language": "python",
   "name": "python3"
  },
  "language_info": {
   "codemirror_mode": {
    "name": "ipython",
    "version": 3
   },
   "file_extension": ".py",
   "mimetype": "text/x-python",
   "name": "python",
   "nbconvert_exporter": "python",
   "pygments_lexer": "ipython3",
   "version": "3.9.12"
  }
 },
 "nbformat": 4,
 "nbformat_minor": 5
}
