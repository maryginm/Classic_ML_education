{
 "cells": [
  {
   "cell_type": "code",
   "execution_count": 252,
   "id": "d582788d",
   "metadata": {},
   "outputs": [],
   "source": [
    "import pandas as pd\n",
    "import numpy as np\n",
    "import seaborn as sns\n",
    "from sklearn.linear_model import LinearRegression\n",
    "from sklearn.preprocessing import StandardScaler\n",
    "from sklearn.preprocessing import Normalizer\n",
    "from sklearn.model_selection import train_test_split\n",
    "import matplotlib.pyplot as plt "
   ]
  },
  {
   "cell_type": "code",
   "execution_count": 253,
   "id": "97f4942a",
   "metadata": {},
   "outputs": [],
   "source": [
    "data_in = pd.read_csv(\"car data.csv\")"
   ]
  },
  {
   "cell_type": "code",
   "execution_count": 254,
   "id": "7424a69d",
   "metadata": {},
   "outputs": [
    {
     "data": {
      "text/html": [
       "<div>\n",
       "<style scoped>\n",
       "    .dataframe tbody tr th:only-of-type {\n",
       "        vertical-align: middle;\n",
       "    }\n",
       "\n",
       "    .dataframe tbody tr th {\n",
       "        vertical-align: top;\n",
       "    }\n",
       "\n",
       "    .dataframe thead th {\n",
       "        text-align: right;\n",
       "    }\n",
       "</style>\n",
       "<table border=\"1\" class=\"dataframe\">\n",
       "  <thead>\n",
       "    <tr style=\"text-align: right;\">\n",
       "      <th></th>\n",
       "      <th>Car_Name</th>\n",
       "      <th>Year</th>\n",
       "      <th>Selling_Price</th>\n",
       "      <th>Present_Price</th>\n",
       "      <th>Kms_Driven</th>\n",
       "      <th>Fuel_Type</th>\n",
       "      <th>Seller_Type</th>\n",
       "      <th>Transmission</th>\n",
       "      <th>Owner</th>\n",
       "    </tr>\n",
       "  </thead>\n",
       "  <tbody>\n",
       "    <tr>\n",
       "      <th>0</th>\n",
       "      <td>ritz</td>\n",
       "      <td>2014</td>\n",
       "      <td>3.35</td>\n",
       "      <td>5.59</td>\n",
       "      <td>27000</td>\n",
       "      <td>Petrol</td>\n",
       "      <td>Dealer</td>\n",
       "      <td>Manual</td>\n",
       "      <td>0</td>\n",
       "    </tr>\n",
       "    <tr>\n",
       "      <th>1</th>\n",
       "      <td>sx4</td>\n",
       "      <td>2013</td>\n",
       "      <td>4.75</td>\n",
       "      <td>9.54</td>\n",
       "      <td>43000</td>\n",
       "      <td>Diesel</td>\n",
       "      <td>Dealer</td>\n",
       "      <td>Manual</td>\n",
       "      <td>0</td>\n",
       "    </tr>\n",
       "    <tr>\n",
       "      <th>2</th>\n",
       "      <td>ciaz</td>\n",
       "      <td>2017</td>\n",
       "      <td>7.25</td>\n",
       "      <td>9.85</td>\n",
       "      <td>6900</td>\n",
       "      <td>Petrol</td>\n",
       "      <td>Dealer</td>\n",
       "      <td>Manual</td>\n",
       "      <td>0</td>\n",
       "    </tr>\n",
       "    <tr>\n",
       "      <th>3</th>\n",
       "      <td>wagon r</td>\n",
       "      <td>2011</td>\n",
       "      <td>2.85</td>\n",
       "      <td>4.15</td>\n",
       "      <td>5200</td>\n",
       "      <td>Petrol</td>\n",
       "      <td>Dealer</td>\n",
       "      <td>Manual</td>\n",
       "      <td>0</td>\n",
       "    </tr>\n",
       "    <tr>\n",
       "      <th>4</th>\n",
       "      <td>swift</td>\n",
       "      <td>2014</td>\n",
       "      <td>4.60</td>\n",
       "      <td>6.87</td>\n",
       "      <td>42450</td>\n",
       "      <td>Diesel</td>\n",
       "      <td>Dealer</td>\n",
       "      <td>Manual</td>\n",
       "      <td>0</td>\n",
       "    </tr>\n",
       "  </tbody>\n",
       "</table>\n",
       "</div>"
      ],
      "text/plain": [
       "  Car_Name  Year  Selling_Price  Present_Price  Kms_Driven Fuel_Type  \\\n",
       "0     ritz  2014           3.35           5.59       27000    Petrol   \n",
       "1      sx4  2013           4.75           9.54       43000    Diesel   \n",
       "2     ciaz  2017           7.25           9.85        6900    Petrol   \n",
       "3  wagon r  2011           2.85           4.15        5200    Petrol   \n",
       "4    swift  2014           4.60           6.87       42450    Diesel   \n",
       "\n",
       "  Seller_Type Transmission  Owner  \n",
       "0      Dealer       Manual      0  \n",
       "1      Dealer       Manual      0  \n",
       "2      Dealer       Manual      0  \n",
       "3      Dealer       Manual      0  \n",
       "4      Dealer       Manual      0  "
      ]
     },
     "execution_count": 254,
     "metadata": {},
     "output_type": "execute_result"
    }
   ],
   "source": [
    "data_in.head()"
   ]
  },
  {
   "cell_type": "markdown",
   "id": "5b801068",
   "metadata": {},
   "source": [
    "1. Проведите первичный анализ данных\n",
    "\n",
    "2. Проведите визуальный анализ данных\n",
    "\n",
    "3. Разбейте данные на обучение и тест\n",
    "\n",
    "4. Удалите категориальные признаки\n",
    "\n",
    "5. Сделайте предобработку данных с помощью класса и пайплайна\n",
    "\n",
    "6. Обучите модель регрессии, с целевым признаком Selling_Price\n",
    "\n",
    "7. Оцените подходящие метрики качества\n",
    "\n",
    "8. Сформулируйте выводы по проделанной работе"
   ]
  },
  {
   "cell_type": "code",
   "execution_count": 255,
   "id": "1ca8de7e",
   "metadata": {},
   "outputs": [
    {
     "name": "stdout",
     "output_type": "stream",
     "text": [
      "<class 'pandas.core.frame.DataFrame'>\n",
      "RangeIndex: 301 entries, 0 to 300\n",
      "Data columns (total 9 columns):\n",
      " #   Column         Non-Null Count  Dtype  \n",
      "---  ------         --------------  -----  \n",
      " 0   Car_Name       301 non-null    object \n",
      " 1   Year           301 non-null    int64  \n",
      " 2   Selling_Price  301 non-null    float64\n",
      " 3   Present_Price  301 non-null    float64\n",
      " 4   Kms_Driven     301 non-null    int64  \n",
      " 5   Fuel_Type      301 non-null    object \n",
      " 6   Seller_Type    301 non-null    object \n",
      " 7   Transmission   301 non-null    object \n",
      " 8   Owner          301 non-null    int64  \n",
      "dtypes: float64(2), int64(3), object(4)\n",
      "memory usage: 21.3+ KB\n"
     ]
    }
   ],
   "source": [
    "data_in.info()"
   ]
  },
  {
   "cell_type": "code",
   "execution_count": 256,
   "id": "ee92f085",
   "metadata": {},
   "outputs": [
    {
     "data": {
      "text/html": [
       "<div>\n",
       "<style scoped>\n",
       "    .dataframe tbody tr th:only-of-type {\n",
       "        vertical-align: middle;\n",
       "    }\n",
       "\n",
       "    .dataframe tbody tr th {\n",
       "        vertical-align: top;\n",
       "    }\n",
       "\n",
       "    .dataframe thead th {\n",
       "        text-align: right;\n",
       "    }\n",
       "</style>\n",
       "<table border=\"1\" class=\"dataframe\">\n",
       "  <thead>\n",
       "    <tr style=\"text-align: right;\">\n",
       "      <th></th>\n",
       "      <th>Year</th>\n",
       "      <th>Selling_Price</th>\n",
       "      <th>Present_Price</th>\n",
       "      <th>Kms_Driven</th>\n",
       "      <th>Owner</th>\n",
       "    </tr>\n",
       "  </thead>\n",
       "  <tbody>\n",
       "    <tr>\n",
       "      <th>count</th>\n",
       "      <td>301.000000</td>\n",
       "      <td>301.000000</td>\n",
       "      <td>301.000000</td>\n",
       "      <td>301.000000</td>\n",
       "      <td>301.000000</td>\n",
       "    </tr>\n",
       "    <tr>\n",
       "      <th>mean</th>\n",
       "      <td>2013.627907</td>\n",
       "      <td>4.661296</td>\n",
       "      <td>7.628472</td>\n",
       "      <td>36947.205980</td>\n",
       "      <td>0.043189</td>\n",
       "    </tr>\n",
       "    <tr>\n",
       "      <th>std</th>\n",
       "      <td>2.891554</td>\n",
       "      <td>5.082812</td>\n",
       "      <td>8.644115</td>\n",
       "      <td>38886.883882</td>\n",
       "      <td>0.247915</td>\n",
       "    </tr>\n",
       "    <tr>\n",
       "      <th>min</th>\n",
       "      <td>2003.000000</td>\n",
       "      <td>0.100000</td>\n",
       "      <td>0.320000</td>\n",
       "      <td>500.000000</td>\n",
       "      <td>0.000000</td>\n",
       "    </tr>\n",
       "    <tr>\n",
       "      <th>25%</th>\n",
       "      <td>2012.000000</td>\n",
       "      <td>0.900000</td>\n",
       "      <td>1.200000</td>\n",
       "      <td>15000.000000</td>\n",
       "      <td>0.000000</td>\n",
       "    </tr>\n",
       "    <tr>\n",
       "      <th>50%</th>\n",
       "      <td>2014.000000</td>\n",
       "      <td>3.600000</td>\n",
       "      <td>6.400000</td>\n",
       "      <td>32000.000000</td>\n",
       "      <td>0.000000</td>\n",
       "    </tr>\n",
       "    <tr>\n",
       "      <th>75%</th>\n",
       "      <td>2016.000000</td>\n",
       "      <td>6.000000</td>\n",
       "      <td>9.900000</td>\n",
       "      <td>48767.000000</td>\n",
       "      <td>0.000000</td>\n",
       "    </tr>\n",
       "    <tr>\n",
       "      <th>max</th>\n",
       "      <td>2018.000000</td>\n",
       "      <td>35.000000</td>\n",
       "      <td>92.600000</td>\n",
       "      <td>500000.000000</td>\n",
       "      <td>3.000000</td>\n",
       "    </tr>\n",
       "  </tbody>\n",
       "</table>\n",
       "</div>"
      ],
      "text/plain": [
       "              Year  Selling_Price  Present_Price     Kms_Driven       Owner\n",
       "count   301.000000     301.000000     301.000000     301.000000  301.000000\n",
       "mean   2013.627907       4.661296       7.628472   36947.205980    0.043189\n",
       "std       2.891554       5.082812       8.644115   38886.883882    0.247915\n",
       "min    2003.000000       0.100000       0.320000     500.000000    0.000000\n",
       "25%    2012.000000       0.900000       1.200000   15000.000000    0.000000\n",
       "50%    2014.000000       3.600000       6.400000   32000.000000    0.000000\n",
       "75%    2016.000000       6.000000       9.900000   48767.000000    0.000000\n",
       "max    2018.000000      35.000000      92.600000  500000.000000    3.000000"
      ]
     },
     "execution_count": 256,
     "metadata": {},
     "output_type": "execute_result"
    }
   ],
   "source": [
    "data_in.describe()"
   ]
  },
  {
   "cell_type": "code",
   "execution_count": 257,
   "id": "3c3c9161",
   "metadata": {},
   "outputs": [
    {
     "data": {
      "text/html": [
       "<div>\n",
       "<style scoped>\n",
       "    .dataframe tbody tr th:only-of-type {\n",
       "        vertical-align: middle;\n",
       "    }\n",
       "\n",
       "    .dataframe tbody tr th {\n",
       "        vertical-align: top;\n",
       "    }\n",
       "\n",
       "    .dataframe thead th {\n",
       "        text-align: right;\n",
       "    }\n",
       "</style>\n",
       "<table border=\"1\" class=\"dataframe\">\n",
       "  <thead>\n",
       "    <tr style=\"text-align: right;\">\n",
       "      <th></th>\n",
       "      <th>Car_Name</th>\n",
       "      <th>Fuel_Type</th>\n",
       "      <th>Seller_Type</th>\n",
       "      <th>Transmission</th>\n",
       "    </tr>\n",
       "  </thead>\n",
       "  <tbody>\n",
       "    <tr>\n",
       "      <th>count</th>\n",
       "      <td>301</td>\n",
       "      <td>301</td>\n",
       "      <td>301</td>\n",
       "      <td>301</td>\n",
       "    </tr>\n",
       "    <tr>\n",
       "      <th>unique</th>\n",
       "      <td>98</td>\n",
       "      <td>3</td>\n",
       "      <td>2</td>\n",
       "      <td>2</td>\n",
       "    </tr>\n",
       "    <tr>\n",
       "      <th>top</th>\n",
       "      <td>city</td>\n",
       "      <td>Petrol</td>\n",
       "      <td>Dealer</td>\n",
       "      <td>Manual</td>\n",
       "    </tr>\n",
       "    <tr>\n",
       "      <th>freq</th>\n",
       "      <td>26</td>\n",
       "      <td>239</td>\n",
       "      <td>195</td>\n",
       "      <td>261</td>\n",
       "    </tr>\n",
       "  </tbody>\n",
       "</table>\n",
       "</div>"
      ],
      "text/plain": [
       "       Car_Name Fuel_Type Seller_Type Transmission\n",
       "count       301       301         301          301\n",
       "unique       98         3           2            2\n",
       "top        city    Petrol      Dealer       Manual\n",
       "freq         26       239         195          261"
      ]
     },
     "execution_count": 257,
     "metadata": {},
     "output_type": "execute_result"
    }
   ],
   "source": [
    "data_in.loc[:,data_in.dtypes == object].describe()"
   ]
  },
  {
   "cell_type": "markdown",
   "id": "17c08540",
   "metadata": {},
   "source": [
    "1. Данные без пропусков\n",
    "2. Категориальные признаки: \n",
    "- номенативные: Car_Name, Fuel_Type \n",
    "- бинарные: Seller_Type, Transmission\n",
    "- ранговые: Year\n",
    "\n",
    "3. Численные признаки:\n",
    "\n",
    "- Selling_Price, Present_Price, Kms_Driven, Owner"
   ]
  },
  {
   "cell_type": "code",
   "execution_count": 258,
   "id": "ed60042c",
   "metadata": {},
   "outputs": [
    {
     "data": {
      "text/plain": [
       "<Figure size 720x720 with 0 Axes>"
      ]
     },
     "metadata": {},
     "output_type": "display_data"
    },
    {
     "data": {
      "image/png": "[encoded data removed]",
      "text/plain": [
       "<Figure size 900x900 with 20 Axes>"
      ]
     },
     "metadata": {
      "needs_background": "light"
     },
     "output_type": "display_data"
    }
   ],
   "source": [
    "plt.figure(figsize=(10,10))\n",
    "sns.pairplot(data_in, corner=True)\n",
    "plt.show()\n"
   ]
  },
  {
   "cell_type": "markdown",
   "id": "81292fd0",
   "metadata": {},
   "source": [
    "Уберем категориальные признаки"
   ]
  },
  {
   "cell_type": "code",
   "execution_count": 259,
   "id": "da165f91",
   "metadata": {},
   "outputs": [],
   "source": [
    "data_in.drop(['Car_Name', 'Fuel_Type', 'Seller_Type', 'Transmission', 'Year', 'Owner'], axis = 1, inplace=True)"
   ]
  },
  {
   "cell_type": "markdown",
   "id": "10343ee9",
   "metadata": {},
   "source": [
    "разобьем данные на обучение и тест:"
   ]
  },
  {
   "cell_type": "code",
   "execution_count": 260,
   "id": "fe9bd8ea",
   "metadata": {},
   "outputs": [],
   "source": [
    "X_train, X_test, y_train, y_test = train_test_split(data_in.drop('Selling_Price', axis=1), \\\n",
    "                                                      data_in['Selling_Price'], \\\n",
    "                                                      test_size = 0.25, shuffle=True, \\\n",
    "                                                      random_state=42 )"
   ]
  },
  {
   "cell_type": "markdown",
   "id": "1bc4e757",
   "metadata": {},
   "source": [
    "По графикам видим что есть выбросы.\n",
    "Подготовим класс для обработки данных:"
   ]
  },
  {
   "cell_type": "code",
   "execution_count": 261,
   "id": "5ade941e",
   "metadata": {},
   "outputs": [],
   "source": [
    "class MyDataPipeline:\n",
    "    def __init__(self, data):\n",
    "        '''При инициализации класса считаем нужные метрики'''\n",
    "        \n",
    "        self.data = data\n",
    "        self.mean = data.mean()\n",
    "        self.std = data.var()\n",
    "        \n",
    "    def transform(self, n=1.5):\n",
    "        '''Обрезаем выбросы лежащие дальше отметки n стандартных отклонений'''\n",
    "        self.data = self.data[abs(self.data - self.mean) < self.std * n]\n",
    "        return self.data\n",
    "    "
   ]
  },
  {
   "cell_type": "code",
   "execution_count": 262,
   "id": "9c437c55",
   "metadata": {},
   "outputs": [],
   "source": [
    "pipe1 = MyDataPipeline(X_train)"
   ]
  },
  {
   "cell_type": "code",
   "execution_count": 263,
   "id": "de62cac9",
   "metadata": {},
   "outputs": [
    {
     "name": "stdout",
     "output_type": "stream",
     "text": [
      "<class 'pandas.core.frame.DataFrame'>\n",
      "Int64Index: 225 entries, 129 to 102\n",
      "Data columns (total 2 columns):\n",
      " #   Column         Non-Null Count  Dtype  \n",
      "---  ------         --------------  -----  \n",
      " 0   Present_Price  225 non-null    float64\n",
      " 1   Kms_Driven     225 non-null    int64  \n",
      "dtypes: float64(1), int64(1)\n",
      "memory usage: 5.3 KB\n"
     ]
    }
   ],
   "source": [
    "X_train = pipe1.transform()\n",
    "X_train.info()"
   ]
  },
  {
   "cell_type": "markdown",
   "id": "af1edf86",
   "metadata": {},
   "source": [
    "Таким образом, получили всего 2 признака для анализа\n",
    "Рассмотрим их влияние на целевой признак\n"
   ]
  },
  {
   "cell_type": "code",
   "execution_count": 264,
   "id": "a0faffc7",
   "metadata": {},
   "outputs": [
    {
     "data": {
      "text/html": [
       "<div>\n",
       "<style scoped>\n",
       "    .dataframe tbody tr th:only-of-type {\n",
       "        vertical-align: middle;\n",
       "    }\n",
       "\n",
       "    .dataframe tbody tr th {\n",
       "        vertical-align: top;\n",
       "    }\n",
       "\n",
       "    .dataframe thead th {\n",
       "        text-align: right;\n",
       "    }\n",
       "</style>\n",
       "<table border=\"1\" class=\"dataframe\">\n",
       "  <thead>\n",
       "    <tr style=\"text-align: right;\">\n",
       "      <th></th>\n",
       "      <th>Present_Price</th>\n",
       "      <th>Kms_Driven</th>\n",
       "      <th>Selling_Price</th>\n",
       "    </tr>\n",
       "  </thead>\n",
       "  <tbody>\n",
       "    <tr>\n",
       "      <th>Present_Price</th>\n",
       "      <td>1.000000</td>\n",
       "      <td>0.190772</td>\n",
       "      <td>0.880804</td>\n",
       "    </tr>\n",
       "    <tr>\n",
       "      <th>Kms_Driven</th>\n",
       "      <td>0.190772</td>\n",
       "      <td>1.000000</td>\n",
       "      <td>0.032879</td>\n",
       "    </tr>\n",
       "    <tr>\n",
       "      <th>Selling_Price</th>\n",
       "      <td>0.880804</td>\n",
       "      <td>0.032879</td>\n",
       "      <td>1.000000</td>\n",
       "    </tr>\n",
       "  </tbody>\n",
       "</table>\n",
       "</div>"
      ],
      "text/plain": [
       "               Present_Price  Kms_Driven  Selling_Price\n",
       "Present_Price       1.000000    0.190772       0.880804\n",
       "Kms_Driven          0.190772    1.000000       0.032879\n",
       "Selling_Price       0.880804    0.032879       1.000000"
      ]
     },
     "execution_count": 264,
     "metadata": {},
     "output_type": "execute_result"
    }
   ],
   "source": [
    "X_train.join(y_train, how='inner').corr()"
   ]
  },
  {
   "cell_type": "code",
   "execution_count": 265,
   "id": "bf4569f0",
   "metadata": {},
   "outputs": [
    {
     "data": {
      "text/plain": [
       "129     0.78\n",
       "232    11.45\n",
       "195     0.18\n",
       "277     9.70\n",
       "280     5.25\n",
       "       ...  \n",
       "188     0.25\n",
       "71      4.50\n",
       "106     1.35\n",
       "270     4.10\n",
       "102     1.65\n",
       "Name: Selling_Price, Length: 225, dtype: float64"
      ]
     },
     "execution_count": 265,
     "metadata": {},
     "output_type": "execute_result"
    }
   ],
   "source": [
    "y_train"
   ]
  },
  {
   "cell_type": "code",
   "execution_count": 266,
   "id": "4d782760",
   "metadata": {},
   "outputs": [],
   "source": [
    "scaller = StandardScaler()\n",
    "scaled_X = scaller.fit_transform(X_train)\n",
    "scaled_Y = scaller.fit_transform(y_train.values.reshape(-1, 1))"
   ]
  },
  {
   "cell_type": "code",
   "execution_count": 267,
   "id": "7e13e585",
   "metadata": {},
   "outputs": [
    {
     "data": {
      "text/plain": [
       "array([[-7.47646853e-01, -7.61473138e-01],\n",
       "       [ 8.24529863e-01, -5.77291066e-01],\n",
       "       [-8.06251290e-01, -6.20475467e-02],\n",
       "       [ 6.90415864e-01, -3.70261091e-01],\n",
       "       [-1.77380603e-01, -5.40804364e-01],\n",
       "       [-7.70768557e-02, -1.41222524e-01],\n",
       "       [ 6.74637746e-01,  3.71895394e+00],\n",
       "       [ 1.76670888e+00, -6.21588020e-01],\n",
       "       [-3.23891695e-01,  3.68332334e-01],\n",
       "       [-7.81457105e-01, -8.66386977e-01],\n",
       "       [-6.28183963e-01, -7.52147463e-01],\n",
       "       [ 5.70371437e-02,  8.81424420e-02],\n",
       "       [-7.88219155e-01,  2.87665249e-01],\n",
       "       [ 2.60745715e+00,  1.19691852e+00],\n",
       "       [-6.76645324e-01, -4.81702901e-01],\n",
       "       [-7.76949072e-01, -8.33747116e-01],\n",
       "       [ 1.25504707e+00,  4.27573681e-01],\n",
       "       [ 3.73726504e-01,  1.24465944e-01],\n",
       "       [-4.36592535e-01, -8.28268282e-01],\n",
       "       [-7.83711122e-01,  1.07790491e+01],\n",
       "       [ 3.97393680e-01,  1.17206560e+00],\n",
       "       [ 7.06193982e-01,  1.17360433e+00],\n",
       "       [-1.99920771e-01, -3.02696578e-01],\n",
       "       [-5.85357644e-01,  2.08285760e+00],\n",
       "       [ 3.73726504e-01,  9.36445900e-02],\n",
       "       [-6.45089089e-01,  5.45233852e-02],\n",
       "       [ 2.94074058e-03,  1.47780131e-01],\n",
       "       [ 2.84692840e-01,  7.43737363e-01],\n",
       "       [ 1.46241662e+00,  4.97492926e-01],\n",
       "       [-3.23891695e-01, -3.53078535e-01],\n",
       "       [ 1.51425900e+00, -5.98273833e-01],\n",
       "       [-2.91208452e-01,  3.85584832e-01],\n",
       "       [-7.23979677e-01, -1.78618479e-01],\n",
       "       [-7.30741727e-01, -5.74959647e-01],\n",
       "       [ 2.54809086e-02, -5.04970459e-01],\n",
       "       [-7.47646853e-01, -2.95189410e-01],\n",
       "       [-2.68668284e-01, -5.03904535e-02],\n",
       "       [-7.89346164e-01, -3.88446156e-01],\n",
       "       [ 2.01915877e+00, -2.01932665e-01],\n",
       "       [-3.43050838e-01, -6.01794276e-01],\n",
       "       [-7.36376769e-01,  1.71094317e-01],\n",
       "       [ 9.59378222e+00,  9.40462468e-01],\n",
       "       [ 6.90415864e-01, -4.02720966e-02],\n",
       "       [-7.47646853e-01,  4.74178740e-01],\n",
       "       [ 2.73422756e-01,  7.89501246e-03],\n",
       "       [ 6.90415864e-01,  2.77453635e-01],\n",
       "       [-7.35249761e-01, -8.47735628e-01],\n",
       "       [-7.35249761e-01, -4.91028576e-01],\n",
       "       [ 7.05612445e-02, -7.97959840e-01],\n",
       "       [ 8.52705073e-01,  7.53948977e-01],\n",
       "       [-7.53619998e-01, -5.28331274e-01],\n",
       "       [-7.83711122e-01, -3.65131970e-01],\n",
       "       [ 1.42108246e-02, -4.81702901e-01],\n",
       "       [-4.18560401e-01, -6.43060385e-01],\n",
       "       [-7.84838130e-01, -1.08675919e-01],\n",
       "       [-1.99920771e-01,  3.57607808e-01],\n",
       "       [-1.99920771e-01, -3.85531883e-01],\n",
       "       [-5.71833543e-01, -7.14844765e-01],\n",
       "       [-7.48773862e-01, -7.49816045e-01],\n",
       "       [-6.28183963e-01, -5.51645461e-01],\n",
       "       [ 1.04371496e-01, -7.84787324e-01],\n",
       "       [ 2.84692840e-01, -2.34572526e-01],\n",
       "       [-7.47646853e-01, -3.41817783e-01],\n",
       "       [-7.83711122e-01, -4.35074529e-01],\n",
       "       [-7.84838130e-01,  5.20807113e-01],\n",
       "       [ 2.67787714e-01, -7.17176184e-01],\n",
       "       [-6.76645324e-01, -4.70045808e-01],\n",
       "       [ 2.17072336e-01, -3.87333603e-02],\n",
       "       [-7.23979677e-01,  4.08787763e+00],\n",
       "       [-7.00312500e-01, -7.45153208e-01],\n",
       "       [ 2.17072336e-01, -5.28307960e-01],\n",
       "       [-1.69491544e-01, -7.47484626e-01],\n",
       "       [-7.52154887e-01, -7.14844765e-01],\n",
       "       [ 1.64102942e-01,  1.05703340e+00],\n",
       "       [ 3.27519159e-01,  1.71094317e-01],\n",
       "       [ 6.74637746e-01,  7.89501246e-03],\n",
       "       [ 2.17072336e-01,  7.77263163e-01],\n",
       "       [-6.73264299e-01, -5.28331274e-01],\n",
       "       [-7.84838130e-01, -7.77793068e-01],\n",
       "       [ 4.87554352e-01, -6.67983251e-01],\n",
       "       [ 2.73422756e-01,  3.86564028e-01],\n",
       "       [-7.57789929e-01,  2.64351063e-01],\n",
       "       [ 2.17072336e-01,  1.72912824e-01],\n",
       "       [-5.90447214e-02,  1.71094317e-01],\n",
       "       [-7.57789929e-01,  1.27229328e+00],\n",
       "       [ 1.83207537e+00,  2.43257040e+00],\n",
       "       [ 2.17072336e-01, -3.64019417e-02],\n",
       "       [-7.84838130e-01, -7.84787324e-01],\n",
       "       [ 2.77930790e-01, -5.28331274e-01],\n",
       "       [ 2.99889422e-02,  2.87618621e-01],\n",
       "       [-3.97147241e-01,  1.60416420e-01],\n",
       "       [-7.47646853e-01, -2.01932665e-01],\n",
       "       [-7.69060013e-01, -3.18503597e-01],\n",
       "       [-7.49900870e-01, -4.58388715e-01],\n",
       "       [-7.70187021e-01, -5.58639717e-01],\n",
       "       [ 2.60745715e+00,  5.45233852e-02],\n",
       "       [ 1.25504707e+00,  8.00577349e-01],\n",
       "       [-3.23891695e-01, -4.39790522e-02],\n",
       "       [ 1.42108246e-02,  9.31882847e-01],\n",
       "       [-3.93766216e-01,  2.10868319e-01],\n",
       "       [-8.04578809e-02,  5.45233852e-02],\n",
       "       [ 2.17072336e-01, -3.87333603e-02],\n",
       "       [-7.07074551e-01, -3.30160690e-01],\n",
       "       [-1.80761628e-01,  4.07453539e-01],\n",
       "       [-7.59498473e-02, -1.08232950e-01],\n",
       "       [-7.52154887e-01, -4.11760342e-01],\n",
       "       [-1.99920771e-01, -2.20584014e-01],\n",
       "       [-2.12317864e-01, -2.48561038e-01],\n",
       "       [ 2.84692840e-01, -4.39084569e-01],\n",
       "       [ 2.94074058e-03,  5.48854079e-01],\n",
       "       [-6.28183963e-01, -8.08101511e-01],\n",
       "       [ 6.90415864e-01, -1.96733601e-01],\n",
       "       [-6.61994215e-01, -8.50067046e-01],\n",
       "       [-7.80330097e-01, -7.21839021e-01],\n",
       "       [ 1.25504707e+00,  1.71094317e-01],\n",
       "       [-3.08695114e-02,  2.58918857e-01],\n",
       "       [ 2.54809086e-02,  6.82321268e-02],\n",
       "       [-7.49224665e-01, -7.38158952e-01],\n",
       "       [ 2.17072336e-01,  5.26425832e-01],\n",
       "       [-3.43050838e-01, -2.18672251e-01],\n",
       "       [ 2.17072336e-01,  2.64351063e-01],\n",
       "       [ 3.27519159e-01,  3.10979435e-01],\n",
       "       [-1.77380603e-01,  5.20807113e-01],\n",
       "       [-1.88650687e-01, -4.35074529e-01],\n",
       "       [-1.10887108e-01, -5.00354251e-01],\n",
       "       [-7.70768557e-02, -1.31990106e-01],\n",
       "       [-6.80607886e-02,  1.11643142e-01],\n",
       "       [-7.10455576e-01, -7.38158952e-01],\n",
       "       [ 1.81373218e-03,  3.12091988e-02],\n",
       "       [-3.87585702e-02, -5.87106338e-01],\n",
       "       [-7.30741727e-01, -5.39988367e-01],\n",
       "       [ 8.24529863e-01,  1.36939034e-01],\n",
       "       [ 6.90415864e-01, -2.95189410e-01],\n",
       "       [-7.44265828e-01, -5.28331274e-01],\n",
       "       [ 3.21040664e+00,  9.40462468e-01],\n",
       "       [-7.58916937e-01, -7.61473138e-01],\n",
       "       [-7.44265828e-01, -8.08101511e-01],\n",
       "       [-1.54840435e-01, -1.45349135e-01],\n",
       "       [ 1.59594908e-01, -4.05395569e-01],\n",
       "       [-8.04578809e-02,  7.77263163e-01],\n",
       "       [ 1.38181748e-01, -3.83783319e-01],\n",
       "       [ 3.24083587e+00, -7.38158952e-01],\n",
       "       [-5.39150299e-01,  2.87665249e-01],\n",
       "       [ 6.90415864e-01,  7.07320604e-01],\n",
       "       [-7.83711122e-01, -5.28331274e-01],\n",
       "       [ 4.46400513e-02, -3.06286963e-01],\n",
       "       [-6.76645324e-01,  2.06065597e-01],\n",
       "       [-1.77380603e-01, -6.49565043e-01],\n",
       "       [-3.43050838e-01, -5.86616740e-01],\n",
       "       [-7.30741727e-01,  1.71094317e-01],\n",
       "       [-4.52370653e-01,  1.77622289e-01],\n",
       "       [-1.88650687e-01,  5.50596115e-02],\n",
       "       [-6.41708064e-01, -7.38158952e-01],\n",
       "       [ 4.23860345e-02,  5.45233852e-02],\n",
       "       [-1.99920771e-01, -6.67803265e-02],\n",
       "       [ 6.90415864e-01, -3.49488151e-01],\n",
       "       [ 5.70371437e-02,  5.67435486e-01],\n",
       "       [-3.87585702e-02, -8.53617331e-02],\n",
       "       [ 1.04371496e-01, -5.98273833e-01],\n",
       "       [-5.34096794e-02, -3.74743942e-02],\n",
       "       [-7.76949072e-01,  3.57607808e-01],\n",
       "       [-2.97425030e-02,  9.27103439e-01],\n",
       "       [-3.74607073e-01,  6.37378045e-01],\n",
       "       [ 1.72500957e+00,  1.19691852e+00],\n",
       "       [-5.34096794e-02,  5.51295541e-02],\n",
       "       [-3.43050838e-01,  4.50864554e-01],\n",
       "       [-7.59498473e-02, -4.93359995e-01],\n",
       "       [-7.70768557e-02,  4.74178740e-01],\n",
       "       [-7.49224665e-01, -3.41817783e-01],\n",
       "       [ 6.60532109e-02,  1.89279382e-01],\n",
       "       [-3.43050838e-01, -5.28331274e-01],\n",
       "       [-7.51027878e-01, -4.35074529e-01],\n",
       "       [-7.57789929e-01,  5.20807113e-01],\n",
       "       [-3.43050838e-01,  1.92723354e-02],\n",
       "       [-2.39366065e-01,  3.73344884e-01],\n",
       "       [-3.74607073e-01, -7.56810301e-01],\n",
       "       [-5.75214568e-01, -3.72126226e-01],\n",
       "       [ 2.60745715e+00,  2.26937109e+00],\n",
       "       [-7.35249761e-01, -8.66386977e-01],\n",
       "       [ 2.73422756e-01,  2.41036876e-01],\n",
       "       [ 2.32850454e-01,  1.24465944e-01],\n",
       "       [ 2.04675244e-01, -1.54191739e-02],\n",
       "       [ 8.35799947e-01, -3.41817783e-01],\n",
       "       [-1.99920771e-01, -7.96607617e-01],\n",
       "       [ 6.60532109e-02,  1.71094317e-01],\n",
       "       [ 9.71040955e-01,  4.79820773e-01],\n",
       "       [ 1.38578005e+00, -5.28331274e-01],\n",
       "       [-3.87585702e-02, -4.18574613e-02],\n",
       "       [ 2.66079170e-02, -2.71875224e-01],\n",
       "       [-1.60475477e-01,  2.17722690e-01],\n",
       "       [-7.80330097e-01, -8.54729884e-01],\n",
       "       [ 6.32938436e-01,  5.22578991e-01],\n",
       "       [-7.51027878e-01, -6.02936671e-01],\n",
       "       [ 6.90415864e-01, -8.53617331e-02],\n",
       "       [ 1.42108246e-02, -7.14844765e-01],\n",
       "       [ 3.08360017e-01,  1.22023270e+00],\n",
       "       [ 2.60745715e+00,  1.56311444e+00],\n",
       "       [-7.61170954e-01,  2.18835243e-02],\n",
       "       [-7.78076080e-01,  4.04236181e-01],\n",
       "       [ 5.66444940e-01, -6.68216393e-01],\n",
       "       [-7.84838130e-01, -1.31990106e-01],\n",
       "       [-7.81457105e-01, -5.51645461e-01],\n",
       "       [-7.59498473e-02,  4.25165792e-02],\n",
       "       [ 2.66079170e-02, -2.74906068e-01],\n",
       "       [ 2.17072336e-01, -5.25043974e-01],\n",
       "       [-7.36958305e-02, -1.45349135e-01],\n",
       "       [-1.98793763e-01, -8.22090023e-01],\n",
       "       [-7.35249761e-01, -3.18503597e-01],\n",
       "       [ 6.90415864e-01, -2.99852248e-01],\n",
       "       [-7.78076080e-01, -2.95189410e-01],\n",
       "       [ 6.90415864e-01,  6.20771816e-02],\n",
       "       [-7.36376769e-01, -3.18503597e-01],\n",
       "       [-7.44265828e-01, -6.21588020e-01],\n",
       "       [-7.80330097e-01, -1.55304292e-01],\n",
       "       [ 1.46241662e+00,  2.88224789e-01],\n",
       "       [ 7.06193982e-01,  4.27550367e-01],\n",
       "       [-1.99920771e-01, -4.09102525e-01],\n",
       "       [-6.73264299e-01, -7.17176184e-01],\n",
       "       [-1.77380603e-01, -7.50655356e-01],\n",
       "       [-3.97147241e-01, -2.95189410e-01],\n",
       "       [-7.78076080e-01, -4.58388715e-01],\n",
       "       [ 5.64190923e-01,  1.71094317e-01],\n",
       "       [-4.53497661e-01, -4.93359995e-01],\n",
       "       [ 2.84692840e-01,  7.38584928e-01],\n",
       "       [-6.41708064e-01, -7.84787324e-01]])"
      ]
     },
     "execution_count": 267,
     "metadata": {},
     "output_type": "execute_result"
    }
   ],
   "source": [
    "scaled_X"
   ]
  },
  {
   "cell_type": "code",
   "execution_count": 268,
   "id": "8ded8686",
   "metadata": {},
   "outputs": [],
   "source": [
    "model = LinearRegression()"
   ]
  },
  {
   "cell_type": "code",
   "execution_count": 269,
   "id": "7b616761",
   "metadata": {},
   "outputs": [],
   "source": [
    "model = model.fit(scaled_X, scaled_Y)"
   ]
  },
  {
   "cell_type": "code",
   "execution_count": 270,
   "id": "69826d2b",
   "metadata": {},
   "outputs": [
    {
     "data": {
      "text/plain": [
       "0.7947717258307869"
      ]
     },
     "execution_count": 270,
     "metadata": {},
     "output_type": "execute_result"
    }
   ],
   "source": [
    "model.score(scaled_X, scaled_Y)"
   ]
  },
  {
   "cell_type": "code",
   "execution_count": 271,
   "id": "21f090cc",
   "metadata": {},
   "outputs": [],
   "source": [
    "testX_scalled = scaller.fit_transform(X_test)\n",
    "testY_scalled = scaller.fit_transform(y_test.values.reshape(-1, 1))"
   ]
  },
  {
   "cell_type": "code",
   "execution_count": 272,
   "id": "8e0aa086",
   "metadata": {},
   "outputs": [
    {
     "data": {
      "text/plain": [
       "0.8339175769494761"
      ]
     },
     "execution_count": 272,
     "metadata": {},
     "output_type": "execute_result"
    }
   ],
   "source": [
    "model.score(testX_scalled, testY_scalled)"
   ]
  },
  {
   "cell_type": "code",
   "execution_count": 273,
   "id": "09810581",
   "metadata": {},
   "outputs": [
    {
     "data": {
      "text/plain": [
       "array([[ 0.90756111, -0.14025807]])"
      ]
     },
     "execution_count": 273,
     "metadata": {},
     "output_type": "execute_result"
    }
   ],
   "source": [
    "model.coef_"
   ]
  },
  {
   "cell_type": "code",
   "execution_count": 274,
   "id": "a12cbf3b",
   "metadata": {},
   "outputs": [
    {
     "data": {
      "text/plain": [
       "array([-1.62541532e-17])"
      ]
     },
     "execution_count": 274,
     "metadata": {},
     "output_type": "execute_result"
    }
   ],
   "source": [
    "model.intercept_"
   ]
  },
  {
   "cell_type": "code",
   "execution_count": 275,
   "id": "d287c840",
   "metadata": {},
   "outputs": [],
   "source": [
    "predict = scaller.inverse_transform(model.predict(testX_scalled))"
   ]
  },
  {
   "cell_type": "code",
   "execution_count": 278,
   "id": "8b346775",
   "metadata": {},
   "outputs": [
    {
     "data": {
      "text/plain": [
       "array([ 0.35, 10.11,  4.95,  0.15,  6.95,  7.45,  1.1 ,  0.5 ,  0.45,\n",
       "        6.  ,  9.25,  1.1 ,  7.5 ,  0.4 ,  6.15,  2.65,  0.95, 17.  ,\n",
       "        0.48,  1.7 ,  0.42,  8.35,  5.35,  3.  ,  0.6 ,  3.75,  5.  ,\n",
       "        2.65,  1.2 ,  1.2 ,  0.65,  8.25,  0.45,  1.95,  7.75,  3.65,\n",
       "        5.5 ,  3.8 ,  2.9 ,  4.75,  3.51,  1.5 ,  4.5 ,  0.42,  6.5 ,\n",
       "        0.6 ,  6.25,  5.25,  4.  ,  3.1 ,  5.11,  1.35, 23.5 , 23.  ,\n",
       "        8.25, 10.9 ,  5.5 ,  9.5 ,  2.1 ,  7.4 ,  0.3 ,  0.25,  0.75,\n",
       "        0.2 ,  3.95,  1.15, 19.99, 23.  ,  6.75,  0.38,  3.1 ,  4.4 ,\n",
       "        5.65,  4.5 ,  2.  ,  1.15])"
      ]
     },
     "execution_count": 278,
     "metadata": {},
     "output_type": "execute_result"
    }
   ],
   "source": [
    "y_test.values"
   ]
  },
  {
   "cell_type": "code",
   "execution_count": 279,
   "id": "360bfc31",
   "metadata": {},
   "outputs": [],
   "source": [
    "predict = pd.DataFrame(predict, columns = ['predict'])"
   ]
  },
  {
   "cell_type": "code",
   "execution_count": 281,
   "id": "e4f500df",
   "metadata": {},
   "outputs": [],
   "source": [
    "predict['real_y'] = y_test.values"
   ]
  },
  {
   "cell_type": "code",
   "execution_count": 298,
   "id": "d56e94cc",
   "metadata": {},
   "outputs": [
    {
     "data": {
      "image/png": "[encoded data removed]",
      "text/plain": [
       "<Figure size 432x288 with 1 Axes>"
      ]
     },
     "metadata": {
      "needs_background": "light"
     },
     "output_type": "display_data"
    }
   ],
   "source": [
    "\n",
    "sns.scatterplot(data=predict, x='predict', y='real_y')\n",
    "sns.lineplot(x = [0, 20], y=[0, 20])\n",
    "plt.show()"
   ]
  },
  {
   "cell_type": "markdown",
   "id": "29d115ec",
   "metadata": {},
   "source": [
    "Из финального графика сопоставления видно, что модель хорошо работает до цены 10, далее получаем высокую погрешность предсказаний"
   ]
  },
  {
   "cell_type": "code",
   "execution_count": null,
   "id": "b11c8a7b",
   "metadata": {},
   "outputs": [],
   "source": []
  }
 ],
 "metadata": {
  "kernelspec": {
   "display_name": "Python 3 (ipykernel)",
   "language": "python",
   "name": "python3"
  },
  "language_info": {
   "codemirror_mode": {
    "name": "ipython",
    "version": 3
   },
   "file_extension": ".py",
   "mimetype": "text/x-python",
   "name": "python",
   "nbconvert_exporter": "python",
   "pygments_lexer": "ipython3",
   "version": "3.9.12"
  }
 },
 "nbformat": 4,
 "nbformat_minor": 5
}
